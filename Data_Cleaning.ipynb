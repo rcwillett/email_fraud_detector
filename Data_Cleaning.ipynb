{
 "cells": [
  {
   "cell_type": "markdown",
   "id": "40db824c",
   "metadata": {},
   "source": [
    "# Data Cleaning and Combining\n",
    "\n",
    "#### By Ross Willett"
   ]
  },
  {
   "cell_type": "markdown",
   "id": "c7949dff",
   "metadata": {},
   "source": [
    "In this file, data from various sources will be retrieved, combined and cleaned to produce a data set suitable for analysis and model building."
   ]
  },
  {
   "cell_type": "markdown",
   "id": "ac08cac9",
   "metadata": {},
   "source": [
    "## Retrieving and Analyzing Data"
   ]
  },
  {
   "cell_type": "code",
   "execution_count": 6,
   "id": "649d1207",
   "metadata": {},
   "outputs": [],
   "source": [
    "# Import data science libraries\n",
    "import pandas as pd\n",
    "import numpy as np\n",
    "\n",
    "# Import regex library\n",
    "import re\n",
    "\n",
    "# Import BeautifulSoup for HTML parsing and handling\n",
    "from bs4 import BeautifulSoup\n",
    "\n",
    "# Import NLTK for natural language processing\n",
    "import nltk"
   ]
  },
  {
   "cell_type": "code",
   "execution_count": 7,
   "id": "2edd2ddb",
   "metadata": {},
   "outputs": [],
   "source": [
    "# Configure Pandas to show all columns / rows\n",
    "pd.options.display.max_columns = 2000\n",
    "pd.options.display.max_rows = 2000"
   ]
  },
  {
   "cell_type": "markdown",
   "id": "e908ca9b",
   "metadata": {},
   "source": [
    "The first data set that will be examined for cleaning and use is the fraud_email_ data set. (Located at https://www.kaggle.com/datasets/pramodgupta92/fraud-email-datasets)"
   ]
  },
  {
   "cell_type": "code",
   "execution_count": 8,
   "id": "eefc1259",
   "metadata": {},
   "outputs": [
    {
     "name": "stdout",
     "output_type": "stream",
     "text": [
      "(11929, 2)\n",
      "<class 'pandas.core.frame.DataFrame'>\n",
      "RangeIndex: 11929 entries, 0 to 11928\n",
      "Data columns (total 2 columns):\n",
      " #   Column  Non-Null Count  Dtype \n",
      "---  ------  --------------  ----- \n",
      " 0   Text    11928 non-null  object\n",
      " 1   Class   11929 non-null  int64 \n",
      "dtypes: int64(1), object(1)\n",
      "memory usage: 186.5+ KB\n",
      "None\n"
     ]
    }
   ],
   "source": [
    "# Read data from fraud_email_ data set and look at shape and dataframe info\n",
    "fraud_df = pd.read_csv('./data/fraud_email_.csv')\n",
    "print(fraud_df.shape)\n",
    "print(fraud_df.info())"
   ]
  },
  {
   "cell_type": "code",
   "execution_count": 9,
   "id": "97787db9",
   "metadata": {},
   "outputs": [
    {
     "data": {
      "text/html": [
       "<div>\n",
       "<style scoped>\n",
       "    .dataframe tbody tr th:only-of-type {\n",
       "        vertical-align: middle;\n",
       "    }\n",
       "\n",
       "    .dataframe tbody tr th {\n",
       "        vertical-align: top;\n",
       "    }\n",
       "\n",
       "    .dataframe thead th {\n",
       "        text-align: right;\n",
       "    }\n",
       "</style>\n",
       "<table border=\"1\" class=\"dataframe\">\n",
       "  <thead>\n",
       "    <tr style=\"text-align: right;\">\n",
       "      <th></th>\n",
       "      <th>Text</th>\n",
       "      <th>Class</th>\n",
       "    </tr>\n",
       "  </thead>\n",
       "  <tbody>\n",
       "    <tr>\n",
       "      <th>0</th>\n",
       "      <td>Supply Quality China's EXCLUSIVE dimensions at...</td>\n",
       "      <td>1</td>\n",
       "    </tr>\n",
       "    <tr>\n",
       "      <th>1</th>\n",
       "      <td>over. SidLet me know. Thx.</td>\n",
       "      <td>0</td>\n",
       "    </tr>\n",
       "    <tr>\n",
       "      <th>2</th>\n",
       "      <td>Dear Friend,Greetings to you.I wish to accost ...</td>\n",
       "      <td>1</td>\n",
       "    </tr>\n",
       "    <tr>\n",
       "      <th>3</th>\n",
       "      <td>MR. CHEUNG PUIHANG SENG BANK LTD.DES VOEUX RD....</td>\n",
       "      <td>1</td>\n",
       "    </tr>\n",
       "    <tr>\n",
       "      <th>4</th>\n",
       "      <td>Not a surprising assessment from Embassy.</td>\n",
       "      <td>0</td>\n",
       "    </tr>\n",
       "  </tbody>\n",
       "</table>\n",
       "</div>"
      ],
      "text/plain": [
       "                                                Text  Class\n",
       "0  Supply Quality China's EXCLUSIVE dimensions at...      1\n",
       "1                         over. SidLet me know. Thx.      0\n",
       "2  Dear Friend,Greetings to you.I wish to accost ...      1\n",
       "3  MR. CHEUNG PUIHANG SENG BANK LTD.DES VOEUX RD....      1\n",
       "4          Not a surprising assessment from Embassy.      0"
      ]
     },
     "execution_count": 9,
     "metadata": {},
     "output_type": "execute_result"
    }
   ],
   "source": [
    "# Look at content of data\n",
    "fraud_df.head()"
   ]
  },
  {
   "cell_type": "code",
   "execution_count": 10,
   "id": "0a264c1c",
   "metadata": {},
   "outputs": [
    {
     "data": {
      "text/plain": [
       "0    6742\n",
       "1    5187\n",
       "Name: Class, dtype: int64"
      ]
     },
     "execution_count": 10,
     "metadata": {},
     "output_type": "execute_result"
    }
   ],
   "source": [
    "# Look at split between fraud and regular emails\n",
    "fraud_df['Class'].value_counts()"
   ]
  },
  {
   "cell_type": "markdown",
   "id": "7ed04267",
   "metadata": {},
   "source": [
    "Initial analysis of the fraud email data set reveals there is a sizable 11,929 rows of email text data with a classifier indicating whether the email the text was taken from was fraudulent or not. Although missing the email subject and from address is not ideal, this is a significant source of data which should be used in the data set."
   ]
  },
  {
   "cell_type": "markdown",
   "id": "5a07dcbe",
   "metadata": {},
   "source": [
    "The next data set that will be examined for use is the phishing_data_by_type data set. (Located at https://www.kaggle.com/datasets/charlottehall/phishing-email-data-by-type)"
   ]
  },
  {
   "cell_type": "code",
   "execution_count": 11,
   "id": "3c8efc69",
   "metadata": {},
   "outputs": [
    {
     "name": "stdout",
     "output_type": "stream",
     "text": [
      "(159, 3)\n",
      "<class 'pandas.core.frame.DataFrame'>\n",
      "RangeIndex: 159 entries, 0 to 158\n",
      "Data columns (total 3 columns):\n",
      " #   Column   Non-Null Count  Dtype \n",
      "---  ------   --------------  ----- \n",
      " 0   Subject  157 non-null    object\n",
      " 1   Text     159 non-null    object\n",
      " 2   Type     159 non-null    object\n",
      "dtypes: object(3)\n",
      "memory usage: 3.9+ KB\n",
      "None\n"
     ]
    }
   ],
   "source": [
    "# Pull the data set into a CSV and look at the shape and column info for the data frame\n",
    "fraud_2_df = pd.read_csv('./data/phishing_data_by_type.csv')\n",
    "print(fraud_2_df.shape)\n",
    "print(fraud_2_df.info())"
   ]
  },
  {
   "cell_type": "code",
   "execution_count": 12,
   "id": "b2b60d9b",
   "metadata": {
    "scrolled": true
   },
   "outputs": [
    {
     "data": {
      "text/html": [
       "<div>\n",
       "<style scoped>\n",
       "    .dataframe tbody tr th:only-of-type {\n",
       "        vertical-align: middle;\n",
       "    }\n",
       "\n",
       "    .dataframe tbody tr th {\n",
       "        vertical-align: top;\n",
       "    }\n",
       "\n",
       "    .dataframe thead th {\n",
       "        text-align: right;\n",
       "    }\n",
       "</style>\n",
       "<table border=\"1\" class=\"dataframe\">\n",
       "  <thead>\n",
       "    <tr style=\"text-align: right;\">\n",
       "      <th></th>\n",
       "      <th>Subject</th>\n",
       "      <th>Text</th>\n",
       "      <th>Type</th>\n",
       "    </tr>\n",
       "  </thead>\n",
       "  <tbody>\n",
       "    <tr>\n",
       "      <th>0</th>\n",
       "      <td>URGENT BUSINESS ASSISTANCE AND PARTNERSHIP</td>\n",
       "      <td>URGENT BUSINESS ASSISTANCE AND PARTNERSHIP.\\n\\...</td>\n",
       "      <td>Fraud</td>\n",
       "    </tr>\n",
       "    <tr>\n",
       "      <th>1</th>\n",
       "      <td>URGENT ASSISTANCE /RELATIONSHIP (P)</td>\n",
       "      <td>Dear Friend,\\n\\nI am Mr. Ben Suleman a custom ...</td>\n",
       "      <td>Fraud</td>\n",
       "    </tr>\n",
       "    <tr>\n",
       "      <th>2</th>\n",
       "      <td>GOOD DAY TO YOU</td>\n",
       "      <td>FROM HIS ROYAL MAJESTY (HRM) CROWN RULER OF EL...</td>\n",
       "      <td>Fraud</td>\n",
       "    </tr>\n",
       "    <tr>\n",
       "      <th>3</th>\n",
       "      <td>from Mrs.Johnson</td>\n",
       "      <td>Goodday Dear\\n\\n\\nI know this mail will come t...</td>\n",
       "      <td>Fraud</td>\n",
       "    </tr>\n",
       "    <tr>\n",
       "      <th>4</th>\n",
       "      <td>Co-Operation</td>\n",
       "      <td>FROM MR. GODWIN AKWESI\\nTEL: +233 208216645\\nF...</td>\n",
       "      <td>Fraud</td>\n",
       "    </tr>\n",
       "  </tbody>\n",
       "</table>\n",
       "</div>"
      ],
      "text/plain": [
       "                                      Subject  \\\n",
       "0  URGENT BUSINESS ASSISTANCE AND PARTNERSHIP   \n",
       "1         URGENT ASSISTANCE /RELATIONSHIP (P)   \n",
       "2                             GOOD DAY TO YOU   \n",
       "3                            from Mrs.Johnson   \n",
       "4                                Co-Operation   \n",
       "\n",
       "                                                Text   Type  \n",
       "0  URGENT BUSINESS ASSISTANCE AND PARTNERSHIP.\\n\\...  Fraud  \n",
       "1  Dear Friend,\\n\\nI am Mr. Ben Suleman a custom ...  Fraud  \n",
       "2  FROM HIS ROYAL MAJESTY (HRM) CROWN RULER OF EL...  Fraud  \n",
       "3  Goodday Dear\\n\\n\\nI know this mail will come t...  Fraud  \n",
       "4  FROM MR. GODWIN AKWESI\\nTEL: +233 208216645\\nF...  Fraud  "
      ]
     },
     "execution_count": 12,
     "metadata": {},
     "output_type": "execute_result"
    }
   ],
   "source": [
    "# Look at first few entries of data set\n",
    "fraud_2_df.head()"
   ]
  },
  {
   "cell_type": "code",
   "execution_count": 13,
   "id": "90144357",
   "metadata": {
    "scrolled": false
   },
   "outputs": [
    {
     "data": {
      "text/plain": [
       "Fraud               0.251572\n",
       "Phishing            0.251572\n",
       "Commercial Spam     0.251572\n",
       "False Positives     0.245283\n",
       "Name: Type, dtype: float64"
      ]
     },
     "execution_count": 13,
     "metadata": {},
     "output_type": "execute_result"
    }
   ],
   "source": [
    "# Look at the split for the content type\n",
    "fraud_2_df['Type'].value_counts(normalize=True)"
   ]
  },
  {
   "cell_type": "markdown",
   "id": "b8403fdb",
   "metadata": {},
   "source": [
    "This data set contains only 159 documents but appears to contain a decent diversity of both phishing and fraud emails. It isn't ideal that there are also commercial spam emails since this may create an additional challenge for the identifier. As such, this data set may have to undergo additional cleaning but is likely worth including."
   ]
  },
  {
   "cell_type": "markdown",
   "id": "1a33ce78",
   "metadata": {},
   "source": [
    "The next data set is composed of the content which was extracted from phishing email files retrieved from https://academictorrents.com/details/a77cda9a9d89a60dbdfbe581adf6e2df9197995a. The from, subject and content was extracted from all of the emails in each folder and compiled into one csv per folder. These files need to be compiled into a singular csv file."
   ]
  },
  {
   "cell_type": "code",
   "execution_count": 14,
   "id": "ae669935",
   "metadata": {},
   "outputs": [],
   "source": [
    "# Create array to append data frames with contents to\n",
    "phishing_extract_array = []\n",
    "# Iterate from 1 to 5 since there are that many phishing extract files\n",
    "for i in range(1, 5):\n",
    "    # Read the data from each phishing extract csv and put it into a data frame\n",
    "    phishing_extract = pd.read_csv(f'./data/phishing_extract_{i}.csv')\n",
    "    # Append the data frame to the array of data frames\n",
    "    phishing_extract_array.append(phishing_extract)\n",
    "\n",
    "# Create a data frame to store the combined data frames\n",
    "combined_phishing_extract_df = pd.concat(phishing_extract_array) \n",
    "# Drop duplicates in phishing extract data frame\n",
    "combined_phishing_extract_df.drop_duplicates(inplace=True)\n",
    "# Save phishing extract data frame to csv\n",
    "combined_phishing_extract_df.to_csv('./data/phishing_eml_extract_full.csv', index=False)"
   ]
  },
  {
   "cell_type": "code",
   "execution_count": 15,
   "id": "eb56db1b",
   "metadata": {
    "scrolled": false
   },
   "outputs": [
    {
     "name": "stdout",
     "output_type": "stream",
     "text": [
      "(2416, 3)\n"
     ]
    },
    {
     "data": {
      "text/html": [
       "<div>\n",
       "<style scoped>\n",
       "    .dataframe tbody tr th:only-of-type {\n",
       "        vertical-align: middle;\n",
       "    }\n",
       "\n",
       "    .dataframe tbody tr th {\n",
       "        vertical-align: top;\n",
       "    }\n",
       "\n",
       "    .dataframe thead th {\n",
       "        text-align: right;\n",
       "    }\n",
       "</style>\n",
       "<table border=\"1\" class=\"dataframe\">\n",
       "  <thead>\n",
       "    <tr style=\"text-align: right;\">\n",
       "      <th></th>\n",
       "      <th>from</th>\n",
       "      <th>subject</th>\n",
       "      <th>content</th>\n",
       "    </tr>\n",
       "  </thead>\n",
       "  <tbody>\n",
       "    <tr>\n",
       "      <th>0</th>\n",
       "      <td>PayPal &lt;billing@paypal.com&gt;</td>\n",
       "      <td>New Security Requirements</td>\n",
       "      <td>Dear valued PayPal member, Due to recent fraud...</td>\n",
       "    </tr>\n",
       "    <tr>\n",
       "      <th>1</th>\n",
       "      <td>\"F.C.U. Security Service\" &lt;service@ncua.gov&gt;</td>\n",
       "      <td>IMPORTANT: FCU Verification</td>\n",
       "      <td>Credit Union is constantly working to ensure s...</td>\n",
       "    </tr>\n",
       "    <tr>\n",
       "      <th>2</th>\n",
       "      <td>\"Credit Union Security Service\" &lt;anti-theft@nc...</td>\n",
       "      <td>Update Your CU Account Profile</td>\n",
       "      <td>Credit Union is constantly working to ensure s...</td>\n",
       "    </tr>\n",
       "    <tr>\n",
       "      <th>3</th>\n",
       "      <td>\"Encapsulates H. Colonize\" &lt;aw-confirm@02.ebay...</td>\n",
       "      <td>Jose, Update account information</td>\n",
       "      <td>Untitled Document Dear eBay Member, We regret ...</td>\n",
       "    </tr>\n",
       "    <tr>\n",
       "      <th>4</th>\n",
       "      <td>\"PayPal\" &lt;service@paypal.com&gt;</td>\n",
       "      <td>Your Account</td>\n",
       "      <td>Dear valued PayPal member, Due to recent fraud...</td>\n",
       "    </tr>\n",
       "    <tr>\n",
       "      <th>...</th>\n",
       "      <td>...</td>\n",
       "      <td>...</td>\n",
       "      <td>...</td>\n",
       "    </tr>\n",
       "    <tr>\n",
       "      <th>2411</th>\n",
       "      <td>technical services department &lt;noreply@commban...</td>\n",
       "      <td>Commonwealth Bank new security features activa...</td>\n",
       "      <td>logo Dear Commonwealth Bank customer Commonwea...</td>\n",
       "    </tr>\n",
       "    <tr>\n",
       "      <th>2412</th>\n",
       "      <td>\"National City\" &lt;clientservice.refU81316346910...</td>\n",
       "      <td>National City corporate customer service: impo...</td>\n",
       "      <td>Dear National City business client: The Nation...</td>\n",
       "    </tr>\n",
       "    <tr>\n",
       "      <th>2413</th>\n",
       "      <td>\"PayPal\"&lt;service@paypal.com&gt;</td>\n",
       "      <td>You have added a new email address to your acc...</td>\n",
       "      <td>Your account is limited PayPal is committed to...</td>\n",
       "    </tr>\n",
       "    <tr>\n",
       "      <th>2414</th>\n",
       "      <td>\"msc@nafcu.org\"&lt;msc@nafcu.org&gt;</td>\n",
       "      <td>Tbe direct membersbip association for federal ...</td>\n",
       "      <td>Dear NAFCU member, As part of our security mea...</td>\n",
       "    </tr>\n",
       "    <tr>\n",
       "      <th>2415</th>\n",
       "      <td>\"message\"&lt;support@securesite.com&gt;</td>\n",
       "      <td>Your payment has been sent to sales@configure....</td>\n",
       "      <td>Dear PayPal Member, This email confirms that y...</td>\n",
       "    </tr>\n",
       "  </tbody>\n",
       "</table>\n",
       "<p>2416 rows × 3 columns</p>\n",
       "</div>"
      ],
      "text/plain": [
       "                                                   from  \\\n",
       "0                           PayPal <billing@paypal.com>   \n",
       "1          \"F.C.U. Security Service\" <service@ncua.gov>   \n",
       "2     \"Credit Union Security Service\" <anti-theft@nc...   \n",
       "3     \"Encapsulates H. Colonize\" <aw-confirm@02.ebay...   \n",
       "4                         \"PayPal\" <service@paypal.com>   \n",
       "...                                                 ...   \n",
       "2411  technical services department <noreply@commban...   \n",
       "2412  \"National City\" <clientservice.refU81316346910...   \n",
       "2413                       \"PayPal\"<service@paypal.com>   \n",
       "2414                     \"msc@nafcu.org\"<msc@nafcu.org>   \n",
       "2415                  \"message\"<support@securesite.com>   \n",
       "\n",
       "                                                subject  \\\n",
       "0                             New Security Requirements   \n",
       "1                           IMPORTANT: FCU Verification   \n",
       "2                        Update Your CU Account Profile   \n",
       "3                      Jose, Update account information   \n",
       "4                                          Your Account   \n",
       "...                                                 ...   \n",
       "2411  Commonwealth Bank new security features activa...   \n",
       "2412  National City corporate customer service: impo...   \n",
       "2413  You have added a new email address to your acc...   \n",
       "2414  Tbe direct membersbip association for federal ...   \n",
       "2415  Your payment has been sent to sales@configure....   \n",
       "\n",
       "                                                content  \n",
       "0     Dear valued PayPal member, Due to recent fraud...  \n",
       "1     Credit Union is constantly working to ensure s...  \n",
       "2     Credit Union is constantly working to ensure s...  \n",
       "3     Untitled Document Dear eBay Member, We regret ...  \n",
       "4     Dear valued PayPal member, Due to recent fraud...  \n",
       "...                                                 ...  \n",
       "2411  logo Dear Commonwealth Bank customer Commonwea...  \n",
       "2412  Dear National City business client: The Nation...  \n",
       "2413  Your account is limited PayPal is committed to...  \n",
       "2414  Dear NAFCU member, As part of our security mea...  \n",
       "2415  Dear PayPal Member, This email confirms that y...  \n",
       "\n",
       "[2416 rows x 3 columns]"
      ]
     },
     "metadata": {},
     "output_type": "display_data"
    }
   ],
   "source": [
    "# Read all phishing data from the saved csv into a data frame\n",
    "phishing_extract_df = pd.read_csv('./data/phishing_eml_extract_full.csv')\n",
    "# Look at data frame shape\n",
    "print(phishing_extract_df.shape)\n",
    "# Display data frame content\n",
    "display(phishing_extract_df)"
   ]
  },
  {
   "cell_type": "markdown",
   "id": "7ba3d371",
   "metadata": {},
   "source": [
    "The data from the extracted emails includes 2,416 documents including a from address, a subject and the email content entirely consisting of phishing emails. This will prove to be a useful sample for the complete data set."
   ]
  },
  {
   "cell_type": "markdown",
   "id": "af5dc4a9",
   "metadata": {},
   "source": [
    "The next data set is composed of the content which was extracted from ham email files retrieved from the Apache \"Spam Assassin\" corpus located [here](https://spamassassin.apache.org/old/publiccorpus/). The from, subject and content was extracted from all of the emails in each folder and compiled into one csv per folder. These files need to be compiled into a singular csv file."
   ]
  },
  {
   "cell_type": "code",
   "execution_count": 16,
   "id": "f8514f67",
   "metadata": {},
   "outputs": [],
   "source": [
    "# Create array to store extracted data frames to\n",
    "ham_extract_array = []\n",
    "# Iterate over the number of csvs the data was separately stored in\n",
    "for i in range(1, 4):\n",
    "    # Read the data from each csv into a data frame\n",
    "    ham_extract = pd.read_csv(f'./data/ham_extract_{i}.csv')\n",
    "    # Append the data frame to the array of data frames\n",
    "    ham_extract_array.append(ham_extract)\n",
    "\n",
    "# Combine all the data frames into a singular one\n",
    "combined_ham_extract_df = pd.concat(ham_extract_array)\n",
    "# Remove all duplicate data frames\n",
    "combined_ham_extract_df.drop_duplicates(inplace=True)\n",
    "# Save the combined data frame to a csv file\n",
    "combined_ham_extract_df.to_csv('./data/ham_eml_extract_full.csv', index=False)"
   ]
  },
  {
   "cell_type": "code",
   "execution_count": 17,
   "id": "123d5603",
   "metadata": {
    "scrolled": true
   },
   "outputs": [
    {
     "name": "stdout",
     "output_type": "stream",
     "text": [
      "(3303, 3)\n"
     ]
    },
    {
     "data": {
      "text/html": [
       "<div>\n",
       "<style scoped>\n",
       "    .dataframe tbody tr th:only-of-type {\n",
       "        vertical-align: middle;\n",
       "    }\n",
       "\n",
       "    .dataframe tbody tr th {\n",
       "        vertical-align: top;\n",
       "    }\n",
       "\n",
       "    .dataframe thead th {\n",
       "        text-align: right;\n",
       "    }\n",
       "</style>\n",
       "<table border=\"1\" class=\"dataframe\">\n",
       "  <thead>\n",
       "    <tr style=\"text-align: right;\">\n",
       "      <th></th>\n",
       "      <th>from</th>\n",
       "      <th>subject</th>\n",
       "      <th>content</th>\n",
       "    </tr>\n",
       "  </thead>\n",
       "  <tbody>\n",
       "    <tr>\n",
       "      <th>0</th>\n",
       "      <td>\"Stephen D. Williams\" &lt;sdw@lig.net&gt;</td>\n",
       "      <td>Re: ActiveBuddy</td>\n",
       "      <td>I actually thought of this kind of active chat...</td>\n",
       "    </tr>\n",
       "    <tr>\n",
       "      <th>1</th>\n",
       "      <td>Harri Haataja &lt;harri.haataja@cs.Helsinki.FI&gt;</td>\n",
       "      <td>Re: About apt, kernel updates and dist-upgrade</td>\n",
       "      <td>I actually thought of this kind of active chat...</td>\n",
       "    </tr>\n",
       "    <tr>\n",
       "      <th>2</th>\n",
       "      <td>\"Mr. FoRK\" &lt;fork_list@hotmail.com&gt;</td>\n",
       "      <td>Am I This Or Not?</td>\n",
       "      <td>I actually thought of this kind of active chat...</td>\n",
       "    </tr>\n",
       "    <tr>\n",
       "      <th>3</th>\n",
       "      <td>Owen Byrne &lt;owen@permafrost.net&gt;</td>\n",
       "      <td>Re: Hanson's Sept 11 message in the National R...</td>\n",
       "      <td>I actually thought of this kind of active chat...</td>\n",
       "    </tr>\n",
       "    <tr>\n",
       "      <th>4</th>\n",
       "      <td>Matt Sergeant &lt;msergeant@startechgroup.co.uk&gt;</td>\n",
       "      <td>Re: [SAtalk] SA very slow (hangs?) on this mes...</td>\n",
       "      <td>I actually thought of this kind of active chat...</td>\n",
       "    </tr>\n",
       "    <tr>\n",
       "      <th>...</th>\n",
       "      <td>...</td>\n",
       "      <td>...</td>\n",
       "      <td>...</td>\n",
       "    </tr>\n",
       "    <tr>\n",
       "      <th>3298</th>\n",
       "      <td>QuickTime News &lt;quicktime_news@applenews.lists...</td>\n",
       "      <td>QuickTime News: July 26, 2002</td>\n",
       "      <td>You appear to be using an email application th...</td>\n",
       "    </tr>\n",
       "    <tr>\n",
       "      <th>3299</th>\n",
       "      <td>\"CNET News.com Investor\" &lt;Online#3.20504.8b-ao...</td>\n",
       "      <td>NEWS.COM INVESTOR: Techs lose again with Seibe...</td>\n",
       "      <td>CNET Investor Dispatch Quote LookupEnter symbo...</td>\n",
       "    </tr>\n",
       "    <tr>\n",
       "      <th>3300</th>\n",
       "      <td>update@list.theregister.co.uk</td>\n",
       "      <td>Reg Headlines Friday July 19</td>\n",
       "      <td>Todays Headlines from The Register -----------...</td>\n",
       "    </tr>\n",
       "    <tr>\n",
       "      <th>3301</th>\n",
       "      <td>\"sdowns@snet.net\" &lt;sdowns@snet.net&gt;</td>\n",
       "      <td>[GHSclassof1977] Boneheads</td>\n",
       "      <td>Hi Everyone, There seem to be several bonehead...</td>\n",
       "    </tr>\n",
       "    <tr>\n",
       "      <th>3302</th>\n",
       "      <td>CNET CatchUp &lt;Online#3.20359.74-k8cCgc95N6xNP9...</td>\n",
       "      <td>CNET: A note to our subscribers</td>\n",
       "      <td>CNET CatchUp Dispatch CNET: A note to our subs...</td>\n",
       "    </tr>\n",
       "  </tbody>\n",
       "</table>\n",
       "<p>3303 rows × 3 columns</p>\n",
       "</div>"
      ],
      "text/plain": [
       "                                                   from  \\\n",
       "0                   \"Stephen D. Williams\" <sdw@lig.net>   \n",
       "1          Harri Haataja <harri.haataja@cs.Helsinki.FI>   \n",
       "2                    \"Mr. FoRK\" <fork_list@hotmail.com>   \n",
       "3                      Owen Byrne <owen@permafrost.net>   \n",
       "4         Matt Sergeant <msergeant@startechgroup.co.uk>   \n",
       "...                                                 ...   \n",
       "3298  QuickTime News <quicktime_news@applenews.lists...   \n",
       "3299  \"CNET News.com Investor\" <Online#3.20504.8b-ao...   \n",
       "3300                      update@list.theregister.co.uk   \n",
       "3301                \"sdowns@snet.net\" <sdowns@snet.net>   \n",
       "3302  CNET CatchUp <Online#3.20359.74-k8cCgc95N6xNP9...   \n",
       "\n",
       "                                                subject  \\\n",
       "0                                       Re: ActiveBuddy   \n",
       "1        Re: About apt, kernel updates and dist-upgrade   \n",
       "2                                     Am I This Or Not?   \n",
       "3     Re: Hanson's Sept 11 message in the National R...   \n",
       "4     Re: [SAtalk] SA very slow (hangs?) on this mes...   \n",
       "...                                                 ...   \n",
       "3298                      QuickTime News: July 26, 2002   \n",
       "3299  NEWS.COM INVESTOR: Techs lose again with Seibe...   \n",
       "3300                       Reg Headlines Friday July 19   \n",
       "3301                         [GHSclassof1977] Boneheads   \n",
       "3302                    CNET: A note to our subscribers   \n",
       "\n",
       "                                                content  \n",
       "0     I actually thought of this kind of active chat...  \n",
       "1     I actually thought of this kind of active chat...  \n",
       "2     I actually thought of this kind of active chat...  \n",
       "3     I actually thought of this kind of active chat...  \n",
       "4     I actually thought of this kind of active chat...  \n",
       "...                                                 ...  \n",
       "3298  You appear to be using an email application th...  \n",
       "3299  CNET Investor Dispatch Quote LookupEnter symbo...  \n",
       "3300  Todays Headlines from The Register -----------...  \n",
       "3301  Hi Everyone, There seem to be several bonehead...  \n",
       "3302  CNET CatchUp Dispatch CNET: A note to our subs...  \n",
       "\n",
       "[3303 rows x 3 columns]"
      ]
     },
     "metadata": {},
     "output_type": "display_data"
    }
   ],
   "source": [
    "# Load the combined data from a csv into a data frame\n",
    "combined_ham_extract_df = pd.read_csv('./data/ham_eml_extract_full.csv')\n",
    "# Display the shape and content of the data frame\n",
    "print(combined_ham_extract_df.shape)\n",
    "display(combined_ham_extract_df)"
   ]
  },
  {
   "cell_type": "markdown",
   "id": "317d0277",
   "metadata": {},
   "source": [
    "The data from the extracted emails includes 2,416 documents including a from address, a subject and the email content entirely consisting of \"ham\" emails. This will prove to be a useful source of data for the combined data set."
   ]
  },
  {
   "cell_type": "markdown",
   "id": "b8d288d1",
   "metadata": {},
   "source": [
    "## Data Frame Cleaning"
   ]
  },
  {
   "cell_type": "markdown",
   "id": "65178afd",
   "metadata": {},
   "source": [
    "Now that the data sets have been acquired and cursorily examined, the next step will be to format them in the same manner and combine them into a singular data set for further cleaning and analysis. Since the data is largely composed of documents that only have a flag indicating fraud and the content (77% of all data), the final data set should be composed of content and a flag indicating fraud. Given this, all the data sets will be transformed to a standard format with a `content` column with the email text and a `fraud` column with a 1 or 0 flag indicating whether it is fraud or not."
   ]
  },
  {
   "cell_type": "code",
   "execution_count": 18,
   "id": "c63f6d61",
   "metadata": {},
   "outputs": [],
   "source": [
    "# Initialize clean data frame for first data set\n",
    "fraud_clean_df = pd.DataFrame()"
   ]
  },
  {
   "cell_type": "code",
   "execution_count": 19,
   "id": "f62ed280",
   "metadata": {},
   "outputs": [],
   "source": [
    "# Set 'content' column for clean data frame\n",
    "fraud_clean_df['content'] = fraud_df['Text']\n",
    "# Set 'fraud' column for clean data frame\n",
    "fraud_clean_df['fraud'] = np.where(\n",
    "    fraud_df['Class'] == 1,\n",
    "    1,\n",
    "    0\n",
    ")"
   ]
  },
  {
   "cell_type": "code",
   "execution_count": 20,
   "id": "88024478",
   "metadata": {
    "scrolled": true
   },
   "outputs": [
    {
     "data": {
      "text/html": [
       "<div>\n",
       "<style scoped>\n",
       "    .dataframe tbody tr th:only-of-type {\n",
       "        vertical-align: middle;\n",
       "    }\n",
       "\n",
       "    .dataframe tbody tr th {\n",
       "        vertical-align: top;\n",
       "    }\n",
       "\n",
       "    .dataframe thead th {\n",
       "        text-align: right;\n",
       "    }\n",
       "</style>\n",
       "<table border=\"1\" class=\"dataframe\">\n",
       "  <thead>\n",
       "    <tr style=\"text-align: right;\">\n",
       "      <th></th>\n",
       "      <th>content</th>\n",
       "      <th>fraud</th>\n",
       "    </tr>\n",
       "  </thead>\n",
       "  <tbody>\n",
       "    <tr>\n",
       "      <th>0</th>\n",
       "      <td>Supply Quality China's EXCLUSIVE dimensions at...</td>\n",
       "      <td>1</td>\n",
       "    </tr>\n",
       "    <tr>\n",
       "      <th>1</th>\n",
       "      <td>over. SidLet me know. Thx.</td>\n",
       "      <td>0</td>\n",
       "    </tr>\n",
       "    <tr>\n",
       "      <th>2</th>\n",
       "      <td>Dear Friend,Greetings to you.I wish to accost ...</td>\n",
       "      <td>1</td>\n",
       "    </tr>\n",
       "    <tr>\n",
       "      <th>3</th>\n",
       "      <td>MR. CHEUNG PUIHANG SENG BANK LTD.DES VOEUX RD....</td>\n",
       "      <td>1</td>\n",
       "    </tr>\n",
       "    <tr>\n",
       "      <th>4</th>\n",
       "      <td>Not a surprising assessment from Embassy.</td>\n",
       "      <td>0</td>\n",
       "    </tr>\n",
       "  </tbody>\n",
       "</table>\n",
       "</div>"
      ],
      "text/plain": [
       "                                             content  fraud\n",
       "0  Supply Quality China's EXCLUSIVE dimensions at...      1\n",
       "1                         over. SidLet me know. Thx.      0\n",
       "2  Dear Friend,Greetings to you.I wish to accost ...      1\n",
       "3  MR. CHEUNG PUIHANG SENG BANK LTD.DES VOEUX RD....      1\n",
       "4          Not a surprising assessment from Embassy.      0"
      ]
     },
     "execution_count": 20,
     "metadata": {},
     "output_type": "execute_result"
    }
   ],
   "source": [
    "# Examine the contents of the clean data frame\n",
    "fraud_clean_df.head()"
   ]
  },
  {
   "cell_type": "markdown",
   "id": "316db21a",
   "metadata": {},
   "source": [
    "In the second data set there is a mix of fraud, phishing, ham and commercial spam email types. The commercial spam will be removed from the data set as this type doesn't strictly fall into either the ham or fraud category and will likely only make identification more difficult for any models trained on this data."
   ]
  },
  {
   "cell_type": "code",
   "execution_count": 23,
   "id": "3903866f",
   "metadata": {
    "scrolled": true
   },
   "outputs": [
    {
     "data": {
      "text/html": [
       "<div>\n",
       "<style scoped>\n",
       "    .dataframe tbody tr th:only-of-type {\n",
       "        vertical-align: middle;\n",
       "    }\n",
       "\n",
       "    .dataframe tbody tr th {\n",
       "        vertical-align: top;\n",
       "    }\n",
       "\n",
       "    .dataframe thead th {\n",
       "        text-align: right;\n",
       "    }\n",
       "</style>\n",
       "<table border=\"1\" class=\"dataframe\">\n",
       "  <thead>\n",
       "    <tr style=\"text-align: right;\">\n",
       "      <th></th>\n",
       "      <th>Subject</th>\n",
       "      <th>Text</th>\n",
       "      <th>Type</th>\n",
       "    </tr>\n",
       "  </thead>\n",
       "  <tbody>\n",
       "    <tr>\n",
       "      <th>0</th>\n",
       "      <td>URGENT BUSINESS ASSISTANCE AND PARTNERSHIP</td>\n",
       "      <td>URGENT BUSINESS ASSISTANCE AND PARTNERSHIP.\\n\\...</td>\n",
       "      <td>Fraud</td>\n",
       "    </tr>\n",
       "    <tr>\n",
       "      <th>1</th>\n",
       "      <td>URGENT ASSISTANCE /RELATIONSHIP (P)</td>\n",
       "      <td>Dear Friend,\\n\\nI am Mr. Ben Suleman a custom ...</td>\n",
       "      <td>Fraud</td>\n",
       "    </tr>\n",
       "    <tr>\n",
       "      <th>2</th>\n",
       "      <td>GOOD DAY TO YOU</td>\n",
       "      <td>FROM HIS ROYAL MAJESTY (HRM) CROWN RULER OF EL...</td>\n",
       "      <td>Fraud</td>\n",
       "    </tr>\n",
       "    <tr>\n",
       "      <th>3</th>\n",
       "      <td>from Mrs.Johnson</td>\n",
       "      <td>Goodday Dear\\n\\n\\nI know this mail will come t...</td>\n",
       "      <td>Fraud</td>\n",
       "    </tr>\n",
       "    <tr>\n",
       "      <th>4</th>\n",
       "      <td>Co-Operation</td>\n",
       "      <td>FROM MR. GODWIN AKWESI\\nTEL: +233 208216645\\nF...</td>\n",
       "      <td>Fraud</td>\n",
       "    </tr>\n",
       "  </tbody>\n",
       "</table>\n",
       "</div>"
      ],
      "text/plain": [
       "                                      Subject  \\\n",
       "0  URGENT BUSINESS ASSISTANCE AND PARTNERSHIP   \n",
       "1         URGENT ASSISTANCE /RELATIONSHIP (P)   \n",
       "2                             GOOD DAY TO YOU   \n",
       "3                            from Mrs.Johnson   \n",
       "4                                Co-Operation   \n",
       "\n",
       "                                                Text   Type  \n",
       "0  URGENT BUSINESS ASSISTANCE AND PARTNERSHIP.\\n\\...  Fraud  \n",
       "1  Dear Friend,\\n\\nI am Mr. Ben Suleman a custom ...  Fraud  \n",
       "2  FROM HIS ROYAL MAJESTY (HRM) CROWN RULER OF EL...  Fraud  \n",
       "3  Goodday Dear\\n\\n\\nI know this mail will come t...  Fraud  \n",
       "4  FROM MR. GODWIN AKWESI\\nTEL: +233 208216645\\nF...  Fraud  "
      ]
     },
     "execution_count": 23,
     "metadata": {},
     "output_type": "execute_result"
    }
   ],
   "source": [
    "# Examine the data contained in the second fraud data set\n",
    "fraud_2_df.head()"
   ]
  },
  {
   "cell_type": "code",
   "execution_count": 24,
   "id": "013fdb8b",
   "metadata": {},
   "outputs": [],
   "source": [
    "# Initialize the data frame to store the cleaned data from the second data set in\n",
    "fraud_2_clean_df = pd.DataFrame()\n",
    "# Set the content column to the text of the second data set\n",
    "fraud_2_clean_df['content'] = fraud_2_df['Text']\n",
    "# Set a 'fraud' column flagging the fraud vs normal emails from the fraud data set\n",
    "fraud_2_clean_df['fraud'] = np.where(\n",
    "    (fraud_2_df['Type'] == 'Fraud') | (fraud_2_df['Type'] == 'Phishing'),\n",
    "    1,\n",
    "    0\n",
    ")\n",
    "# Remove the data identified as 'Commercial Spam' from the data set\n",
    "fraud_2_clean_df = fraud_2_clean_df[fraud_2_df['Type'] != 'Commercial Spam']"
   ]
  },
  {
   "cell_type": "code",
   "execution_count": 25,
   "id": "43c215de",
   "metadata": {
    "scrolled": true
   },
   "outputs": [
    {
     "data": {
      "text/html": [
       "<div>\n",
       "<style scoped>\n",
       "    .dataframe tbody tr th:only-of-type {\n",
       "        vertical-align: middle;\n",
       "    }\n",
       "\n",
       "    .dataframe tbody tr th {\n",
       "        vertical-align: top;\n",
       "    }\n",
       "\n",
       "    .dataframe thead th {\n",
       "        text-align: right;\n",
       "    }\n",
       "</style>\n",
       "<table border=\"1\" class=\"dataframe\">\n",
       "  <thead>\n",
       "    <tr style=\"text-align: right;\">\n",
       "      <th></th>\n",
       "      <th>content</th>\n",
       "      <th>fraud</th>\n",
       "    </tr>\n",
       "  </thead>\n",
       "  <tbody>\n",
       "    <tr>\n",
       "      <th>0</th>\n",
       "      <td>URGENT BUSINESS ASSISTANCE AND PARTNERSHIP.\\n\\...</td>\n",
       "      <td>1</td>\n",
       "    </tr>\n",
       "    <tr>\n",
       "      <th>1</th>\n",
       "      <td>Dear Friend,\\n\\nI am Mr. Ben Suleman a custom ...</td>\n",
       "      <td>1</td>\n",
       "    </tr>\n",
       "    <tr>\n",
       "      <th>2</th>\n",
       "      <td>FROM HIS ROYAL MAJESTY (HRM) CROWN RULER OF EL...</td>\n",
       "      <td>1</td>\n",
       "    </tr>\n",
       "    <tr>\n",
       "      <th>3</th>\n",
       "      <td>Goodday Dear\\n\\n\\nI know this mail will come t...</td>\n",
       "      <td>1</td>\n",
       "    </tr>\n",
       "    <tr>\n",
       "      <th>4</th>\n",
       "      <td>FROM MR. GODWIN AKWESI\\nTEL: +233 208216645\\nF...</td>\n",
       "      <td>1</td>\n",
       "    </tr>\n",
       "  </tbody>\n",
       "</table>\n",
       "</div>"
      ],
      "text/plain": [
       "                                             content  fraud\n",
       "0  URGENT BUSINESS ASSISTANCE AND PARTNERSHIP.\\n\\...      1\n",
       "1  Dear Friend,\\n\\nI am Mr. Ben Suleman a custom ...      1\n",
       "2  FROM HIS ROYAL MAJESTY (HRM) CROWN RULER OF EL...      1\n",
       "3  Goodday Dear\\n\\n\\nI know this mail will come t...      1\n",
       "4  FROM MR. GODWIN AKWESI\\nTEL: +233 208216645\\nF...      1"
      ]
     },
     "execution_count": 25,
     "metadata": {},
     "output_type": "execute_result"
    }
   ],
   "source": [
    "# Examine content of cleaned data\n",
    "fraud_2_clean_df.head()"
   ]
  },
  {
   "cell_type": "markdown",
   "id": "0ef31afe",
   "metadata": {},
   "source": [
    "All the data from the phishing email collection can be classified as fraud and all columns except the email text content dropped."
   ]
  },
  {
   "cell_type": "code",
   "execution_count": 28,
   "id": "2cd7e573",
   "metadata": {},
   "outputs": [],
   "source": [
    "# Initialize new clean data frame\n",
    "fraud_3_clean_df = pd.DataFrame()\n",
    "# Assign the 'content' of the new data frame to the text content of the phishing data frame\n",
    "fraud_3_clean_df['content'] = phishing_extract_df['content']\n",
    "# Set the fraud column to 1 for this data frame since all entries are fraudulent\n",
    "fraud_3_clean_df['fraud'] = 1"
   ]
  },
  {
   "cell_type": "code",
   "execution_count": 29,
   "id": "9f7589b4",
   "metadata": {},
   "outputs": [
    {
     "data": {
      "text/html": [
       "<div>\n",
       "<style scoped>\n",
       "    .dataframe tbody tr th:only-of-type {\n",
       "        vertical-align: middle;\n",
       "    }\n",
       "\n",
       "    .dataframe tbody tr th {\n",
       "        vertical-align: top;\n",
       "    }\n",
       "\n",
       "    .dataframe thead th {\n",
       "        text-align: right;\n",
       "    }\n",
       "</style>\n",
       "<table border=\"1\" class=\"dataframe\">\n",
       "  <thead>\n",
       "    <tr style=\"text-align: right;\">\n",
       "      <th></th>\n",
       "      <th>content</th>\n",
       "      <th>fraud</th>\n",
       "    </tr>\n",
       "  </thead>\n",
       "  <tbody>\n",
       "    <tr>\n",
       "      <th>0</th>\n",
       "      <td>Dear valued PayPal member, Due to recent fraud...</td>\n",
       "      <td>1</td>\n",
       "    </tr>\n",
       "    <tr>\n",
       "      <th>1</th>\n",
       "      <td>Credit Union is constantly working to ensure s...</td>\n",
       "      <td>1</td>\n",
       "    </tr>\n",
       "    <tr>\n",
       "      <th>2</th>\n",
       "      <td>Credit Union is constantly working to ensure s...</td>\n",
       "      <td>1</td>\n",
       "    </tr>\n",
       "    <tr>\n",
       "      <th>3</th>\n",
       "      <td>Untitled Document Dear eBay Member, We regret ...</td>\n",
       "      <td>1</td>\n",
       "    </tr>\n",
       "    <tr>\n",
       "      <th>4</th>\n",
       "      <td>Dear valued PayPal member, Due to recent fraud...</td>\n",
       "      <td>1</td>\n",
       "    </tr>\n",
       "  </tbody>\n",
       "</table>\n",
       "</div>"
      ],
      "text/plain": [
       "                                             content  fraud\n",
       "0  Dear valued PayPal member, Due to recent fraud...      1\n",
       "1  Credit Union is constantly working to ensure s...      1\n",
       "2  Credit Union is constantly working to ensure s...      1\n",
       "3  Untitled Document Dear eBay Member, We regret ...      1\n",
       "4  Dear valued PayPal member, Due to recent fraud...      1"
      ]
     },
     "execution_count": 29,
     "metadata": {},
     "output_type": "execute_result"
    }
   ],
   "source": [
    "# Examine the content of the new data frame\n",
    "fraud_3_clean_df.head()"
   ]
  },
  {
   "cell_type": "markdown",
   "id": "36e6e652",
   "metadata": {},
   "source": [
    "All the data from the ham email collection can be classified as not fraud and all columns except the email text content dropped."
   ]
  },
  {
   "cell_type": "code",
   "execution_count": 30,
   "id": "e797cad8",
   "metadata": {},
   "outputs": [],
   "source": [
    "# Initialize new clean data frame\n",
    "fraud_4_clean_df = pd.DataFrame()\n",
    "# Assign the 'content' of the new data frame to the text content of the phishing data frame\n",
    "fraud_4_clean_df['content'] = combined_ham_extract_df['content']\n",
    "# Set the fraud column to 0 for this data frame since all entries are ham\n",
    "fraud_4_clean_df['fraud'] = 0"
   ]
  },
  {
   "cell_type": "markdown",
   "id": "8e10abf2",
   "metadata": {},
   "source": [
    "Now that all the data has been put into data frames with a consistent format and flagged, they can be combined for further cleaning and processing."
   ]
  },
  {
   "cell_type": "code",
   "execution_count": 57,
   "id": "3d3b94ef",
   "metadata": {},
   "outputs": [],
   "source": [
    "# Assign a new data frame to the combined contents of all the cleaned data frames\n",
    "fraud_all_df = pd.concat([\n",
    "    fraud_clean_df,\n",
    "    fraud_2_clean_df,\n",
    "    fraud_3_clean_df,\n",
    "    fraud_4_clean_df\n",
    "], ignore_index=True)"
   ]
  },
  {
   "cell_type": "code",
   "execution_count": 58,
   "id": "b4bbf454",
   "metadata": {},
   "outputs": [],
   "source": [
    "# Remove all NA values from the new data frame\n",
    "fraud_all_df.dropna(inplace=True)"
   ]
  },
  {
   "cell_type": "code",
   "execution_count": 59,
   "id": "0fc9f34e",
   "metadata": {
    "scrolled": true
   },
   "outputs": [
    {
     "data": {
      "text/html": [
       "<div>\n",
       "<style scoped>\n",
       "    .dataframe tbody tr th:only-of-type {\n",
       "        vertical-align: middle;\n",
       "    }\n",
       "\n",
       "    .dataframe tbody tr th {\n",
       "        vertical-align: top;\n",
       "    }\n",
       "\n",
       "    .dataframe thead th {\n",
       "        text-align: right;\n",
       "    }\n",
       "</style>\n",
       "<table border=\"1\" class=\"dataframe\">\n",
       "  <thead>\n",
       "    <tr style=\"text-align: right;\">\n",
       "      <th></th>\n",
       "      <th>content</th>\n",
       "      <th>fraud</th>\n",
       "    </tr>\n",
       "  </thead>\n",
       "  <tbody>\n",
       "    <tr>\n",
       "      <th>0</th>\n",
       "      <td>Supply Quality China's EXCLUSIVE dimensions at...</td>\n",
       "      <td>1</td>\n",
       "    </tr>\n",
       "    <tr>\n",
       "      <th>1</th>\n",
       "      <td>over. SidLet me know. Thx.</td>\n",
       "      <td>0</td>\n",
       "    </tr>\n",
       "    <tr>\n",
       "      <th>2</th>\n",
       "      <td>Dear Friend,Greetings to you.I wish to accost ...</td>\n",
       "      <td>1</td>\n",
       "    </tr>\n",
       "    <tr>\n",
       "      <th>3</th>\n",
       "      <td>MR. CHEUNG PUIHANG SENG BANK LTD.DES VOEUX RD....</td>\n",
       "      <td>1</td>\n",
       "    </tr>\n",
       "    <tr>\n",
       "      <th>4</th>\n",
       "      <td>Not a surprising assessment from Embassy.</td>\n",
       "      <td>0</td>\n",
       "    </tr>\n",
       "    <tr>\n",
       "      <th>...</th>\n",
       "      <td>...</td>\n",
       "      <td>...</td>\n",
       "    </tr>\n",
       "    <tr>\n",
       "      <th>17762</th>\n",
       "      <td>You appear to be using an email application th...</td>\n",
       "      <td>0</td>\n",
       "    </tr>\n",
       "    <tr>\n",
       "      <th>17763</th>\n",
       "      <td>CNET Investor Dispatch Quote LookupEnter symbo...</td>\n",
       "      <td>0</td>\n",
       "    </tr>\n",
       "    <tr>\n",
       "      <th>17764</th>\n",
       "      <td>Todays Headlines from The Register -----------...</td>\n",
       "      <td>0</td>\n",
       "    </tr>\n",
       "    <tr>\n",
       "      <th>17765</th>\n",
       "      <td>Hi Everyone, There seem to be several bonehead...</td>\n",
       "      <td>0</td>\n",
       "    </tr>\n",
       "    <tr>\n",
       "      <th>17766</th>\n",
       "      <td>CNET CatchUp Dispatch CNET: A note to our subs...</td>\n",
       "      <td>0</td>\n",
       "    </tr>\n",
       "  </tbody>\n",
       "</table>\n",
       "<p>17747 rows × 2 columns</p>\n",
       "</div>"
      ],
      "text/plain": [
       "                                                 content  fraud\n",
       "0      Supply Quality China's EXCLUSIVE dimensions at...      1\n",
       "1                             over. SidLet me know. Thx.      0\n",
       "2      Dear Friend,Greetings to you.I wish to accost ...      1\n",
       "3      MR. CHEUNG PUIHANG SENG BANK LTD.DES VOEUX RD....      1\n",
       "4              Not a surprising assessment from Embassy.      0\n",
       "...                                                  ...    ...\n",
       "17762  You appear to be using an email application th...      0\n",
       "17763  CNET Investor Dispatch Quote LookupEnter symbo...      0\n",
       "17764  Todays Headlines from The Register -----------...      0\n",
       "17765  Hi Everyone, There seem to be several bonehead...      0\n",
       "17766  CNET CatchUp Dispatch CNET: A note to our subs...      0\n",
       "\n",
       "[17747 rows x 2 columns]"
      ]
     },
     "metadata": {},
     "output_type": "display_data"
    }
   ],
   "source": [
    "# Look at the content of the combined data frame\n",
    "display(fraud_all_df)"
   ]
  },
  {
   "cell_type": "markdown",
   "id": "a1c4701c",
   "metadata": {},
   "source": [
    "Now that the data frame has been combined, several functions should be instantiated to perform additional cleaning and formatting. After inspecting the data frame contents, it became clear that the text content of some emails contains HTML. The text content should be extracted from the HTML content in these emails and to this end a function should be made to do so."
   ]
  },
  {
   "cell_type": "code",
   "execution_count": 60,
   "id": "0a6cd5b5",
   "metadata": {},
   "outputs": [],
   "source": [
    "# Defines a function to extract text content from strings with HTML\n",
    "def extract_HTML_text(html):\n",
    "    '''\n",
    "    Accepts text content containing HTML and returns only the text content of the HMTML\n",
    "    \n",
    "    Parameters\n",
    "    ----------\n",
    "    html: A string which contains HTML encoded content\n",
    "    \n",
    "    Returns\n",
    "    ----------\n",
    "    Ret: A string which contains only the text from the HTML encoded content\n",
    "    \n",
    "    Example\n",
    "    ----------\n",
    "    >>>> extract_HTML_text('<div>Text</div>')\n",
    "    Text\n",
    "    '''\n",
    "    # Instantiate a BeautifulSoup object from the html string using BeautifulSoup\n",
    "    soup = BeautifulSoup(html, features=\"html.parser\")\n",
    "    # Return the text content of the soupified html content\n",
    "    return soup.get_text()"
   ]
  },
  {
   "cell_type": "markdown",
   "id": "3b31f4a9",
   "metadata": {},
   "source": [
    "In addition to the emails with text content there were also emails with non alpha-numeric characters and some emails which don't appear to contain any English words. As Such, a function will be needed to remove any unusual characters and non-english words."
   ]
  },
  {
   "cell_type": "code",
   "execution_count": 61,
   "id": "fe1ec6c1",
   "metadata": {},
   "outputs": [
    {
     "name": "stderr",
     "output_type": "stream",
     "text": [
      "[nltk_data] Downloading package punkt to\n",
      "[nltk_data]     /Users/rosswillett/nltk_data...\n",
      "[nltk_data]   Package punkt is already up-to-date!\n",
      "[nltk_data] Downloading package words to\n",
      "[nltk_data]     /Users/rosswillett/nltk_data...\n",
      "[nltk_data]   Package words is already up-to-date!\n"
     ]
    },
    {
     "data": {
      "text/plain": [
       "True"
      ]
     },
     "execution_count": 61,
     "metadata": {},
     "output_type": "execute_result"
    }
   ],
   "source": [
    "# Download the NLTK punctuation package\n",
    "nltk.download('punkt')\n",
    "# Download the NLTK english words package\n",
    "nltk.download('words')"
   ]
  },
  {
   "cell_type": "code",
   "execution_count": 62,
   "id": "4e58cefe",
   "metadata": {},
   "outputs": [],
   "source": [
    "# Create a set containing all the english words from the NLTK corpus\n",
    "nltk_eng_words = set(nltk.corpus.words.words())\n",
    "# Instantiate a function to clean the text content of emails\n",
    "def extract_text_content (text):\n",
    "    '''\n",
    "    Accepts a string, filters non-alphabetical characters and non-english words and returns the resulting string\n",
    "    \n",
    "    Parameters\n",
    "    ----------\n",
    "    text: A string which needs to be filtered\n",
    "    \n",
    "    Returns\n",
    "    ----------\n",
    "    Ret: A string which contains only english words\n",
    "    \n",
    "    Example\n",
    "    ----------\n",
    "    >>>> extract_text_content('asjudehr hello_ 712753^!@54318 world!')\n",
    "    hello world\n",
    "    '''\n",
    "    # Removes any '=2C' strings from the text (This appears in certain text encodings between words)\n",
    "    filteredText = text.replace('=2C', '')\n",
    "    # Filters out any non-alphabetical or space characters from the text\n",
    "    characterFilteredText = re.sub(r'[^a-zA-Z\\s]', ' ', filteredText)\n",
    "    # Instantiates an array to contain the english words\n",
    "    englishWordOnlyTextArr = []\n",
    "    # Iterate over every word in the string picked up by the NLTK tokenizer\n",
    "    for word in nltk.word_tokenize(characterFilteredText):\n",
    "        # Set the word to lower case\n",
    "        lower_word = word.lower()\n",
    "        # Check if the word exists in the set of english words and has a length > 1\n",
    "        # And append the word the english word array if so\n",
    "        if lower_word in nltk_eng_words and len(word) > 1:\n",
    "            englishWordOnlyTextArr.append(word)\n",
    "        # If the word is only one character check if it is one of the two english words of one character\n",
    "        # If so, append the word to the english word array\n",
    "        elif lower_word == 'i' or lower_word == 'a':\n",
    "            englishWordOnlyTextArr.append(word)\n",
    "    # Return the english word arrray of the content joined by spaces\n",
    "    return ' '.join(englishWordOnlyTextArr)"
   ]
  },
  {
   "cell_type": "markdown",
   "id": "0cb41232",
   "metadata": {},
   "source": [
    "Since numerical values may appear within the content of these emails but may not be represented with consistent values, the number of numerical values that appear within an email should be recorded. A function will be needed to record this and has been created below."
   ]
  },
  {
   "cell_type": "code",
   "execution_count": 63,
   "id": "7ef5c989",
   "metadata": {},
   "outputs": [],
   "source": [
    "# Instantiate function to get word count in a string\n",
    "def get_word_count(text):\n",
    "    '''\n",
    "    Accepts a string and returns the number of words contained in that string\n",
    "    \n",
    "    Parameters\n",
    "    ----------\n",
    "    text: A string which contains words to be counted\n",
    "    \n",
    "    Returns\n",
    "    ----------\n",
    "    Ret: An integer of the number of words contained in that string\n",
    "    \n",
    "    Example\n",
    "    ----------\n",
    "    >>>> get_word_count('goodbye cruel world')\n",
    "    3\n",
    "    '''\n",
    "    # Filter string to alphabetical characters and spaces only\n",
    "    alpha_only_text = re.sub(r'[^a-zA-Z\\s]', '', text)\n",
    "    # Remove any instances of repeated spaces\n",
    "    no_space_alpha_text = re.sub(r'\\s\\s+', ' ', text)\n",
    "    # split sentence into words by splitting on spaces\n",
    "    listofwords = alpha_only_text.split(' ')\n",
    "    # Return the length of the resulting word list\n",
    "    return len(listofwords)"
   ]
  },
  {
   "cell_type": "markdown",
   "id": "404d81b1",
   "metadata": {},
   "source": [
    "Now that the functions to properly filter the email content have been created, these should be applied and any other relevant information moved into new columns. First the HTML content should be parsed to get the text content from the emails."
   ]
  },
  {
   "cell_type": "code",
   "execution_count": 64,
   "id": "861c4cc9",
   "metadata": {},
   "outputs": [],
   "source": [
    "# Find the rows with HTML content in them a telltale sign of HTML content\n",
    "# existing in a string are the characters '</' which appear in closing tags of HTML\n",
    "rows_with_html = fraud_all_df['content'].str.lower().str.contains('</', na=True)"
   ]
  },
  {
   "cell_type": "code",
   "execution_count": 65,
   "id": "d9f06c8c",
   "metadata": {
    "scrolled": true
   },
   "outputs": [],
   "source": [
    "# Filter down the data frame content to those containing HTML and\n",
    "# And assigns them to the same rows with the text content extracted\n",
    "fraud_all_df.loc[rows_with_html, ['content']] = fraud_all_df[rows_with_html]['content'].apply(extract_HTML_text)"
   ]
  },
  {
   "cell_type": "markdown",
   "id": "49fed279",
   "metadata": {},
   "source": [
    "Since the numerical values and any links will be removed following the English word filter and may represent useful information for identifying fraud emails, these values should be recorded in separate columns."
   ]
  },
  {
   "cell_type": "code",
   "execution_count": 66,
   "id": "92989af5",
   "metadata": {},
   "outputs": [],
   "source": [
    "# Gets a count of all unsecured links in the text content (Note that unsecured links start with the 'http://' string)\n",
    "fraud_all_df['unsecure_link_count'] = fraud_all_df['content'].str.count('http://')"
   ]
  },
  {
   "cell_type": "code",
   "execution_count": 67,
   "id": "88de3072",
   "metadata": {
    "scrolled": true
   },
   "outputs": [],
   "source": [
    "# Gets a count of all secure links in the text content (Note that secure links start with the 'https://' string)\n",
    "fraud_all_df['secure_link_count'] = fraud_all_df['content'].str.count('https://')"
   ]
  },
  {
   "cell_type": "code",
   "execution_count": 68,
   "id": "38ad3912",
   "metadata": {},
   "outputs": [],
   "source": [
    "# Finds all instances of numerically represented numbers in the text content,\n",
    "# counts them and adds them to a new column 'numbers count'\n",
    "fraud_all_df['numbers_count'] = fraud_all_df['content'].apply(lambda text: len(re.findall(r'\\d+', text)))"
   ]
  },
  {
   "cell_type": "markdown",
   "id": "f702789d",
   "metadata": {},
   "source": [
    "Now that any non-word based content has been stored, the content can be filtered down to English word content and any empty, duplicate or null values removed."
   ]
  },
  {
   "cell_type": "code",
   "execution_count": 76,
   "id": "cc6d153c",
   "metadata": {
    "scrolled": true
   },
   "outputs": [],
   "source": [
    "# Applies the english word extraction function to each content column and assigns the result to the content column\n",
    "fraud_all_df.loc[:, ['content']] = fraud_all_df['content'].apply(extract_text_content)"
   ]
  },
  {
   "cell_type": "code",
   "execution_count": 77,
   "id": "917e4952",
   "metadata": {},
   "outputs": [],
   "source": [
    "# Applies the get word count function to the content and assigns the result to a new column\n",
    "fraud_all_df['word_count'] = fraud_all_df['content'].apply(get_word_count)"
   ]
  },
  {
   "cell_type": "code",
   "execution_count": 78,
   "id": "ca556955",
   "metadata": {},
   "outputs": [],
   "source": [
    "# Removes all rows with empty text content\n",
    "fraud_all_df = fraud_all_df[fraud_all_df['content'] != '']"
   ]
  },
  {
   "cell_type": "code",
   "execution_count": 79,
   "id": "2a0f4a28",
   "metadata": {
    "scrolled": true
   },
   "outputs": [
    {
     "data": {
      "text/plain": [
       "content                0\n",
       "fraud                  0\n",
       "unsecure_link_count    0\n",
       "secure_link_count      0\n",
       "numbers_count          0\n",
       "word_count             0\n",
       "dtype: int64"
      ]
     },
     "execution_count": 79,
     "metadata": {},
     "output_type": "execute_result"
    }
   ],
   "source": [
    "# Check to ensure rows are Null\n",
    "fraud_all_df.isna().sum()"
   ]
  },
  {
   "cell_type": "code",
   "execution_count": 80,
   "id": "ba1b2cda",
   "metadata": {},
   "outputs": [
    {
     "data": {
      "text/plain": [
       "0"
      ]
     },
     "execution_count": 80,
     "metadata": {},
     "output_type": "execute_result"
    }
   ],
   "source": [
    "# Checks for duplicates in the data\n",
    "fraud_all_df.duplicated().sum()"
   ]
  },
  {
   "cell_type": "code",
   "execution_count": 74,
   "id": "6c95ee44",
   "metadata": {},
   "outputs": [],
   "source": [
    "# Removes all duplicates in the data\n",
    "fraud_all_df.drop_duplicates(inplace=True, ignore_index=True)"
   ]
  },
  {
   "cell_type": "code",
   "execution_count": 75,
   "id": "442ac7f3",
   "metadata": {
    "scrolled": true
   },
   "outputs": [
    {
     "data": {
      "text/html": [
       "<div>\n",
       "<style scoped>\n",
       "    .dataframe tbody tr th:only-of-type {\n",
       "        vertical-align: middle;\n",
       "    }\n",
       "\n",
       "    .dataframe tbody tr th {\n",
       "        vertical-align: top;\n",
       "    }\n",
       "\n",
       "    .dataframe thead th {\n",
       "        text-align: right;\n",
       "    }\n",
       "</style>\n",
       "<table border=\"1\" class=\"dataframe\">\n",
       "  <thead>\n",
       "    <tr style=\"text-align: right;\">\n",
       "      <th></th>\n",
       "      <th>content</th>\n",
       "      <th>fraud</th>\n",
       "      <th>unsecure_link_count</th>\n",
       "      <th>secure_link_count</th>\n",
       "      <th>numbers_count</th>\n",
       "      <th>word_count</th>\n",
       "    </tr>\n",
       "  </thead>\n",
       "  <tbody>\n",
       "    <tr>\n",
       "      <th>0</th>\n",
       "      <td>Supply Quality China EXCLUSIVE at Unbeatable P...</td>\n",
       "      <td>1</td>\n",
       "      <td>0</td>\n",
       "      <td>0</td>\n",
       "      <td>10</td>\n",
       "      <td>131</td>\n",
       "    </tr>\n",
       "    <tr>\n",
       "      <th>1</th>\n",
       "      <td>over me know</td>\n",
       "      <td>0</td>\n",
       "      <td>0</td>\n",
       "      <td>0</td>\n",
       "      <td>0</td>\n",
       "      <td>3</td>\n",
       "    </tr>\n",
       "    <tr>\n",
       "      <th>2</th>\n",
       "      <td>Dear Friend to you I wish to accost you with a...</td>\n",
       "      <td>1</td>\n",
       "      <td>0</td>\n",
       "      <td>0</td>\n",
       "      <td>9</td>\n",
       "      <td>385</td>\n",
       "    </tr>\n",
       "    <tr>\n",
       "      <th>3</th>\n",
       "      <td>BANK BRANCH CENTRAL HONG HONG Let me start by ...</td>\n",
       "      <td>1</td>\n",
       "      <td>1</td>\n",
       "      <td>0</td>\n",
       "      <td>6</td>\n",
       "      <td>549</td>\n",
       "    </tr>\n",
       "    <tr>\n",
       "      <th>4</th>\n",
       "      <td>Not a surprising assessment from Embassy</td>\n",
       "      <td>0</td>\n",
       "      <td>0</td>\n",
       "      <td>0</td>\n",
       "      <td>0</td>\n",
       "      <td>6</td>\n",
       "    </tr>\n",
       "    <tr>\n",
       "      <th>...</th>\n",
       "      <td>...</td>\n",
       "      <td>...</td>\n",
       "      <td>...</td>\n",
       "      <td>...</td>\n",
       "      <td>...</td>\n",
       "      <td>...</td>\n",
       "    </tr>\n",
       "    <tr>\n",
       "      <th>12930</th>\n",
       "      <td>You appear to be an application that wont prop...</td>\n",
       "      <td>0</td>\n",
       "      <td>2</td>\n",
       "      <td>0</td>\n",
       "      <td>40</td>\n",
       "      <td>1041</td>\n",
       "    </tr>\n",
       "    <tr>\n",
       "      <th>12931</th>\n",
       "      <td>Investor Dispatch Quote symbol Symbol My Portf...</td>\n",
       "      <td>0</td>\n",
       "      <td>0</td>\n",
       "      <td>0</td>\n",
       "      <td>136</td>\n",
       "      <td>496</td>\n",
       "    </tr>\n",
       "    <tr>\n",
       "      <th>12932</th>\n",
       "      <td>from The Register To from this daily news upda...</td>\n",
       "      <td>0</td>\n",
       "      <td>24</td>\n",
       "      <td>0</td>\n",
       "      <td>60</td>\n",
       "      <td>298</td>\n",
       "    </tr>\n",
       "    <tr>\n",
       "      <th>12933</th>\n",
       "      <td>Hi Everyone There seem to be several in our cl...</td>\n",
       "      <td>0</td>\n",
       "      <td>2</td>\n",
       "      <td>0</td>\n",
       "      <td>2</td>\n",
       "      <td>91</td>\n",
       "    </tr>\n",
       "    <tr>\n",
       "      <th>12934</th>\n",
       "      <td>CatchUp Dispatch A note to our Vol No Dear Cat...</td>\n",
       "      <td>0</td>\n",
       "      <td>4</td>\n",
       "      <td>0</td>\n",
       "      <td>12</td>\n",
       "      <td>98</td>\n",
       "    </tr>\n",
       "  </tbody>\n",
       "</table>\n",
       "<p>12935 rows × 6 columns</p>\n",
       "</div>"
      ],
      "text/plain": [
       "                                                 content  fraud  \\\n",
       "0      Supply Quality China EXCLUSIVE at Unbeatable P...      1   \n",
       "1                                           over me know      0   \n",
       "2      Dear Friend to you I wish to accost you with a...      1   \n",
       "3      BANK BRANCH CENTRAL HONG HONG Let me start by ...      1   \n",
       "4               Not a surprising assessment from Embassy      0   \n",
       "...                                                  ...    ...   \n",
       "12930  You appear to be an application that wont prop...      0   \n",
       "12931  Investor Dispatch Quote symbol Symbol My Portf...      0   \n",
       "12932  from The Register To from this daily news upda...      0   \n",
       "12933  Hi Everyone There seem to be several in our cl...      0   \n",
       "12934  CatchUp Dispatch A note to our Vol No Dear Cat...      0   \n",
       "\n",
       "       unsecure_link_count  secure_link_count  numbers_count  word_count  \n",
       "0                        0                  0             10         131  \n",
       "1                        0                  0              0           3  \n",
       "2                        0                  0              9         385  \n",
       "3                        1                  0              6         549  \n",
       "4                        0                  0              0           6  \n",
       "...                    ...                ...            ...         ...  \n",
       "12930                    2                  0             40        1041  \n",
       "12931                    0                  0            136         496  \n",
       "12932                   24                  0             60         298  \n",
       "12933                    2                  0              2          91  \n",
       "12934                    4                  0             12          98  \n",
       "\n",
       "[12935 rows x 6 columns]"
      ]
     },
     "execution_count": 75,
     "metadata": {},
     "output_type": "execute_result"
    }
   ],
   "source": [
    "# Examines the final cleaned data frame\n",
    "fraud_all_df"
   ]
  },
  {
   "cell_type": "markdown",
   "id": "00cd34d9",
   "metadata": {},
   "source": [
    "Now that the data has been fully combined and cleaned, it can be saved to a csv file for further evaluation and use for modeling."
   ]
  },
  {
   "cell_type": "code",
   "execution_count": 136,
   "id": "53fd580c",
   "metadata": {},
   "outputs": [],
   "source": [
    "# Saves the resulting combined and cleaned data frame to a CSV\n",
    "fraud_all_df.to_csv('./data/fraud_all_data_clean_X.csv', index=False)"
   ]
  },
  {
   "cell_type": "markdown",
   "id": "32e0024c",
   "metadata": {},
   "source": [
    "## Add Enron"
   ]
  },
  {
   "cell_type": "code",
   "execution_count": 94,
   "id": "fb4062aa",
   "metadata": {},
   "outputs": [],
   "source": [
    "phishing_2_fraud_only = fraud_clean_df[fraud_clean_df['fraud'] == 1]"
   ]
  },
  {
   "cell_type": "code",
   "execution_count": 44,
   "id": "15acec7d",
   "metadata": {},
   "outputs": [],
   "source": [
    "enron_email_df = pd.read_csv('./data/enron_extracted.csv')"
   ]
  },
  {
   "cell_type": "code",
   "execution_count": 45,
   "id": "820e692a",
   "metadata": {},
   "outputs": [],
   "source": [
    "enron_internal_df = enron_email_df[enron_email_df['from'].str.contains('@enron')]"
   ]
  },
  {
   "cell_type": "code",
   "execution_count": 46,
   "id": "42699dab",
   "metadata": {},
   "outputs": [
    {
     "data": {
      "text/html": [
       "<div>\n",
       "<style scoped>\n",
       "    .dataframe tbody tr th:only-of-type {\n",
       "        vertical-align: middle;\n",
       "    }\n",
       "\n",
       "    .dataframe tbody tr th {\n",
       "        vertical-align: top;\n",
       "    }\n",
       "\n",
       "    .dataframe thead th {\n",
       "        text-align: right;\n",
       "    }\n",
       "</style>\n",
       "<table border=\"1\" class=\"dataframe\">\n",
       "  <thead>\n",
       "    <tr style=\"text-align: right;\">\n",
       "      <th></th>\n",
       "      <th>from</th>\n",
       "      <th>to</th>\n",
       "      <th>subject</th>\n",
       "      <th>content</th>\n",
       "    </tr>\n",
       "  </thead>\n",
       "  <tbody>\n",
       "    <tr>\n",
       "      <th>52493</th>\n",
       "      <td>shirley.crenshaw@enron.com</td>\n",
       "      <td>move-team@enron.com</td>\n",
       "      <td>Computers from Research Group</td>\n",
       "      <td>Good morning all: This past weekend you moved ...</td>\n",
       "    </tr>\n",
       "    <tr>\n",
       "      <th>20193</th>\n",
       "      <td>kate.symes@enron.com</td>\n",
       "      <td>andy.chen@enron.com</td>\n",
       "      <td>Re: Warning</td>\n",
       "      <td>Thanks - Enron designed that stationary specif...</td>\n",
       "    </tr>\n",
       "    <tr>\n",
       "      <th>447804</th>\n",
       "      <td>darrell.schoolcraft@enron.com</td>\n",
       "      <td>steve.january@enron.com, kimberly.watson@enron...</td>\n",
       "      <td>TW Weekend scheduled volumes</td>\n",
       "      <td>March 2002 Scheduled Scheduled Friday 15 West ...</td>\n",
       "    </tr>\n",
       "    <tr>\n",
       "      <th>89831</th>\n",
       "      <td>ted.murphy@enron.com</td>\n",
       "      <td>s..bradford@enron.com, r..brackett@enron.com, ...</td>\n",
       "      <td>Quick Update</td>\n",
       "      <td>Bill and Friends: FYI, things are still quite ...</td>\n",
       "    </tr>\n",
       "    <tr>\n",
       "      <th>250452</th>\n",
       "      <td>lynn.blair@enron.com</td>\n",
       "      <td>tim.johanson@enron.com, john.williams@enron.co...</td>\n",
       "      <td>RE: Requested training by Xcel in Denver</td>\n",
       "      <td>Tim and Randy, how did the traning go Thanks. ...</td>\n",
       "    </tr>\n",
       "    <tr>\n",
       "      <th>62105</th>\n",
       "      <td>rebecca.mcdonald@enron.com</td>\n",
       "      <td>jeff.skilling@enron.com, kevin.hannon@enron.com</td>\n",
       "      <td>FW: Sale of Enron's Interest in Bachaquero</td>\n",
       "      <td>FYI -----Original Message----- From: Tortolero...</td>\n",
       "    </tr>\n",
       "    <tr>\n",
       "      <th>486224</th>\n",
       "      <td>maria.sandoval@enron.com</td>\n",
       "      <td>asandov225@aol.com, andrea.guillen@enron.com, ...</td>\n",
       "      <td>The Empty Chair</td>\n",
       "      <td>THE EMPTY CHAIR A mans daughter had asked the ...</td>\n",
       "    </tr>\n",
       "    <tr>\n",
       "      <th>109654</th>\n",
       "      <td>michele.winckowski@enron.com</td>\n",
       "      <td>NaN</td>\n",
       "      <td>FW: Something Worth Seeing</td>\n",
       "      <td>This is very powerful. Some photos are very gr...</td>\n",
       "    </tr>\n",
       "    <tr>\n",
       "      <th>308442</th>\n",
       "      <td>frank.davis@enron.com</td>\n",
       "      <td>tana.jones@enron.com</td>\n",
       "      <td>Pulp &amp; Paper Long Descriptions</td>\n",
       "      <td>Tana, Attached below are examples of EnronOnli...</td>\n",
       "    </tr>\n",
       "    <tr>\n",
       "      <th>457221</th>\n",
       "      <td>maureen.mcvicker@enron.com</td>\n",
       "      <td>tom.briggs@enron.com</td>\n",
       "      <td>Re: Draft Wyden letter</td>\n",
       "      <td>Tom: What address should I use for the Sen. Wy...</td>\n",
       "    </tr>\n",
       "  </tbody>\n",
       "</table>\n",
       "</div>"
      ],
      "text/plain": [
       "                                 from  \\\n",
       "52493      shirley.crenshaw@enron.com   \n",
       "20193            kate.symes@enron.com   \n",
       "447804  darrell.schoolcraft@enron.com   \n",
       "89831            ted.murphy@enron.com   \n",
       "250452           lynn.blair@enron.com   \n",
       "62105      rebecca.mcdonald@enron.com   \n",
       "486224       maria.sandoval@enron.com   \n",
       "109654   michele.winckowski@enron.com   \n",
       "308442          frank.davis@enron.com   \n",
       "457221     maureen.mcvicker@enron.com   \n",
       "\n",
       "                                                       to  \\\n",
       "52493                                 move-team@enron.com   \n",
       "20193                                 andy.chen@enron.com   \n",
       "447804  steve.january@enron.com, kimberly.watson@enron...   \n",
       "89831   s..bradford@enron.com, r..brackett@enron.com, ...   \n",
       "250452  tim.johanson@enron.com, john.williams@enron.co...   \n",
       "62105     jeff.skilling@enron.com, kevin.hannon@enron.com   \n",
       "486224  asandov225@aol.com, andrea.guillen@enron.com, ...   \n",
       "109654                                                NaN   \n",
       "308442                               tana.jones@enron.com   \n",
       "457221                               tom.briggs@enron.com   \n",
       "\n",
       "                                           subject  \\\n",
       "52493                Computers from Research Group   \n",
       "20193                                  Re: Warning   \n",
       "447804                TW Weekend scheduled volumes   \n",
       "89831                                 Quick Update   \n",
       "250452    RE: Requested training by Xcel in Denver   \n",
       "62105   FW: Sale of Enron's Interest in Bachaquero   \n",
       "486224                             The Empty Chair   \n",
       "109654                  FW: Something Worth Seeing   \n",
       "308442              Pulp & Paper Long Descriptions   \n",
       "457221                      Re: Draft Wyden letter   \n",
       "\n",
       "                                                  content  \n",
       "52493   Good morning all: This past weekend you moved ...  \n",
       "20193   Thanks - Enron designed that stationary specif...  \n",
       "447804  March 2002 Scheduled Scheduled Friday 15 West ...  \n",
       "89831   Bill and Friends: FYI, things are still quite ...  \n",
       "250452  Tim and Randy, how did the traning go Thanks. ...  \n",
       "62105   FYI -----Original Message----- From: Tortolero...  \n",
       "486224  THE EMPTY CHAIR A mans daughter had asked the ...  \n",
       "109654  This is very powerful. Some photos are very gr...  \n",
       "308442  Tana, Attached below are examples of EnronOnli...  \n",
       "457221  Tom: What address should I use for the Sen. Wy...  "
      ]
     },
     "execution_count": 46,
     "metadata": {},
     "output_type": "execute_result"
    }
   ],
   "source": [
    "enron_internal_df.sample(10)"
   ]
  },
  {
   "cell_type": "code",
   "execution_count": 115,
   "id": "30f9abbd",
   "metadata": {},
   "outputs": [],
   "source": [
    "enron_internal_clean = pd.DataFrame()\n",
    "enron_internal_clean = enron_internal_df.copy()\n",
    "enron_internal_clean.loc[:, 'phishing'] = 0\n",
    "enron_internal_clean.drop(columns=['to', 'from', 'subject'], inplace=True)\n",
    "enron_internal_clean_sample = enron_internal_clean.sample(5656)"
   ]
  },
  {
   "cell_type": "code",
   "execution_count": 116,
   "id": "2c4cc2fc",
   "metadata": {},
   "outputs": [],
   "source": [
    "new_df = pd.concat([\n",
    "    phishing_2_fraud_only,\n",
    "    fraud_2_clean_df,\n",
    "    fraud_3_clean_df,\n",
    "    fraud_4_clean_df,\n",
    "    enron_internal_clean_sample\n",
    "], ignore_index=True)"
   ]
  },
  {
   "cell_type": "code",
   "execution_count": 117,
   "id": "7e8e0f0b",
   "metadata": {
    "scrolled": true
   },
   "outputs": [
    {
     "data": {
      "text/plain": [
       "1    7138\n",
       "0    7138\n",
       "Name: phishing, dtype: int64"
      ]
     },
     "execution_count": 117,
     "metadata": {},
     "output_type": "execute_result"
    }
   ],
   "source": [
    "new_df['fraud'].value_counts()"
   ]
  },
  {
   "cell_type": "code",
   "execution_count": 118,
   "id": "f44f9e78",
   "metadata": {},
   "outputs": [],
   "source": [
    "new_df.dropna(inplace=True)"
   ]
  },
  {
   "cell_type": "code",
   "execution_count": 119,
   "id": "0e870a27",
   "metadata": {},
   "outputs": [],
   "source": [
    "rows_with_html = new_df['content'].str.lower().str.contains('</', na=True)"
   ]
  },
  {
   "cell_type": "code",
   "execution_count": 120,
   "id": "7d0f525f",
   "metadata": {
    "scrolled": true
   },
   "outputs": [],
   "source": [
    "new_df.loc[rows_with_html, ['content']] = new_df[rows_with_html]['content'].apply(extract_HTML_text)"
   ]
  },
  {
   "cell_type": "code",
   "execution_count": 121,
   "id": "32312f41",
   "metadata": {},
   "outputs": [],
   "source": [
    "new_df['unsecure_link_count'] = new_df['content'].str.count('http://')"
   ]
  },
  {
   "cell_type": "code",
   "execution_count": 122,
   "id": "a939ce1c",
   "metadata": {
    "scrolled": true
   },
   "outputs": [],
   "source": [
    "new_df['secure_link_count'] = new_df['content'].str.count('https://')"
   ]
  },
  {
   "cell_type": "code",
   "execution_count": 123,
   "id": "272dc0e5",
   "metadata": {},
   "outputs": [],
   "source": [
    "new_df['numbers_count'] = new_df['content'].apply(lambda text: len(re.findall(r'\\d+', text)))"
   ]
  },
  {
   "cell_type": "code",
   "execution_count": 124,
   "id": "cb8b7fe4",
   "metadata": {
    "scrolled": true
   },
   "outputs": [],
   "source": [
    "new_df.loc[:, ['content']] = new_df['content'].apply(extract_text_content)"
   ]
  },
  {
   "cell_type": "code",
   "execution_count": 125,
   "id": "67b2d142",
   "metadata": {},
   "outputs": [],
   "source": [
    "new_df['word_count'] = new_df['content'].apply(get_word_count)"
   ]
  },
  {
   "cell_type": "code",
   "execution_count": 126,
   "id": "b70572ee",
   "metadata": {},
   "outputs": [],
   "source": [
    "new_df = new_df[new_df['content'] != '']"
   ]
  },
  {
   "cell_type": "code",
   "execution_count": 127,
   "id": "e6bc7511",
   "metadata": {
    "scrolled": true
   },
   "outputs": [
    {
     "data": {
      "text/plain": [
       "content                0\n",
       "phishing               0\n",
       "unsecure_link_count    0\n",
       "secure_link_count      0\n",
       "numbers_count          0\n",
       "word_count             0\n",
       "dtype: int64"
      ]
     },
     "execution_count": 127,
     "metadata": {},
     "output_type": "execute_result"
    }
   ],
   "source": [
    "new_df.isna().sum()"
   ]
  },
  {
   "cell_type": "code",
   "execution_count": 128,
   "id": "64d8eb25",
   "metadata": {},
   "outputs": [
    {
     "data": {
      "text/plain": [
       "1474"
      ]
     },
     "execution_count": 128,
     "metadata": {},
     "output_type": "execute_result"
    }
   ],
   "source": [
    "new_df.duplicated().sum()"
   ]
  },
  {
   "cell_type": "code",
   "execution_count": 129,
   "id": "58fda36f",
   "metadata": {},
   "outputs": [],
   "source": [
    "new_df.drop_duplicates(inplace=True, ignore_index=True)"
   ]
  },
  {
   "cell_type": "code",
   "execution_count": 130,
   "id": "be8b7c78",
   "metadata": {
    "scrolled": true
   },
   "outputs": [
    {
     "data": {
      "text/html": [
       "<div>\n",
       "<style scoped>\n",
       "    .dataframe tbody tr th:only-of-type {\n",
       "        vertical-align: middle;\n",
       "    }\n",
       "\n",
       "    .dataframe tbody tr th {\n",
       "        vertical-align: top;\n",
       "    }\n",
       "\n",
       "    .dataframe thead th {\n",
       "        text-align: right;\n",
       "    }\n",
       "</style>\n",
       "<table border=\"1\" class=\"dataframe\">\n",
       "  <thead>\n",
       "    <tr style=\"text-align: right;\">\n",
       "      <th></th>\n",
       "      <th>content</th>\n",
       "      <th>phishing</th>\n",
       "      <th>unsecure_link_count</th>\n",
       "      <th>secure_link_count</th>\n",
       "      <th>numbers_count</th>\n",
       "      <th>word_count</th>\n",
       "    </tr>\n",
       "  </thead>\n",
       "  <tbody>\n",
       "    <tr>\n",
       "      <th>0</th>\n",
       "      <td>Supply Quality China EXCLUSIVE at Unbeatable P...</td>\n",
       "      <td>1</td>\n",
       "      <td>0</td>\n",
       "      <td>0</td>\n",
       "      <td>10</td>\n",
       "      <td>131</td>\n",
       "    </tr>\n",
       "    <tr>\n",
       "      <th>1</th>\n",
       "      <td>Dear Friend to you I wish to accost you with a...</td>\n",
       "      <td>1</td>\n",
       "      <td>0</td>\n",
       "      <td>0</td>\n",
       "      <td>9</td>\n",
       "      <td>385</td>\n",
       "    </tr>\n",
       "    <tr>\n",
       "      <th>2</th>\n",
       "      <td>BANK BRANCH CENTRAL HONG HONG Let me start by ...</td>\n",
       "      <td>1</td>\n",
       "      <td>1</td>\n",
       "      <td>0</td>\n",
       "      <td>6</td>\n",
       "      <td>549</td>\n",
       "    </tr>\n",
       "    <tr>\n",
       "      <th>3</th>\n",
       "      <td>from barrister friend I know that my letter wi...</td>\n",
       "      <td>1</td>\n",
       "      <td>0</td>\n",
       "      <td>0</td>\n",
       "      <td>41</td>\n",
       "      <td>527</td>\n",
       "    </tr>\n",
       "    <tr>\n",
       "      <th>4</th>\n",
       "      <td>SOLICITING FOR A BUSINESS VENTURE AND DEAR SIR...</td>\n",
       "      <td>1</td>\n",
       "      <td>0</td>\n",
       "      <td>0</td>\n",
       "      <td>20</td>\n",
       "      <td>323</td>\n",
       "    </tr>\n",
       "    <tr>\n",
       "      <th>...</th>\n",
       "      <td>...</td>\n",
       "      <td>...</td>\n",
       "      <td>...</td>\n",
       "      <td>...</td>\n",
       "      <td>...</td>\n",
       "      <td>...</td>\n",
       "    </tr>\n",
       "    <tr>\n",
       "      <th>12746</th>\n",
       "      <td>You know I must have received your message on ...</td>\n",
       "      <td>0</td>\n",
       "      <td>0</td>\n",
       "      <td>0</td>\n",
       "      <td>5</td>\n",
       "      <td>82</td>\n",
       "    </tr>\n",
       "    <tr>\n",
       "      <th>12747</th>\n",
       "      <td>AGRICULTURE Soft commodity find the going hard...</td>\n",
       "      <td>0</td>\n",
       "      <td>3</td>\n",
       "      <td>0</td>\n",
       "      <td>358</td>\n",
       "      <td>7277</td>\n",
       "    </tr>\n",
       "    <tr>\n",
       "      <th>12748</th>\n",
       "      <td>I have your resume with my commentary to Bibi ...</td>\n",
       "      <td>0</td>\n",
       "      <td>0</td>\n",
       "      <td>0</td>\n",
       "      <td>0</td>\n",
       "      <td>31</td>\n",
       "    </tr>\n",
       "    <tr>\n",
       "      <th>12749</th>\n",
       "      <td>Mark How should we handle this In the past I h...</td>\n",
       "      <td>0</td>\n",
       "      <td>0</td>\n",
       "      <td>0</td>\n",
       "      <td>50</td>\n",
       "      <td>274</td>\n",
       "    </tr>\n",
       "    <tr>\n",
       "      <th>12750</th>\n",
       "      <td>No wonder you find it Keep looking cause I gue...</td>\n",
       "      <td>0</td>\n",
       "      <td>0</td>\n",
       "      <td>0</td>\n",
       "      <td>38</td>\n",
       "      <td>373</td>\n",
       "    </tr>\n",
       "  </tbody>\n",
       "</table>\n",
       "<p>12751 rows × 6 columns</p>\n",
       "</div>"
      ],
      "text/plain": [
       "                                                 content  phishing  \\\n",
       "0      Supply Quality China EXCLUSIVE at Unbeatable P...         1   \n",
       "1      Dear Friend to you I wish to accost you with a...         1   \n",
       "2      BANK BRANCH CENTRAL HONG HONG Let me start by ...         1   \n",
       "3      from barrister friend I know that my letter wi...         1   \n",
       "4      SOLICITING FOR A BUSINESS VENTURE AND DEAR SIR...         1   \n",
       "...                                                  ...       ...   \n",
       "12746  You know I must have received your message on ...         0   \n",
       "12747  AGRICULTURE Soft commodity find the going hard...         0   \n",
       "12748  I have your resume with my commentary to Bibi ...         0   \n",
       "12749  Mark How should we handle this In the past I h...         0   \n",
       "12750  No wonder you find it Keep looking cause I gue...         0   \n",
       "\n",
       "       unsecure_link_count  secure_link_count  numbers_count  word_count  \n",
       "0                        0                  0             10         131  \n",
       "1                        0                  0              9         385  \n",
       "2                        1                  0              6         549  \n",
       "3                        0                  0             41         527  \n",
       "4                        0                  0             20         323  \n",
       "...                    ...                ...            ...         ...  \n",
       "12746                    0                  0              5          82  \n",
       "12747                    3                  0            358        7277  \n",
       "12748                    0                  0              0          31  \n",
       "12749                    0                  0             50         274  \n",
       "12750                    0                  0             38         373  \n",
       "\n",
       "[12751 rows x 6 columns]"
      ]
     },
     "execution_count": 130,
     "metadata": {},
     "output_type": "execute_result"
    }
   ],
   "source": [
    "new_df"
   ]
  },
  {
   "cell_type": "code",
   "execution_count": 131,
   "id": "840a3d7c",
   "metadata": {},
   "outputs": [],
   "source": [
    "new_df.to_csv('./data/fraud_with_enron_data_clean_1.csv', index=False)"
   ]
  },
  {
   "cell_type": "code",
   "execution_count": null,
   "id": "20bd4b53",
   "metadata": {},
   "outputs": [],
   "source": []
  }
 ],
 "metadata": {
  "kernelspec": {
   "display_name": "Python [conda env:capstone]",
   "language": "python",
   "name": "conda-env-capstone-py"
  },
  "language_info": {
   "codemirror_mode": {
    "name": "ipython",
    "version": 3
   },
   "file_extension": ".py",
   "mimetype": "text/x-python",
   "name": "python",
   "nbconvert_exporter": "python",
   "pygments_lexer": "ipython3",
   "version": "3.10.10"
  },
  "toc": {
   "base_numbering": 1,
   "nav_menu": {},
   "number_sections": false,
   "sideBar": true,
   "skip_h1_title": false,
   "title_cell": "Table of Contents",
   "title_sidebar": "Contents",
   "toc_cell": false,
   "toc_position": {
    "height": "613px",
    "left": "224px",
    "top": "111.141px",
    "width": "302.391px"
   },
   "toc_section_display": true,
   "toc_window_display": true
  }
 },
 "nbformat": 4,
 "nbformat_minor": 5
}
