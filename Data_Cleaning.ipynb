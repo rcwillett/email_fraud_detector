{
 "cells": [
  {
   "cell_type": "markdown",
   "id": "40db824c",
   "metadata": {},
   "source": [
    "# Data Cleaning and Combining"
   ]
  },
  {
   "cell_type": "markdown",
   "id": "ac08cac9",
   "metadata": {},
   "source": [
    "## Retrieving and Cleaning Data"
   ]
  },
  {
   "cell_type": "code",
   "execution_count": 155,
   "id": "649d1207",
   "metadata": {},
   "outputs": [],
   "source": [
    "import pandas as pd\n",
    "import numpy as np"
   ]
  },
  {
   "cell_type": "code",
   "execution_count": 156,
   "id": "4dac3202",
   "metadata": {},
   "outputs": [
    {
     "name": "stdout",
     "output_type": "stream",
     "text": [
      "(5971, 5)\n",
      "<class 'pandas.core.frame.DataFrame'>\n",
      "RangeIndex: 5971 entries, 0 to 5970\n",
      "Data columns (total 5 columns):\n",
      " #   Column  Non-Null Count  Dtype \n",
      "---  ------  --------------  ----- \n",
      " 0   LABEL   5971 non-null   object\n",
      " 1   TEXT    5971 non-null   object\n",
      " 2   URL     5971 non-null   object\n",
      " 3   EMAIL   5971 non-null   object\n",
      " 4   PHONE   5971 non-null   object\n",
      "dtypes: object(5)\n",
      "memory usage: 233.4+ KB\n",
      "None\n"
     ]
    }
   ],
   "source": [
    "phishing_df = pd.read_csv('./data/phishing.csv')\n",
    "print(phishing_df.shape)\n",
    "print(phishing_df.info())"
   ]
  },
  {
   "cell_type": "code",
   "execution_count": 157,
   "id": "73bce36d",
   "metadata": {},
   "outputs": [
    {
     "data": {
      "text/html": [
       "<div>\n",
       "<style scoped>\n",
       "    .dataframe tbody tr th:only-of-type {\n",
       "        vertical-align: middle;\n",
       "    }\n",
       "\n",
       "    .dataframe tbody tr th {\n",
       "        vertical-align: top;\n",
       "    }\n",
       "\n",
       "    .dataframe thead th {\n",
       "        text-align: right;\n",
       "    }\n",
       "</style>\n",
       "<table border=\"1\" class=\"dataframe\">\n",
       "  <thead>\n",
       "    <tr style=\"text-align: right;\">\n",
       "      <th></th>\n",
       "      <th>LABEL</th>\n",
       "      <th>TEXT</th>\n",
       "      <th>URL</th>\n",
       "      <th>EMAIL</th>\n",
       "      <th>PHONE</th>\n",
       "    </tr>\n",
       "  </thead>\n",
       "  <tbody>\n",
       "    <tr>\n",
       "      <th>0</th>\n",
       "      <td>ham</td>\n",
       "      <td>Your opinion about me? 1. Over 2. Jada 3. Kusr...</td>\n",
       "      <td>No</td>\n",
       "      <td>No</td>\n",
       "      <td>No</td>\n",
       "    </tr>\n",
       "    <tr>\n",
       "      <th>1</th>\n",
       "      <td>ham</td>\n",
       "      <td>What's up? Do you want me to come online? If y...</td>\n",
       "      <td>No</td>\n",
       "      <td>No</td>\n",
       "      <td>No</td>\n",
       "    </tr>\n",
       "    <tr>\n",
       "      <th>2</th>\n",
       "      <td>ham</td>\n",
       "      <td>So u workin overtime nigpun?</td>\n",
       "      <td>No</td>\n",
       "      <td>No</td>\n",
       "      <td>No</td>\n",
       "    </tr>\n",
       "    <tr>\n",
       "      <th>3</th>\n",
       "      <td>ham</td>\n",
       "      <td>Also sir, i sent you an email about how to log...</td>\n",
       "      <td>No</td>\n",
       "      <td>No</td>\n",
       "      <td>No</td>\n",
       "    </tr>\n",
       "    <tr>\n",
       "      <th>4</th>\n",
       "      <td>Smishing</td>\n",
       "      <td>Please Stay At Home. To encourage the notion o...</td>\n",
       "      <td>No</td>\n",
       "      <td>No</td>\n",
       "      <td>No</td>\n",
       "    </tr>\n",
       "  </tbody>\n",
       "</table>\n",
       "</div>"
      ],
      "text/plain": [
       "      LABEL                                               TEXT URL EMAIL PHONE\n",
       "0       ham  Your opinion about me? 1. Over 2. Jada 3. Kusr...  No    No    No\n",
       "1       ham  What's up? Do you want me to come online? If y...  No    No    No\n",
       "2       ham                       So u workin overtime nigpun?  No    No    No\n",
       "3       ham  Also sir, i sent you an email about how to log...  No    No    No\n",
       "4  Smishing  Please Stay At Home. To encourage the notion o...  No    No    No"
      ]
     },
     "execution_count": 157,
     "metadata": {},
     "output_type": "execute_result"
    }
   ],
   "source": [
    "phishing_df.head()"
   ]
  },
  {
   "cell_type": "code",
   "execution_count": 158,
   "id": "847b4e75",
   "metadata": {},
   "outputs": [
    {
     "data": {
      "text/plain": [
       "ham         0.811254\n",
       "Smishing    0.103165\n",
       "spam        0.078044\n",
       "Spam        0.003852\n",
       "smishing    0.003684\n",
       "Name: LABEL, dtype: float64"
      ]
     },
     "execution_count": 158,
     "metadata": {},
     "output_type": "execute_result"
    }
   ],
   "source": [
    "phishing_df['LABEL'].value_counts(normalize=True)"
   ]
  },
  {
   "cell_type": "code",
   "execution_count": 159,
   "id": "26bc2fc4",
   "metadata": {},
   "outputs": [
    {
     "data": {
      "text/plain": [
       "No     5952\n",
       "yes      19\n",
       "Name: EMAIL, dtype: int64"
      ]
     },
     "execution_count": 159,
     "metadata": {},
     "output_type": "execute_result"
    }
   ],
   "source": [
    "phishing_df['EMAIL'].value_counts()"
   ]
  },
  {
   "cell_type": "code",
   "execution_count": 160,
   "id": "eefc1259",
   "metadata": {},
   "outputs": [
    {
     "name": "stdout",
     "output_type": "stream",
     "text": [
      "(11929, 2)\n",
      "<class 'pandas.core.frame.DataFrame'>\n",
      "RangeIndex: 11929 entries, 0 to 11928\n",
      "Data columns (total 2 columns):\n",
      " #   Column  Non-Null Count  Dtype \n",
      "---  ------  --------------  ----- \n",
      " 0   Text    11928 non-null  object\n",
      " 1   Class   11929 non-null  int64 \n",
      "dtypes: int64(1), object(1)\n",
      "memory usage: 186.5+ KB\n",
      "None\n"
     ]
    }
   ],
   "source": [
    "phishing_2_df = pd.read_csv('./data/fraud_email_.csv')\n",
    "print(phishing_2_df.shape)\n",
    "print(phishing_2_df.info())"
   ]
  },
  {
   "cell_type": "code",
   "execution_count": 161,
   "id": "97787db9",
   "metadata": {},
   "outputs": [
    {
     "data": {
      "text/html": [
       "<div>\n",
       "<style scoped>\n",
       "    .dataframe tbody tr th:only-of-type {\n",
       "        vertical-align: middle;\n",
       "    }\n",
       "\n",
       "    .dataframe tbody tr th {\n",
       "        vertical-align: top;\n",
       "    }\n",
       "\n",
       "    .dataframe thead th {\n",
       "        text-align: right;\n",
       "    }\n",
       "</style>\n",
       "<table border=\"1\" class=\"dataframe\">\n",
       "  <thead>\n",
       "    <tr style=\"text-align: right;\">\n",
       "      <th></th>\n",
       "      <th>Text</th>\n",
       "      <th>Class</th>\n",
       "    </tr>\n",
       "  </thead>\n",
       "  <tbody>\n",
       "    <tr>\n",
       "      <th>0</th>\n",
       "      <td>Supply Quality China's EXCLUSIVE dimensions at...</td>\n",
       "      <td>1</td>\n",
       "    </tr>\n",
       "    <tr>\n",
       "      <th>1</th>\n",
       "      <td>over. SidLet me know. Thx.</td>\n",
       "      <td>0</td>\n",
       "    </tr>\n",
       "    <tr>\n",
       "      <th>2</th>\n",
       "      <td>Dear Friend,Greetings to you.I wish to accost ...</td>\n",
       "      <td>1</td>\n",
       "    </tr>\n",
       "    <tr>\n",
       "      <th>3</th>\n",
       "      <td>MR. CHEUNG PUIHANG SENG BANK LTD.DES VOEUX RD....</td>\n",
       "      <td>1</td>\n",
       "    </tr>\n",
       "    <tr>\n",
       "      <th>4</th>\n",
       "      <td>Not a surprising assessment from Embassy.</td>\n",
       "      <td>0</td>\n",
       "    </tr>\n",
       "  </tbody>\n",
       "</table>\n",
       "</div>"
      ],
      "text/plain": [
       "                                                Text  Class\n",
       "0  Supply Quality China's EXCLUSIVE dimensions at...      1\n",
       "1                         over. SidLet me know. Thx.      0\n",
       "2  Dear Friend,Greetings to you.I wish to accost ...      1\n",
       "3  MR. CHEUNG PUIHANG SENG BANK LTD.DES VOEUX RD....      1\n",
       "4          Not a surprising assessment from Embassy.      0"
      ]
     },
     "execution_count": 161,
     "metadata": {},
     "output_type": "execute_result"
    }
   ],
   "source": [
    "phishing_2_df.head()"
   ]
  },
  {
   "cell_type": "code",
   "execution_count": 162,
   "id": "0a264c1c",
   "metadata": {},
   "outputs": [
    {
     "data": {
      "text/plain": [
       "0    6742\n",
       "1    5187\n",
       "Name: Class, dtype: int64"
      ]
     },
     "execution_count": 162,
     "metadata": {},
     "output_type": "execute_result"
    }
   ],
   "source": [
    "phishing_2_df['Class'].value_counts()"
   ]
  },
  {
   "cell_type": "code",
   "execution_count": 163,
   "id": "3c8efc69",
   "metadata": {},
   "outputs": [
    {
     "name": "stdout",
     "output_type": "stream",
     "text": [
      "(159, 3)\n",
      "<class 'pandas.core.frame.DataFrame'>\n",
      "RangeIndex: 159 entries, 0 to 158\n",
      "Data columns (total 3 columns):\n",
      " #   Column   Non-Null Count  Dtype \n",
      "---  ------   --------------  ----- \n",
      " 0   Subject  157 non-null    object\n",
      " 1   Text     159 non-null    object\n",
      " 2   Type     159 non-null    object\n",
      "dtypes: object(3)\n",
      "memory usage: 3.9+ KB\n",
      "None\n"
     ]
    }
   ],
   "source": [
    "phishing_3_df = pd.read_csv('./data/phishing_data_by_type.csv')\n",
    "print(phishing_3_df.shape)\n",
    "print(phishing_3_df.info())"
   ]
  },
  {
   "cell_type": "code",
   "execution_count": 164,
   "id": "b2b60d9b",
   "metadata": {
    "scrolled": true
   },
   "outputs": [
    {
     "data": {
      "text/html": [
       "<div>\n",
       "<style scoped>\n",
       "    .dataframe tbody tr th:only-of-type {\n",
       "        vertical-align: middle;\n",
       "    }\n",
       "\n",
       "    .dataframe tbody tr th {\n",
       "        vertical-align: top;\n",
       "    }\n",
       "\n",
       "    .dataframe thead th {\n",
       "        text-align: right;\n",
       "    }\n",
       "</style>\n",
       "<table border=\"1\" class=\"dataframe\">\n",
       "  <thead>\n",
       "    <tr style=\"text-align: right;\">\n",
       "      <th></th>\n",
       "      <th>Subject</th>\n",
       "      <th>Text</th>\n",
       "      <th>Type</th>\n",
       "    </tr>\n",
       "  </thead>\n",
       "  <tbody>\n",
       "    <tr>\n",
       "      <th>0</th>\n",
       "      <td>URGENT BUSINESS ASSISTANCE AND PARTNERSHIP</td>\n",
       "      <td>URGENT BUSINESS ASSISTANCE AND PARTNERSHIP.\\n\\...</td>\n",
       "      <td>Fraud</td>\n",
       "    </tr>\n",
       "    <tr>\n",
       "      <th>1</th>\n",
       "      <td>URGENT ASSISTANCE /RELATIONSHIP (P)</td>\n",
       "      <td>Dear Friend,\\n\\nI am Mr. Ben Suleman a custom ...</td>\n",
       "      <td>Fraud</td>\n",
       "    </tr>\n",
       "    <tr>\n",
       "      <th>2</th>\n",
       "      <td>GOOD DAY TO YOU</td>\n",
       "      <td>FROM HIS ROYAL MAJESTY (HRM) CROWN RULER OF EL...</td>\n",
       "      <td>Fraud</td>\n",
       "    </tr>\n",
       "    <tr>\n",
       "      <th>3</th>\n",
       "      <td>from Mrs.Johnson</td>\n",
       "      <td>Goodday Dear\\n\\n\\nI know this mail will come t...</td>\n",
       "      <td>Fraud</td>\n",
       "    </tr>\n",
       "    <tr>\n",
       "      <th>4</th>\n",
       "      <td>Co-Operation</td>\n",
       "      <td>FROM MR. GODWIN AKWESI\\nTEL: +233 208216645\\nF...</td>\n",
       "      <td>Fraud</td>\n",
       "    </tr>\n",
       "  </tbody>\n",
       "</table>\n",
       "</div>"
      ],
      "text/plain": [
       "                                      Subject  \\\n",
       "0  URGENT BUSINESS ASSISTANCE AND PARTNERSHIP   \n",
       "1         URGENT ASSISTANCE /RELATIONSHIP (P)   \n",
       "2                             GOOD DAY TO YOU   \n",
       "3                            from Mrs.Johnson   \n",
       "4                                Co-Operation   \n",
       "\n",
       "                                                Text   Type  \n",
       "0  URGENT BUSINESS ASSISTANCE AND PARTNERSHIP.\\n\\...  Fraud  \n",
       "1  Dear Friend,\\n\\nI am Mr. Ben Suleman a custom ...  Fraud  \n",
       "2  FROM HIS ROYAL MAJESTY (HRM) CROWN RULER OF EL...  Fraud  \n",
       "3  Goodday Dear\\n\\n\\nI know this mail will come t...  Fraud  \n",
       "4  FROM MR. GODWIN AKWESI\\nTEL: +233 208216645\\nF...  Fraud  "
      ]
     },
     "execution_count": 164,
     "metadata": {},
     "output_type": "execute_result"
    }
   ],
   "source": [
    "phishing_3_df.head()"
   ]
  },
  {
   "cell_type": "code",
   "execution_count": 165,
   "id": "90144357",
   "metadata": {},
   "outputs": [
    {
     "data": {
      "text/plain": [
       "Fraud               0.251572\n",
       "Phishing            0.251572\n",
       "Commercial Spam     0.251572\n",
       "False Positives     0.245283\n",
       "Name: Type, dtype: float64"
      ]
     },
     "execution_count": 165,
     "metadata": {},
     "output_type": "execute_result"
    }
   ],
   "source": [
    "phishing_3_df['Type'].value_counts(normalize=True)"
   ]
  },
  {
   "cell_type": "code",
   "execution_count": 166,
   "id": "d983b8d7",
   "metadata": {},
   "outputs": [
    {
     "name": "stdout",
     "output_type": "stream",
     "text": [
      "(6046, 3)\n",
      "<class 'pandas.core.frame.DataFrame'>\n",
      "RangeIndex: 6046 entries, 0 to 6045\n",
      "Data columns (total 3 columns):\n",
      " #   Column      Non-Null Count  Dtype \n",
      "---  ------      --------------  ----- \n",
      " 0   Unnamed: 0  6046 non-null   int64 \n",
      " 1   Body        6045 non-null   object\n",
      " 2   Label       6046 non-null   int64 \n",
      "dtypes: int64(2), object(1)\n",
      "memory usage: 141.8+ KB\n",
      "None\n"
     ]
    }
   ],
   "source": [
    "phishing_4_df = pd.read_csv('./data/completeSpamAssassin.csv')\n",
    "print(phishing_4_df.shape)\n",
    "print(phishing_4_df.info())"
   ]
  },
  {
   "cell_type": "code",
   "execution_count": 167,
   "id": "e0e8a3ef",
   "metadata": {},
   "outputs": [
    {
     "data": {
      "text/html": [
       "<div>\n",
       "<style scoped>\n",
       "    .dataframe tbody tr th:only-of-type {\n",
       "        vertical-align: middle;\n",
       "    }\n",
       "\n",
       "    .dataframe tbody tr th {\n",
       "        vertical-align: top;\n",
       "    }\n",
       "\n",
       "    .dataframe thead th {\n",
       "        text-align: right;\n",
       "    }\n",
       "</style>\n",
       "<table border=\"1\" class=\"dataframe\">\n",
       "  <thead>\n",
       "    <tr style=\"text-align: right;\">\n",
       "      <th></th>\n",
       "      <th>Unnamed: 0</th>\n",
       "      <th>Body</th>\n",
       "      <th>Label</th>\n",
       "    </tr>\n",
       "  </thead>\n",
       "  <tbody>\n",
       "    <tr>\n",
       "      <th>0</th>\n",
       "      <td>0</td>\n",
       "      <td>\\nSave up to 70% on Life Insurance.\\nWhy Spend...</td>\n",
       "      <td>1</td>\n",
       "    </tr>\n",
       "    <tr>\n",
       "      <th>1</th>\n",
       "      <td>1</td>\n",
       "      <td>1) Fight The Risk of Cancer!\\nhttp://www.adcli...</td>\n",
       "      <td>1</td>\n",
       "    </tr>\n",
       "    <tr>\n",
       "      <th>2</th>\n",
       "      <td>2</td>\n",
       "      <td>1) Fight The Risk of Cancer!\\nhttp://www.adcli...</td>\n",
       "      <td>1</td>\n",
       "    </tr>\n",
       "    <tr>\n",
       "      <th>3</th>\n",
       "      <td>3</td>\n",
       "      <td>##############################################...</td>\n",
       "      <td>1</td>\n",
       "    </tr>\n",
       "    <tr>\n",
       "      <th>4</th>\n",
       "      <td>4</td>\n",
       "      <td>I thought you might like these:\\n1) Slim Down ...</td>\n",
       "      <td>1</td>\n",
       "    </tr>\n",
       "  </tbody>\n",
       "</table>\n",
       "</div>"
      ],
      "text/plain": [
       "   Unnamed: 0                                               Body  Label\n",
       "0           0  \\nSave up to 70% on Life Insurance.\\nWhy Spend...      1\n",
       "1           1  1) Fight The Risk of Cancer!\\nhttp://www.adcli...      1\n",
       "2           2  1) Fight The Risk of Cancer!\\nhttp://www.adcli...      1\n",
       "3           3  ##############################################...      1\n",
       "4           4  I thought you might like these:\\n1) Slim Down ...      1"
      ]
     },
     "execution_count": 167,
     "metadata": {},
     "output_type": "execute_result"
    }
   ],
   "source": [
    "phishing_4_df.head()"
   ]
  },
  {
   "cell_type": "code",
   "execution_count": 189,
   "id": "ae669935",
   "metadata": {},
   "outputs": [],
   "source": [
    "phishing_extract_array = []\n",
    "for i in range(1, 5):\n",
    "    phishing_extract = pd.read_csv(f'./data/phishing_extract_{i}.csv')\n",
    "    phishing_extract_array.append(phishing_extract)\n",
    "\n",
    "    \n",
    "combined_phishing_extract_df = pd.DataFrame()    \n",
    "for df in phishing_extract_array:\n",
    "    df.drop(columns=['from', 'subject'], inplace=True)\n",
    "    combined_phishing_extract_df = pd.concat([combined_phishing_extract_df, df])\n",
    "combined_phishing_extract_df.drop_duplicates(inplace=True)\n",
    "combined_phishing_extract_df.to_csv('./data/phishing_eml_extract_full.csv', index=False)\n",
    "#     print('---Head---')\n",
    "#     display(df.head())\n",
    "#     print('---Tail---')\n",
    "#     display(df.tail())"
   ]
  },
  {
   "cell_type": "code",
   "execution_count": 192,
   "id": "88501e3e",
   "metadata": {},
   "outputs": [
    {
     "data": {
      "text/plain": [
       "0"
      ]
     },
     "execution_count": 192,
     "metadata": {},
     "output_type": "execute_result"
    }
   ],
   "source": [
    "combined_phishing_extract_df.duplicated().sum()"
   ]
  },
  {
   "cell_type": "code",
   "execution_count": 193,
   "id": "eb56db1b",
   "metadata": {
    "scrolled": false
   },
   "outputs": [
    {
     "data": {
      "text/html": [
       "<div>\n",
       "<style scoped>\n",
       "    .dataframe tbody tr th:only-of-type {\n",
       "        vertical-align: middle;\n",
       "    }\n",
       "\n",
       "    .dataframe tbody tr th {\n",
       "        vertical-align: top;\n",
       "    }\n",
       "\n",
       "    .dataframe thead th {\n",
       "        text-align: right;\n",
       "    }\n",
       "</style>\n",
       "<table border=\"1\" class=\"dataframe\">\n",
       "  <thead>\n",
       "    <tr style=\"text-align: right;\">\n",
       "      <th></th>\n",
       "      <th>content</th>\n",
       "    </tr>\n",
       "  </thead>\n",
       "  <tbody>\n",
       "    <tr>\n",
       "      <th>0</th>\n",
       "      <td>Dear valued PayPal member, Due to recent fraud...</td>\n",
       "    </tr>\n",
       "    <tr>\n",
       "      <th>1</th>\n",
       "      <td>Credit Union is constantly working to ensure s...</td>\n",
       "    </tr>\n",
       "    <tr>\n",
       "      <th>2</th>\n",
       "      <td>Untitled Document Dear eBay Member, We regret ...</td>\n",
       "    </tr>\n",
       "    <tr>\n",
       "      <th>3</th>\n",
       "      <td>Credit Union is constantly working to ensure s...</td>\n",
       "    </tr>\n",
       "    <tr>\n",
       "      <th>4</th>\n",
       "      <td>Dear Amazon member, Dear member, Due to concer...</td>\n",
       "    </tr>\n",
       "    <tr>\n",
       "      <th>...</th>\n",
       "      <td>...</td>\n",
       "    </tr>\n",
       "    <tr>\n",
       "      <th>1866</th>\n",
       "      <td>Dear business client of Regions Bank: The Regi...</td>\n",
       "    </tr>\n",
       "    <tr>\n",
       "      <th>1867</th>\n",
       "      <td>logo Dear Commonwealth Bank customer Commonwea...</td>\n",
       "    </tr>\n",
       "    <tr>\n",
       "      <th>1868</th>\n",
       "      <td>Dear National City business client: The Nation...</td>\n",
       "    </tr>\n",
       "    <tr>\n",
       "      <th>1869</th>\n",
       "      <td>Your account is limited PayPal is committed to...</td>\n",
       "    </tr>\n",
       "    <tr>\n",
       "      <th>1870</th>\n",
       "      <td>Dear PayPal Member, This email confirms that y...</td>\n",
       "    </tr>\n",
       "  </tbody>\n",
       "</table>\n",
       "<p>1871 rows × 1 columns</p>\n",
       "</div>"
      ],
      "text/plain": [
       "                                                content\n",
       "0     Dear valued PayPal member, Due to recent fraud...\n",
       "1     Credit Union is constantly working to ensure s...\n",
       "2     Untitled Document Dear eBay Member, We regret ...\n",
       "3     Credit Union is constantly working to ensure s...\n",
       "4     Dear Amazon member, Dear member, Due to concer...\n",
       "...                                                 ...\n",
       "1866  Dear business client of Regions Bank: The Regi...\n",
       "1867  logo Dear Commonwealth Bank customer Commonwea...\n",
       "1868  Dear National City business client: The Nation...\n",
       "1869  Your account is limited PayPal is committed to...\n",
       "1870  Dear PayPal Member, This email confirms that y...\n",
       "\n",
       "[1871 rows x 1 columns]"
      ]
     },
     "metadata": {},
     "output_type": "display_data"
    }
   ],
   "source": [
    "phishing_extract_df = pd.read_csv('./data/phishing_eml_extract_full.csv')\n",
    "display(phishing_extract_df)"
   ]
  },
  {
   "cell_type": "code",
   "execution_count": 194,
   "id": "f8514f67",
   "metadata": {},
   "outputs": [],
   "source": [
    "ham_extract_array = []\n",
    "for i in range(1, 4):\n",
    "    ham_extract = pd.read_csv(f'./data/ham_extract_{i}.csv')\n",
    "    ham_extract_array.append(ham_extract)\n",
    "\n",
    "combined_ham_extract_df = pd.DataFrame()    \n",
    "for df in ham_extract_array:\n",
    "    df.drop(columns=['from', 'subject'], inplace=True)\n",
    "    combined_ham_extract_df = pd.concat([combined_ham_extract_df, df])\n",
    "combined_ham_extract_df.drop_duplicates(inplace=True)\n",
    "combined_ham_extract_df.to_csv('./data/ham_eml_extract_full.csv', index=False)"
   ]
  },
  {
   "cell_type": "code",
   "execution_count": 195,
   "id": "123d5603",
   "metadata": {
    "scrolled": false
   },
   "outputs": [
    {
     "data": {
      "text/html": [
       "<div>\n",
       "<style scoped>\n",
       "    .dataframe tbody tr th:only-of-type {\n",
       "        vertical-align: middle;\n",
       "    }\n",
       "\n",
       "    .dataframe tbody tr th {\n",
       "        vertical-align: top;\n",
       "    }\n",
       "\n",
       "    .dataframe thead th {\n",
       "        text-align: right;\n",
       "    }\n",
       "</style>\n",
       "<table border=\"1\" class=\"dataframe\">\n",
       "  <thead>\n",
       "    <tr style=\"text-align: right;\">\n",
       "      <th></th>\n",
       "      <th>content</th>\n",
       "    </tr>\n",
       "  </thead>\n",
       "  <tbody>\n",
       "    <tr>\n",
       "      <th>0</th>\n",
       "      <td>I actually thought of this kind of active chat...</td>\n",
       "    </tr>\n",
       "    <tr>\n",
       "      <th>1</th>\n",
       "      <td>Content-Disposition: inline To view this newsl...</td>\n",
       "    </tr>\n",
       "    <tr>\n",
       "      <th>2</th>\n",
       "      <td>----- Original Message ----- From: Joseph S. B...</td>\n",
       "    </tr>\n",
       "    <tr>\n",
       "      <th>3</th>\n",
       "      <td>charsetISO-8859-1 formatflowed Bob We are a co...</td>\n",
       "    </tr>\n",
       "    <tr>\n",
       "      <th>4</th>\n",
       "      <td>I am delurking to comment on the Salon article...</td>\n",
       "    </tr>\n",
       "    <tr>\n",
       "      <th>...</th>\n",
       "      <td>...</td>\n",
       "    </tr>\n",
       "    <tr>\n",
       "      <th>1438</th>\n",
       "      <td>You appear to be using an email application th...</td>\n",
       "    </tr>\n",
       "    <tr>\n",
       "      <th>1439</th>\n",
       "      <td>CNET Investor Dispatch Quote LookupEnter symbo...</td>\n",
       "    </tr>\n",
       "    <tr>\n",
       "      <th>1440</th>\n",
       "      <td>Todays Headlines from The Register -----------...</td>\n",
       "    </tr>\n",
       "    <tr>\n",
       "      <th>1441</th>\n",
       "      <td>Hi Everyone, There seem to be several bonehead...</td>\n",
       "    </tr>\n",
       "    <tr>\n",
       "      <th>1442</th>\n",
       "      <td>CNET CatchUp Dispatch CNET: A note to our subs...</td>\n",
       "    </tr>\n",
       "  </tbody>\n",
       "</table>\n",
       "<p>1443 rows × 1 columns</p>\n",
       "</div>"
      ],
      "text/plain": [
       "                                                content\n",
       "0     I actually thought of this kind of active chat...\n",
       "1     Content-Disposition: inline To view this newsl...\n",
       "2     ----- Original Message ----- From: Joseph S. B...\n",
       "3     charsetISO-8859-1 formatflowed Bob We are a co...\n",
       "4     I am delurking to comment on the Salon article...\n",
       "...                                                 ...\n",
       "1438  You appear to be using an email application th...\n",
       "1439  CNET Investor Dispatch Quote LookupEnter symbo...\n",
       "1440  Todays Headlines from The Register -----------...\n",
       "1441  Hi Everyone, There seem to be several bonehead...\n",
       "1442  CNET CatchUp Dispatch CNET: A note to our subs...\n",
       "\n",
       "[1443 rows x 1 columns]"
      ]
     },
     "metadata": {},
     "output_type": "display_data"
    }
   ],
   "source": [
    "combined_ham_extract_df = pd.read_csv('./data/ham_eml_extract_full.csv')\n",
    "display(combined_ham_extract_df)"
   ]
  },
  {
   "cell_type": "markdown",
   "id": "b8d288d1",
   "metadata": {},
   "source": [
    "## Data Frame Cleaning"
   ]
  },
  {
   "cell_type": "code",
   "execution_count": 196,
   "id": "15b31298",
   "metadata": {},
   "outputs": [],
   "source": [
    "phishing_1_clean_df = phishing_df.drop(columns=['URL', 'EMAIL', 'PHONE'])"
   ]
  },
  {
   "cell_type": "code",
   "execution_count": 197,
   "id": "171d79ee",
   "metadata": {},
   "outputs": [
    {
     "data": {
      "text/plain": [
       "ham         4844\n",
       "Smishing     616\n",
       "spam         466\n",
       "Spam          23\n",
       "smishing      22\n",
       "Name: LABEL, dtype: int64"
      ]
     },
     "execution_count": 197,
     "metadata": {},
     "output_type": "execute_result"
    }
   ],
   "source": [
    "phishing_1_clean_df['LABEL'].value_counts()"
   ]
  },
  {
   "cell_type": "code",
   "execution_count": 198,
   "id": "16e40d20",
   "metadata": {},
   "outputs": [],
   "source": [
    "phishing_1_clean_df['content'] = phishing_1_clean_df['TEXT']\n",
    "phishing_1_clean_df['phishing'] = np.where(\n",
    "    (phishing_1_clean_df['LABEL'] == 'Smishing') | (phishing_1_clean_df['LABEL'] == 'smishing'),\n",
    "    True,\n",
    "    False\n",
    ")\n",
    "phishing_1_clean_df.drop(columns = ['LABEL', 'TEXT'], inplace = True)"
   ]
  },
  {
   "cell_type": "code",
   "execution_count": 199,
   "id": "340ae82e",
   "metadata": {},
   "outputs": [
    {
     "data": {
      "text/html": [
       "<div>\n",
       "<style scoped>\n",
       "    .dataframe tbody tr th:only-of-type {\n",
       "        vertical-align: middle;\n",
       "    }\n",
       "\n",
       "    .dataframe tbody tr th {\n",
       "        vertical-align: top;\n",
       "    }\n",
       "\n",
       "    .dataframe thead th {\n",
       "        text-align: right;\n",
       "    }\n",
       "</style>\n",
       "<table border=\"1\" class=\"dataframe\">\n",
       "  <thead>\n",
       "    <tr style=\"text-align: right;\">\n",
       "      <th></th>\n",
       "      <th>content</th>\n",
       "      <th>phishing</th>\n",
       "    </tr>\n",
       "  </thead>\n",
       "  <tbody>\n",
       "    <tr>\n",
       "      <th>0</th>\n",
       "      <td>Your opinion about me? 1. Over 2. Jada 3. Kusr...</td>\n",
       "      <td>False</td>\n",
       "    </tr>\n",
       "    <tr>\n",
       "      <th>1</th>\n",
       "      <td>What's up? Do you want me to come online? If y...</td>\n",
       "      <td>False</td>\n",
       "    </tr>\n",
       "    <tr>\n",
       "      <th>2</th>\n",
       "      <td>So u workin overtime nigpun?</td>\n",
       "      <td>False</td>\n",
       "    </tr>\n",
       "    <tr>\n",
       "      <th>3</th>\n",
       "      <td>Also sir, i sent you an email about how to log...</td>\n",
       "      <td>False</td>\n",
       "    </tr>\n",
       "    <tr>\n",
       "      <th>4</th>\n",
       "      <td>Please Stay At Home. To encourage the notion o...</td>\n",
       "      <td>True</td>\n",
       "    </tr>\n",
       "  </tbody>\n",
       "</table>\n",
       "</div>"
      ],
      "text/plain": [
       "                                             content  phishing\n",
       "0  Your opinion about me? 1. Over 2. Jada 3. Kusr...     False\n",
       "1  What's up? Do you want me to come online? If y...     False\n",
       "2                       So u workin overtime nigpun?     False\n",
       "3  Also sir, i sent you an email about how to log...     False\n",
       "4  Please Stay At Home. To encourage the notion o...      True"
      ]
     },
     "execution_count": 199,
     "metadata": {},
     "output_type": "execute_result"
    }
   ],
   "source": [
    "phishing_1_clean_df.head()"
   ]
  },
  {
   "cell_type": "code",
   "execution_count": 200,
   "id": "269d3b8e",
   "metadata": {},
   "outputs": [
    {
     "data": {
      "text/html": [
       "<div>\n",
       "<style scoped>\n",
       "    .dataframe tbody tr th:only-of-type {\n",
       "        vertical-align: middle;\n",
       "    }\n",
       "\n",
       "    .dataframe tbody tr th {\n",
       "        vertical-align: top;\n",
       "    }\n",
       "\n",
       "    .dataframe thead th {\n",
       "        text-align: right;\n",
       "    }\n",
       "</style>\n",
       "<table border=\"1\" class=\"dataframe\">\n",
       "  <thead>\n",
       "    <tr style=\"text-align: right;\">\n",
       "      <th></th>\n",
       "      <th>Text</th>\n",
       "      <th>Class</th>\n",
       "    </tr>\n",
       "  </thead>\n",
       "  <tbody>\n",
       "    <tr>\n",
       "      <th>0</th>\n",
       "      <td>Supply Quality China's EXCLUSIVE dimensions at...</td>\n",
       "      <td>1</td>\n",
       "    </tr>\n",
       "    <tr>\n",
       "      <th>1</th>\n",
       "      <td>over. SidLet me know. Thx.</td>\n",
       "      <td>0</td>\n",
       "    </tr>\n",
       "    <tr>\n",
       "      <th>2</th>\n",
       "      <td>Dear Friend,Greetings to you.I wish to accost ...</td>\n",
       "      <td>1</td>\n",
       "    </tr>\n",
       "    <tr>\n",
       "      <th>3</th>\n",
       "      <td>MR. CHEUNG PUIHANG SENG BANK LTD.DES VOEUX RD....</td>\n",
       "      <td>1</td>\n",
       "    </tr>\n",
       "    <tr>\n",
       "      <th>4</th>\n",
       "      <td>Not a surprising assessment from Embassy.</td>\n",
       "      <td>0</td>\n",
       "    </tr>\n",
       "  </tbody>\n",
       "</table>\n",
       "</div>"
      ],
      "text/plain": [
       "                                                Text  Class\n",
       "0  Supply Quality China's EXCLUSIVE dimensions at...      1\n",
       "1                         over. SidLet me know. Thx.      0\n",
       "2  Dear Friend,Greetings to you.I wish to accost ...      1\n",
       "3  MR. CHEUNG PUIHANG SENG BANK LTD.DES VOEUX RD....      1\n",
       "4          Not a surprising assessment from Embassy.      0"
      ]
     },
     "execution_count": 200,
     "metadata": {},
     "output_type": "execute_result"
    }
   ],
   "source": [
    "phishing_2_df.head()"
   ]
  },
  {
   "cell_type": "code",
   "execution_count": 201,
   "id": "c63f6d61",
   "metadata": {},
   "outputs": [],
   "source": [
    "phishing_2_clean_df = pd.DataFrame()"
   ]
  },
  {
   "cell_type": "code",
   "execution_count": 202,
   "id": "f62ed280",
   "metadata": {},
   "outputs": [],
   "source": [
    "phishing_2_clean_df['content'] = phishing_2_df['Text']\n",
    "phishing_2_clean_df['phishing'] = np.where(\n",
    "    phishing_2_df['Class'] == 1,\n",
    "    True,\n",
    "    False\n",
    ")"
   ]
  },
  {
   "cell_type": "code",
   "execution_count": 203,
   "id": "d7e8e798",
   "metadata": {},
   "outputs": [
    {
     "data": {
      "text/html": [
       "<div>\n",
       "<style scoped>\n",
       "    .dataframe tbody tr th:only-of-type {\n",
       "        vertical-align: middle;\n",
       "    }\n",
       "\n",
       "    .dataframe tbody tr th {\n",
       "        vertical-align: top;\n",
       "    }\n",
       "\n",
       "    .dataframe thead th {\n",
       "        text-align: right;\n",
       "    }\n",
       "</style>\n",
       "<table border=\"1\" class=\"dataframe\">\n",
       "  <thead>\n",
       "    <tr style=\"text-align: right;\">\n",
       "      <th></th>\n",
       "      <th>content</th>\n",
       "      <th>phishing</th>\n",
       "    </tr>\n",
       "  </thead>\n",
       "  <tbody>\n",
       "    <tr>\n",
       "      <th>0</th>\n",
       "      <td>Supply Quality China's EXCLUSIVE dimensions at...</td>\n",
       "      <td>True</td>\n",
       "    </tr>\n",
       "    <tr>\n",
       "      <th>1</th>\n",
       "      <td>over. SidLet me know. Thx.</td>\n",
       "      <td>False</td>\n",
       "    </tr>\n",
       "    <tr>\n",
       "      <th>2</th>\n",
       "      <td>Dear Friend,Greetings to you.I wish to accost ...</td>\n",
       "      <td>True</td>\n",
       "    </tr>\n",
       "    <tr>\n",
       "      <th>3</th>\n",
       "      <td>MR. CHEUNG PUIHANG SENG BANK LTD.DES VOEUX RD....</td>\n",
       "      <td>True</td>\n",
       "    </tr>\n",
       "    <tr>\n",
       "      <th>4</th>\n",
       "      <td>Not a surprising assessment from Embassy.</td>\n",
       "      <td>False</td>\n",
       "    </tr>\n",
       "  </tbody>\n",
       "</table>\n",
       "</div>"
      ],
      "text/plain": [
       "                                             content  phishing\n",
       "0  Supply Quality China's EXCLUSIVE dimensions at...      True\n",
       "1                         over. SidLet me know. Thx.     False\n",
       "2  Dear Friend,Greetings to you.I wish to accost ...      True\n",
       "3  MR. CHEUNG PUIHANG SENG BANK LTD.DES VOEUX RD....      True\n",
       "4          Not a surprising assessment from Embassy.     False"
      ]
     },
     "execution_count": 203,
     "metadata": {},
     "output_type": "execute_result"
    }
   ],
   "source": [
    "phishing_2_clean_df.head()"
   ]
  },
  {
   "cell_type": "code",
   "execution_count": 204,
   "id": "3903866f",
   "metadata": {},
   "outputs": [
    {
     "data": {
      "text/html": [
       "<div>\n",
       "<style scoped>\n",
       "    .dataframe tbody tr th:only-of-type {\n",
       "        vertical-align: middle;\n",
       "    }\n",
       "\n",
       "    .dataframe tbody tr th {\n",
       "        vertical-align: top;\n",
       "    }\n",
       "\n",
       "    .dataframe thead th {\n",
       "        text-align: right;\n",
       "    }\n",
       "</style>\n",
       "<table border=\"1\" class=\"dataframe\">\n",
       "  <thead>\n",
       "    <tr style=\"text-align: right;\">\n",
       "      <th></th>\n",
       "      <th>Subject</th>\n",
       "      <th>Text</th>\n",
       "      <th>Type</th>\n",
       "    </tr>\n",
       "  </thead>\n",
       "  <tbody>\n",
       "    <tr>\n",
       "      <th>0</th>\n",
       "      <td>URGENT BUSINESS ASSISTANCE AND PARTNERSHIP</td>\n",
       "      <td>URGENT BUSINESS ASSISTANCE AND PARTNERSHIP.\\n\\...</td>\n",
       "      <td>Fraud</td>\n",
       "    </tr>\n",
       "    <tr>\n",
       "      <th>1</th>\n",
       "      <td>URGENT ASSISTANCE /RELATIONSHIP (P)</td>\n",
       "      <td>Dear Friend,\\n\\nI am Mr. Ben Suleman a custom ...</td>\n",
       "      <td>Fraud</td>\n",
       "    </tr>\n",
       "    <tr>\n",
       "      <th>2</th>\n",
       "      <td>GOOD DAY TO YOU</td>\n",
       "      <td>FROM HIS ROYAL MAJESTY (HRM) CROWN RULER OF EL...</td>\n",
       "      <td>Fraud</td>\n",
       "    </tr>\n",
       "    <tr>\n",
       "      <th>3</th>\n",
       "      <td>from Mrs.Johnson</td>\n",
       "      <td>Goodday Dear\\n\\n\\nI know this mail will come t...</td>\n",
       "      <td>Fraud</td>\n",
       "    </tr>\n",
       "    <tr>\n",
       "      <th>4</th>\n",
       "      <td>Co-Operation</td>\n",
       "      <td>FROM MR. GODWIN AKWESI\\nTEL: +233 208216645\\nF...</td>\n",
       "      <td>Fraud</td>\n",
       "    </tr>\n",
       "  </tbody>\n",
       "</table>\n",
       "</div>"
      ],
      "text/plain": [
       "                                      Subject  \\\n",
       "0  URGENT BUSINESS ASSISTANCE AND PARTNERSHIP   \n",
       "1         URGENT ASSISTANCE /RELATIONSHIP (P)   \n",
       "2                             GOOD DAY TO YOU   \n",
       "3                            from Mrs.Johnson   \n",
       "4                                Co-Operation   \n",
       "\n",
       "                                                Text   Type  \n",
       "0  URGENT BUSINESS ASSISTANCE AND PARTNERSHIP.\\n\\...  Fraud  \n",
       "1  Dear Friend,\\n\\nI am Mr. Ben Suleman a custom ...  Fraud  \n",
       "2  FROM HIS ROYAL MAJESTY (HRM) CROWN RULER OF EL...  Fraud  \n",
       "3  Goodday Dear\\n\\n\\nI know this mail will come t...  Fraud  \n",
       "4  FROM MR. GODWIN AKWESI\\nTEL: +233 208216645\\nF...  Fraud  "
      ]
     },
     "execution_count": 204,
     "metadata": {},
     "output_type": "execute_result"
    }
   ],
   "source": [
    "phishing_3_df.head()"
   ]
  },
  {
   "cell_type": "code",
   "execution_count": 205,
   "id": "013fdb8b",
   "metadata": {},
   "outputs": [],
   "source": [
    "phishing_3_clean_df = pd.DataFrame()\n",
    "phishing_3_clean_df['content'] = phishing_3_df['Text']\n",
    "phishing_3_clean_df['phishing'] = np.where(\n",
    "    phishing_3_df['Type'] == 'Fraud',\n",
    "    True,\n",
    "    False\n",
    ")"
   ]
  },
  {
   "cell_type": "code",
   "execution_count": 206,
   "id": "43c215de",
   "metadata": {},
   "outputs": [
    {
     "data": {
      "text/html": [
       "<div>\n",
       "<style scoped>\n",
       "    .dataframe tbody tr th:only-of-type {\n",
       "        vertical-align: middle;\n",
       "    }\n",
       "\n",
       "    .dataframe tbody tr th {\n",
       "        vertical-align: top;\n",
       "    }\n",
       "\n",
       "    .dataframe thead th {\n",
       "        text-align: right;\n",
       "    }\n",
       "</style>\n",
       "<table border=\"1\" class=\"dataframe\">\n",
       "  <thead>\n",
       "    <tr style=\"text-align: right;\">\n",
       "      <th></th>\n",
       "      <th>content</th>\n",
       "      <th>phishing</th>\n",
       "    </tr>\n",
       "  </thead>\n",
       "  <tbody>\n",
       "    <tr>\n",
       "      <th>0</th>\n",
       "      <td>URGENT BUSINESS ASSISTANCE AND PARTNERSHIP.\\n\\...</td>\n",
       "      <td>True</td>\n",
       "    </tr>\n",
       "    <tr>\n",
       "      <th>1</th>\n",
       "      <td>Dear Friend,\\n\\nI am Mr. Ben Suleman a custom ...</td>\n",
       "      <td>True</td>\n",
       "    </tr>\n",
       "    <tr>\n",
       "      <th>2</th>\n",
       "      <td>FROM HIS ROYAL MAJESTY (HRM) CROWN RULER OF EL...</td>\n",
       "      <td>True</td>\n",
       "    </tr>\n",
       "    <tr>\n",
       "      <th>3</th>\n",
       "      <td>Goodday Dear\\n\\n\\nI know this mail will come t...</td>\n",
       "      <td>True</td>\n",
       "    </tr>\n",
       "    <tr>\n",
       "      <th>4</th>\n",
       "      <td>FROM MR. GODWIN AKWESI\\nTEL: +233 208216645\\nF...</td>\n",
       "      <td>True</td>\n",
       "    </tr>\n",
       "  </tbody>\n",
       "</table>\n",
       "</div>"
      ],
      "text/plain": [
       "                                             content  phishing\n",
       "0  URGENT BUSINESS ASSISTANCE AND PARTNERSHIP.\\n\\...      True\n",
       "1  Dear Friend,\\n\\nI am Mr. Ben Suleman a custom ...      True\n",
       "2  FROM HIS ROYAL MAJESTY (HRM) CROWN RULER OF EL...      True\n",
       "3  Goodday Dear\\n\\n\\nI know this mail will come t...      True\n",
       "4  FROM MR. GODWIN AKWESI\\nTEL: +233 208216645\\nF...      True"
      ]
     },
     "execution_count": 206,
     "metadata": {},
     "output_type": "execute_result"
    }
   ],
   "source": [
    "phishing_3_clean_df.head()"
   ]
  },
  {
   "cell_type": "code",
   "execution_count": 207,
   "id": "e521f1cd",
   "metadata": {},
   "outputs": [
    {
     "data": {
      "text/html": [
       "<div>\n",
       "<style scoped>\n",
       "    .dataframe tbody tr th:only-of-type {\n",
       "        vertical-align: middle;\n",
       "    }\n",
       "\n",
       "    .dataframe tbody tr th {\n",
       "        vertical-align: top;\n",
       "    }\n",
       "\n",
       "    .dataframe thead th {\n",
       "        text-align: right;\n",
       "    }\n",
       "</style>\n",
       "<table border=\"1\" class=\"dataframe\">\n",
       "  <thead>\n",
       "    <tr style=\"text-align: right;\">\n",
       "      <th></th>\n",
       "      <th>Unnamed: 0</th>\n",
       "      <th>Body</th>\n",
       "      <th>Label</th>\n",
       "    </tr>\n",
       "  </thead>\n",
       "  <tbody>\n",
       "    <tr>\n",
       "      <th>0</th>\n",
       "      <td>0</td>\n",
       "      <td>\\nSave up to 70% on Life Insurance.\\nWhy Spend...</td>\n",
       "      <td>1</td>\n",
       "    </tr>\n",
       "    <tr>\n",
       "      <th>1</th>\n",
       "      <td>1</td>\n",
       "      <td>1) Fight The Risk of Cancer!\\nhttp://www.adcli...</td>\n",
       "      <td>1</td>\n",
       "    </tr>\n",
       "    <tr>\n",
       "      <th>2</th>\n",
       "      <td>2</td>\n",
       "      <td>1) Fight The Risk of Cancer!\\nhttp://www.adcli...</td>\n",
       "      <td>1</td>\n",
       "    </tr>\n",
       "    <tr>\n",
       "      <th>3</th>\n",
       "      <td>3</td>\n",
       "      <td>##############################################...</td>\n",
       "      <td>1</td>\n",
       "    </tr>\n",
       "    <tr>\n",
       "      <th>4</th>\n",
       "      <td>4</td>\n",
       "      <td>I thought you might like these:\\n1) Slim Down ...</td>\n",
       "      <td>1</td>\n",
       "    </tr>\n",
       "  </tbody>\n",
       "</table>\n",
       "</div>"
      ],
      "text/plain": [
       "   Unnamed: 0                                               Body  Label\n",
       "0           0  \\nSave up to 70% on Life Insurance.\\nWhy Spend...      1\n",
       "1           1  1) Fight The Risk of Cancer!\\nhttp://www.adcli...      1\n",
       "2           2  1) Fight The Risk of Cancer!\\nhttp://www.adcli...      1\n",
       "3           3  ##############################################...      1\n",
       "4           4  I thought you might like these:\\n1) Slim Down ...      1"
      ]
     },
     "execution_count": 207,
     "metadata": {},
     "output_type": "execute_result"
    }
   ],
   "source": [
    "phishing_4_df.head()"
   ]
  },
  {
   "cell_type": "code",
   "execution_count": 208,
   "id": "d160fd54",
   "metadata": {},
   "outputs": [
    {
     "name": "stderr",
     "output_type": "stream",
     "text": [
      "/var/folders/t9/4whyp65x6cqg_kdhc89_f_080000gn/T/ipykernel_75742/2649496330.py:2: FutureWarning: The default value of regex will change from True to False in a future version.\n",
      "  phishing_4_clean_df['content'] = phishing_4_df['Body'].str.replace('\\\\n', ' ')\n"
     ]
    }
   ],
   "source": [
    "phishing_4_clean_df = pd.DataFrame()\n",
    "phishing_4_clean_df['content'] = phishing_4_df['Body'].str.replace('\\\\n', ' ')\n",
    "phishing_4_clean_df['phishing'] = np.where(\n",
    "    phishing_4_df['Label'] == 1,\n",
    "    True,\n",
    "    False\n",
    ")"
   ]
  },
  {
   "cell_type": "code",
   "execution_count": 209,
   "id": "448e1e6f",
   "metadata": {
    "scrolled": true
   },
   "outputs": [
    {
     "data": {
      "text/html": [
       "<div>\n",
       "<style scoped>\n",
       "    .dataframe tbody tr th:only-of-type {\n",
       "        vertical-align: middle;\n",
       "    }\n",
       "\n",
       "    .dataframe tbody tr th {\n",
       "        vertical-align: top;\n",
       "    }\n",
       "\n",
       "    .dataframe thead th {\n",
       "        text-align: right;\n",
       "    }\n",
       "</style>\n",
       "<table border=\"1\" class=\"dataframe\">\n",
       "  <thead>\n",
       "    <tr style=\"text-align: right;\">\n",
       "      <th></th>\n",
       "      <th>content</th>\n",
       "      <th>phishing</th>\n",
       "    </tr>\n",
       "  </thead>\n",
       "  <tbody>\n",
       "    <tr>\n",
       "      <th>0</th>\n",
       "      <td>Save up to 70% on Life Insurance. Why Spend M...</td>\n",
       "      <td>True</td>\n",
       "    </tr>\n",
       "    <tr>\n",
       "      <th>1</th>\n",
       "      <td>1) Fight The Risk of Cancer! http://www.adclic...</td>\n",
       "      <td>True</td>\n",
       "    </tr>\n",
       "    <tr>\n",
       "      <th>2</th>\n",
       "      <td>1) Fight The Risk of Cancer! http://www.adclic...</td>\n",
       "      <td>True</td>\n",
       "    </tr>\n",
       "    <tr>\n",
       "      <th>3</th>\n",
       "      <td>##############################################...</td>\n",
       "      <td>True</td>\n",
       "    </tr>\n",
       "    <tr>\n",
       "      <th>4</th>\n",
       "      <td>I thought you might like these: 1) Slim Down -...</td>\n",
       "      <td>True</td>\n",
       "    </tr>\n",
       "  </tbody>\n",
       "</table>\n",
       "</div>"
      ],
      "text/plain": [
       "                                             content  phishing\n",
       "0   Save up to 70% on Life Insurance. Why Spend M...      True\n",
       "1  1) Fight The Risk of Cancer! http://www.adclic...      True\n",
       "2  1) Fight The Risk of Cancer! http://www.adclic...      True\n",
       "3  ##############################################...      True\n",
       "4  I thought you might like these: 1) Slim Down -...      True"
      ]
     },
     "execution_count": 209,
     "metadata": {},
     "output_type": "execute_result"
    }
   ],
   "source": [
    "phishing_4_clean_df.head()"
   ]
  },
  {
   "cell_type": "code",
   "execution_count": 215,
   "id": "2cd7e573",
   "metadata": {},
   "outputs": [],
   "source": [
    "phishing_5_clean_df = phishing_extract_df\n",
    "phishing_5_clean_df['phishing'] = True"
   ]
  },
  {
   "cell_type": "code",
   "execution_count": 216,
   "id": "e797cad8",
   "metadata": {},
   "outputs": [],
   "source": [
    "phishing_6_clean_df = combined_ham_extract_df\n",
    "phishing_6_clean_df['phishing'] = False"
   ]
  },
  {
   "cell_type": "code",
   "execution_count": 217,
   "id": "3d3b94ef",
   "metadata": {},
   "outputs": [],
   "source": [
    "phishing_all_df = pd.concat([\n",
    "    phishing_1_clean_df,\n",
    "    phishing_2_clean_df,\n",
    "    phishing_3_clean_df,\n",
    "    phishing_4_clean_df,\n",
    "    phishing_5_clean_df,\n",
    "    phishing_6_clean_df\n",
    "])"
   ]
  },
  {
   "cell_type": "code",
   "execution_count": 223,
   "id": "b4bbf454",
   "metadata": {},
   "outputs": [],
   "source": [
    "phishing_all_df.dropna(inplace=True)"
   ]
  },
  {
   "cell_type": "code",
   "execution_count": 226,
   "id": "5b2146d3",
   "metadata": {
    "scrolled": true
   },
   "outputs": [
    {
     "data": {
      "text/plain": [
       "content     0\n",
       "phishing    0\n",
       "dtype: int64"
      ]
     },
     "execution_count": 226,
     "metadata": {},
     "output_type": "execute_result"
    }
   ],
   "source": [
    "phishing_all_df.isna().sum()"
   ]
  },
  {
   "cell_type": "code",
   "execution_count": 227,
   "id": "442ac7f3",
   "metadata": {
    "scrolled": true
   },
   "outputs": [
    {
     "data": {
      "text/html": [
       "<div>\n",
       "<style scoped>\n",
       "    .dataframe tbody tr th:only-of-type {\n",
       "        vertical-align: middle;\n",
       "    }\n",
       "\n",
       "    .dataframe tbody tr th {\n",
       "        vertical-align: top;\n",
       "    }\n",
       "\n",
       "    .dataframe thead th {\n",
       "        text-align: right;\n",
       "    }\n",
       "</style>\n",
       "<table border=\"1\" class=\"dataframe\">\n",
       "  <thead>\n",
       "    <tr style=\"text-align: right;\">\n",
       "      <th></th>\n",
       "      <th>content</th>\n",
       "      <th>phishing</th>\n",
       "    </tr>\n",
       "  </thead>\n",
       "  <tbody>\n",
       "    <tr>\n",
       "      <th>0</th>\n",
       "      <td>Your opinion about me? 1. Over 2. Jada 3. Kusr...</td>\n",
       "      <td>False</td>\n",
       "    </tr>\n",
       "    <tr>\n",
       "      <th>1</th>\n",
       "      <td>What's up? Do you want me to come online? If y...</td>\n",
       "      <td>False</td>\n",
       "    </tr>\n",
       "    <tr>\n",
       "      <th>2</th>\n",
       "      <td>So u workin overtime nigpun?</td>\n",
       "      <td>False</td>\n",
       "    </tr>\n",
       "    <tr>\n",
       "      <th>3</th>\n",
       "      <td>Also sir, i sent you an email about how to log...</td>\n",
       "      <td>False</td>\n",
       "    </tr>\n",
       "    <tr>\n",
       "      <th>4</th>\n",
       "      <td>Please Stay At Home. To encourage the notion o...</td>\n",
       "      <td>True</td>\n",
       "    </tr>\n",
       "    <tr>\n",
       "      <th>...</th>\n",
       "      <td>...</td>\n",
       "      <td>...</td>\n",
       "    </tr>\n",
       "    <tr>\n",
       "      <th>1438</th>\n",
       "      <td>You appear to be using an email application th...</td>\n",
       "      <td>False</td>\n",
       "    </tr>\n",
       "    <tr>\n",
       "      <th>1439</th>\n",
       "      <td>CNET Investor Dispatch Quote LookupEnter symbo...</td>\n",
       "      <td>False</td>\n",
       "    </tr>\n",
       "    <tr>\n",
       "      <th>1440</th>\n",
       "      <td>Todays Headlines from The Register -----------...</td>\n",
       "      <td>False</td>\n",
       "    </tr>\n",
       "    <tr>\n",
       "      <th>1441</th>\n",
       "      <td>Hi Everyone, There seem to be several bonehead...</td>\n",
       "      <td>False</td>\n",
       "    </tr>\n",
       "    <tr>\n",
       "      <th>1442</th>\n",
       "      <td>CNET CatchUp Dispatch CNET: A note to our subs...</td>\n",
       "      <td>False</td>\n",
       "    </tr>\n",
       "  </tbody>\n",
       "</table>\n",
       "<p>27416 rows × 2 columns</p>\n",
       "</div>"
      ],
      "text/plain": [
       "                                                content  phishing\n",
       "0     Your opinion about me? 1. Over 2. Jada 3. Kusr...     False\n",
       "1     What's up? Do you want me to come online? If y...     False\n",
       "2                          So u workin overtime nigpun?     False\n",
       "3     Also sir, i sent you an email about how to log...     False\n",
       "4     Please Stay At Home. To encourage the notion o...      True\n",
       "...                                                 ...       ...\n",
       "1438  You appear to be using an email application th...     False\n",
       "1439  CNET Investor Dispatch Quote LookupEnter symbo...     False\n",
       "1440  Todays Headlines from The Register -----------...     False\n",
       "1441  Hi Everyone, There seem to be several bonehead...     False\n",
       "1442  CNET CatchUp Dispatch CNET: A note to our subs...     False\n",
       "\n",
       "[27416 rows x 2 columns]"
      ]
     },
     "execution_count": 227,
     "metadata": {},
     "output_type": "execute_result"
    }
   ],
   "source": [
    "phishing_all_df"
   ]
  },
  {
   "cell_type": "code",
   "execution_count": 229,
   "id": "53fd580c",
   "metadata": {},
   "outputs": [],
   "source": [
    "phishing_all_df.to_csv('./data/phishing_all_data.csv', index=False)"
   ]
  }
 ],
 "metadata": {
  "kernelspec": {
   "display_name": "Python 3 (ipykernel)",
   "language": "python",
   "name": "python3"
  },
  "language_info": {
   "codemirror_mode": {
    "name": "ipython",
    "version": 3
   },
   "file_extension": ".py",
   "mimetype": "text/x-python",
   "name": "python",
   "nbconvert_exporter": "python",
   "pygments_lexer": "ipython3",
   "version": "3.9.13"
  },
  "toc": {
   "base_numbering": 1,
   "nav_menu": {},
   "number_sections": true,
   "sideBar": true,
   "skip_h1_title": false,
   "title_cell": "Table of Contents",
   "title_sidebar": "Contents",
   "toc_cell": false,
   "toc_position": {},
   "toc_section_display": true,
   "toc_window_display": false
  }
 },
 "nbformat": 4,
 "nbformat_minor": 5
}
