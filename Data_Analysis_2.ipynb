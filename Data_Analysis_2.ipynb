{
 "cells": [
  {
   "cell_type": "code",
   "execution_count": 84,
   "id": "8aebe56c",
   "metadata": {},
   "outputs": [],
   "source": [
    "import pandas as pd\n",
    "import numpy as np\n",
    "import re\n",
    "import math\n",
    "# Plotting libraries\n",
    "import matplotlib.pyplot as plt\n",
    "import seaborn as sns\n",
    "# NLP libraries\n",
    "from sklearn.feature_extraction.text import CountVectorizer\n",
    "import nltk"
   ]
  },
  {
   "cell_type": "code",
   "execution_count": 85,
   "id": "91f347fd",
   "metadata": {},
   "outputs": [],
   "source": [
    "plt.style.use('ggplot')"
   ]
  },
  {
   "cell_type": "code",
   "execution_count": 86,
   "id": "da3ecf7b",
   "metadata": {},
   "outputs": [],
   "source": [
    "email_df = pd.read_csv('./data/phishing_all_data.csv')"
   ]
  },
  {
   "cell_type": "code",
   "execution_count": 87,
   "id": "2d0e3b95",
   "metadata": {},
   "outputs": [
    {
     "data": {
      "text/plain": [
       "(27416, 2)"
      ]
     },
     "execution_count": 87,
     "metadata": {},
     "output_type": "execute_result"
    }
   ],
   "source": [
    "email_df.shape"
   ]
  },
  {
   "cell_type": "code",
   "execution_count": 88,
   "id": "247aceb2",
   "metadata": {},
   "outputs": [
    {
     "data": {
      "text/plain": [
       "False    17787\n",
       "True      9629\n",
       "Name: phishing, dtype: int64"
      ]
     },
     "execution_count": 88,
     "metadata": {},
     "output_type": "execute_result"
    }
   ],
   "source": [
    "email_df['phishing'].value_counts()"
   ]
  },
  {
   "cell_type": "code",
   "execution_count": 89,
   "id": "e7aa8e65",
   "metadata": {},
   "outputs": [],
   "source": [
    "phishing_df = email_df[email_df['phishing']].reset_index(drop=True)\n",
    "ham_df = email_df[~email_df['phishing']].reset_index(drop=True)"
   ]
  },
  {
   "cell_type": "code",
   "execution_count": 90,
   "id": "52c1266d",
   "metadata": {},
   "outputs": [
    {
     "name": "stderr",
     "output_type": "stream",
     "text": [
      "[nltk_data] Downloading package stopwords to\n",
      "[nltk_data]     /Users/rosswillett/nltk_data...\n",
      "[nltk_data]   Package stopwords is already up-to-date!\n"
     ]
    }
   ],
   "source": [
    "# import the nltk stopwords\n",
    "nltk.download('stopwords')\n",
    "from nltk.corpus import stopwords \n",
    "\n",
    "ENGLISH_STOP_WORDS = stopwords.words('english')\n",
    "stemmer = nltk.stem.PorterStemmer()"
   ]
  },
  {
   "cell_type": "code",
   "execution_count": 91,
   "id": "aa65bc0c",
   "metadata": {},
   "outputs": [],
   "source": [
    "def custom_tokenizer(text):\n",
    "    # allow alphanumeric characters and spaces only\n",
    "    alpha_only_text = re.sub(r'[^a-zA-Z\\s]', '', text)\n",
    "    \n",
    "    # split sentence into words\n",
    "    listofwords = alpha_only_text.split(' ')\n",
    "    listofstemmed_words = []\n",
    "    \n",
    "    # remove stopwords and any tokens that are just empty strings\n",
    "    for word in listofwords:\n",
    "        if (not word in ENGLISH_STOP_WORDS) and (word!=''):\n",
    "            # Stem words\n",
    "            stemmed_word = stemmer.stem(word)\n",
    "            listofstemmed_words.append(stemmed_word)\n",
    "\n",
    "    return listofstemmed_words"
   ]
  },
  {
   "cell_type": "markdown",
   "id": "334a4d28",
   "metadata": {},
   "source": [
    "## Analyzing Email Words"
   ]
  },
  {
   "cell_type": "markdown",
   "id": "e00ccbb3",
   "metadata": {},
   "source": [
    "### Analyzing Top Phishing Words"
   ]
  },
  {
   "cell_type": "code",
   "execution_count": 92,
   "id": "7f0b3003",
   "metadata": {},
   "outputs": [
    {
     "name": "stderr",
     "output_type": "stream",
     "text": [
      "/Applications/anaconda3/envs/capstone/lib/python3.10/site-packages/sklearn/feature_extraction/text.py:528: UserWarning: The parameter 'token_pattern' will not be used since 'tokenizer' is not None'\n",
      "  warnings.warn(\n"
     ]
    }
   ],
   "source": [
    "phishing_word_vectorizer = CountVectorizer(\n",
    "    tokenizer=custom_tokenizer,\n",
    "    min_df=0.1,\n",
    ")\n",
    "phishing_word_vectorizer.fit(phishing_df['content'])\n",
    "phishing_word_vectorized = phishing_word_vectorizer.transform(phishing_df['content'])"
   ]
  },
  {
   "cell_type": "code",
   "execution_count": 93,
   "id": "158c82d9",
   "metadata": {},
   "outputs": [],
   "source": [
    "phishing_word_df = pd.DataFrame(\n",
    "    data=phishing_word_vectorized.toarray(),\n",
    "    columns=phishing_word_vectorizer.get_feature_names_out(),\n",
    ")\n",
    "phishing_word_sum_df = pd.DataFrame(\n",
    "    {\"counts\": phishing_word_vectorized.toarray().sum(axis=0)},\n",
    "    index=phishing_word_vectorizer.get_feature_names_out(),\n",
    ").sort_values(\"counts\", ascending=False)"
   ]
  },
  {
   "cell_type": "code",
   "execution_count": 94,
   "id": "56333f52",
   "metadata": {},
   "outputs": [
    {
     "data": {
      "text/html": [
       "<div>\n",
       "<style scoped>\n",
       "    .dataframe tbody tr th:only-of-type {\n",
       "        vertical-align: middle;\n",
       "    }\n",
       "\n",
       "    .dataframe tbody tr th {\n",
       "        vertical-align: top;\n",
       "    }\n",
       "\n",
       "    .dataframe thead th {\n",
       "        text-align: right;\n",
       "    }\n",
       "</style>\n",
       "<table border=\"1\" class=\"dataframe\">\n",
       "  <thead>\n",
       "    <tr style=\"text-align: right;\">\n",
       "      <th></th>\n",
       "      <th>counts</th>\n",
       "    </tr>\n",
       "  </thead>\n",
       "  <tbody>\n",
       "    <tr>\n",
       "      <th>account</th>\n",
       "      <td>17517</td>\n",
       "    </tr>\n",
       "    <tr>\n",
       "      <th>bank</th>\n",
       "      <td>12665</td>\n",
       "    </tr>\n",
       "    <tr>\n",
       "      <th>money</th>\n",
       "      <td>12633</td>\n",
       "    </tr>\n",
       "    <tr>\n",
       "      <th>email</th>\n",
       "      <td>9127</td>\n",
       "    </tr>\n",
       "    <tr>\n",
       "      <th>us</th>\n",
       "      <td>8582</td>\n",
       "    </tr>\n",
       "    <tr>\n",
       "      <th>...</th>\n",
       "      <td>...</td>\n",
       "    </tr>\n",
       "    <tr>\n",
       "      <th>oper</th>\n",
       "      <td>1177</td>\n",
       "    </tr>\n",
       "    <tr>\n",
       "      <th>write</th>\n",
       "      <td>1174</td>\n",
       "    </tr>\n",
       "    <tr>\n",
       "      <th>recent</th>\n",
       "      <td>1165</td>\n",
       "    </tr>\n",
       "    <tr>\n",
       "      <th>hear</th>\n",
       "      <td>1160</td>\n",
       "    </tr>\n",
       "    <tr>\n",
       "      <th>accord</th>\n",
       "      <td>1069</td>\n",
       "    </tr>\n",
       "  </tbody>\n",
       "</table>\n",
       "<p>176 rows × 1 columns</p>\n",
       "</div>"
      ],
      "text/plain": [
       "         counts\n",
       "account   17517\n",
       "bank      12665\n",
       "money     12633\n",
       "email      9127\n",
       "us         8582\n",
       "...         ...\n",
       "oper       1177\n",
       "write      1174\n",
       "recent     1165\n",
       "hear       1160\n",
       "accord     1069\n",
       "\n",
       "[176 rows x 1 columns]"
      ]
     },
     "execution_count": 94,
     "metadata": {},
     "output_type": "execute_result"
    }
   ],
   "source": [
    "phishing_word_sum_df"
   ]
  },
  {
   "cell_type": "code",
   "execution_count": 95,
   "id": "0f15bc19",
   "metadata": {},
   "outputs": [],
   "source": [
    "top_phish_words_df = phishing_word_df.loc[:,phishing_word_sum_df.index]"
   ]
  },
  {
   "cell_type": "markdown",
   "id": "7d9ed7e5",
   "metadata": {},
   "source": [
    "### Analyzing Top Ham Emails"
   ]
  },
  {
   "cell_type": "code",
   "execution_count": 96,
   "id": "5517997e",
   "metadata": {},
   "outputs": [
    {
     "name": "stderr",
     "output_type": "stream",
     "text": [
      "/Applications/anaconda3/envs/capstone/lib/python3.10/site-packages/sklearn/feature_extraction/text.py:528: UserWarning: The parameter 'token_pattern' will not be used since 'tokenizer' is not None'\n",
      "  warnings.warn(\n"
     ]
    }
   ],
   "source": [
    "ham_word_vectorizer = CountVectorizer(\n",
    "    tokenizer=custom_tokenizer,\n",
    "    min_df=0.1,\n",
    ")\n",
    "ham_word_vectorizer.fit(ham_df['content'])\n",
    "ham_word_vectorized = ham_word_vectorizer.transform(ham_df['content'])"
   ]
  },
  {
   "cell_type": "code",
   "execution_count": 97,
   "id": "150ac66b",
   "metadata": {},
   "outputs": [],
   "source": [
    "ham_word_sum_df = pd.DataFrame(\n",
    "    {\"counts\": ham_word_vectorized.toarray().sum(axis=0)},\n",
    "    index=ham_word_vectorizer.get_feature_names_out(),\n",
    ").sort_values(\"counts\", ascending=False)"
   ]
  },
  {
   "cell_type": "code",
   "execution_count": 98,
   "id": "951abdf8",
   "metadata": {},
   "outputs": [
    {
     "data": {
      "text/html": [
       "<div>\n",
       "<style scoped>\n",
       "    .dataframe tbody tr th:only-of-type {\n",
       "        vertical-align: middle;\n",
       "    }\n",
       "\n",
       "    .dataframe tbody tr th {\n",
       "        vertical-align: top;\n",
       "    }\n",
       "\n",
       "    .dataframe thead th {\n",
       "        text-align: right;\n",
       "    }\n",
       "</style>\n",
       "<table border=\"1\" class=\"dataframe\">\n",
       "  <thead>\n",
       "    <tr style=\"text-align: right;\">\n",
       "      <th></th>\n",
       "      <th>counts</th>\n",
       "    </tr>\n",
       "  </thead>\n",
       "  <tbody>\n",
       "    <tr>\n",
       "      <th>use</th>\n",
       "      <td>6406</td>\n",
       "    </tr>\n",
       "    <tr>\n",
       "      <th>get</th>\n",
       "      <td>5232</td>\n",
       "    </tr>\n",
       "    <tr>\n",
       "      <th>one</th>\n",
       "      <td>5047</td>\n",
       "    </tr>\n",
       "    <tr>\n",
       "      <th>list</th>\n",
       "      <td>4682</td>\n",
       "    </tr>\n",
       "    <tr>\n",
       "      <th>time</th>\n",
       "      <td>4375</td>\n",
       "    </tr>\n",
       "    <tr>\n",
       "      <th>would</th>\n",
       "      <td>4287</td>\n",
       "    </tr>\n",
       "    <tr>\n",
       "      <th>new</th>\n",
       "      <td>4243</td>\n",
       "    </tr>\n",
       "    <tr>\n",
       "      <th>like</th>\n",
       "      <td>4200</td>\n",
       "    </tr>\n",
       "    <tr>\n",
       "      <th>work</th>\n",
       "      <td>4097</td>\n",
       "    </tr>\n",
       "    <tr>\n",
       "      <th>email</th>\n",
       "      <td>3568</td>\n",
       "    </tr>\n",
       "    <tr>\n",
       "      <th>make</th>\n",
       "      <td>3317</td>\n",
       "    </tr>\n",
       "    <tr>\n",
       "      <th>mail</th>\n",
       "      <td>3234</td>\n",
       "    </tr>\n",
       "    <tr>\n",
       "      <th>go</th>\n",
       "      <td>3078</td>\n",
       "    </tr>\n",
       "    <tr>\n",
       "      <th>dont</th>\n",
       "      <td>3013</td>\n",
       "    </tr>\n",
       "    <tr>\n",
       "      <th>im</th>\n",
       "      <td>2974</td>\n",
       "    </tr>\n",
       "    <tr>\n",
       "      <th>call</th>\n",
       "      <td>2904</td>\n",
       "    </tr>\n",
       "    <tr>\n",
       "      <th>want</th>\n",
       "      <td>2833</td>\n",
       "    </tr>\n",
       "    <tr>\n",
       "      <th>know</th>\n",
       "      <td>2724</td>\n",
       "    </tr>\n",
       "    <tr>\n",
       "      <th>see</th>\n",
       "      <td>2715</td>\n",
       "    </tr>\n",
       "    <tr>\n",
       "      <th>wrote</th>\n",
       "      <td>2387</td>\n",
       "    </tr>\n",
       "  </tbody>\n",
       "</table>\n",
       "</div>"
      ],
      "text/plain": [
       "       counts\n",
       "use      6406\n",
       "get      5232\n",
       "one      5047\n",
       "list     4682\n",
       "time     4375\n",
       "would    4287\n",
       "new      4243\n",
       "like     4200\n",
       "work     4097\n",
       "email    3568\n",
       "make     3317\n",
       "mail     3234\n",
       "go       3078\n",
       "dont     3013\n",
       "im       2974\n",
       "call     2904\n",
       "want     2833\n",
       "know     2724\n",
       "see      2715\n",
       "wrote    2387"
      ]
     },
     "execution_count": 98,
     "metadata": {},
     "output_type": "execute_result"
    }
   ],
   "source": [
    "ham_word_sum_df"
   ]
  },
  {
   "cell_type": "markdown",
   "id": "87d01fc9",
   "metadata": {},
   "source": [
    "### Analyzing Phishing NGrams"
   ]
  },
  {
   "cell_type": "code",
   "execution_count": 99,
   "id": "48d00f1a",
   "metadata": {},
   "outputs": [
    {
     "name": "stderr",
     "output_type": "stream",
     "text": [
      "/Applications/anaconda3/envs/capstone/lib/python3.10/site-packages/sklearn/feature_extraction/text.py:528: UserWarning: The parameter 'token_pattern' will not be used since 'tokenizer' is not None'\n",
      "  warnings.warn(\n"
     ]
    }
   ],
   "source": [
    "phishing_ngram_vectorizer = CountVectorizer(\n",
    "    tokenizer=custom_tokenizer,\n",
    "    min_df=10,\n",
    "    ngram_range=(2, 3),\n",
    ")\n",
    "phishing_ngram_vectorizer.fit(phishing_df['content'])\n",
    "phishing_ngram_vectorized = phishing_ngram_vectorizer.transform(phishing_df['content'])"
   ]
  },
  {
   "cell_type": "code",
   "execution_count": 100,
   "id": "bf899ff0",
   "metadata": {},
   "outputs": [],
   "source": [
    "phishing_ngram_df = pd.DataFrame(\n",
    "    {\"counts\": phishing_ngram_vectorized.toarray().sum(axis=0)},\n",
    "    index=phishing_ngram_vectorizer.get_feature_names_out(),\n",
    ").sort_values(\"counts\", ascending=False)"
   ]
  },
  {
   "cell_type": "code",
   "execution_count": 101,
   "id": "5cf163bc",
   "metadata": {},
   "outputs": [
    {
     "data": {
      "text/html": [
       "<div>\n",
       "<style scoped>\n",
       "    .dataframe tbody tr th:only-of-type {\n",
       "        vertical-align: middle;\n",
       "    }\n",
       "\n",
       "    .dataframe tbody tr th {\n",
       "        vertical-align: top;\n",
       "    }\n",
       "\n",
       "    .dataframe thead th {\n",
       "        text-align: right;\n",
       "    }\n",
       "</style>\n",
       "<table border=\"1\" class=\"dataframe\">\n",
       "  <thead>\n",
       "    <tr style=\"text-align: right;\">\n",
       "      <th></th>\n",
       "      <th>counts</th>\n",
       "    </tr>\n",
       "  </thead>\n",
       "  <tbody>\n",
       "    <tr>\n",
       "      <th>x x</th>\n",
       "      <td>53760</td>\n",
       "    </tr>\n",
       "    <tr>\n",
       "      <th>x x x</th>\n",
       "      <td>49243</td>\n",
       "    </tr>\n",
       "    <tr>\n",
       "      <th>next kin</th>\n",
       "      <td>3365</td>\n",
       "    </tr>\n",
       "    <tr>\n",
       "      <th>unit state</th>\n",
       "      <td>1895</td>\n",
       "    </tr>\n",
       "    <tr>\n",
       "      <th>bank account</th>\n",
       "      <td>1772</td>\n",
       "    </tr>\n",
       "    <tr>\n",
       "      <th>email address</th>\n",
       "      <td>1704</td>\n",
       "    </tr>\n",
       "    <tr>\n",
       "      <th>secur compani</th>\n",
       "      <td>1441</td>\n",
       "    </tr>\n",
       "    <tr>\n",
       "      <th>state dollar</th>\n",
       "      <td>1256</td>\n",
       "    </tr>\n",
       "    <tr>\n",
       "      <th>unit state dollar</th>\n",
       "      <td>1183</td>\n",
       "    </tr>\n",
       "    <tr>\n",
       "      <th>hundr thousand</th>\n",
       "      <td>1174</td>\n",
       "    </tr>\n",
       "    <tr>\n",
       "      <th>fax number</th>\n",
       "      <td>1065</td>\n",
       "    </tr>\n",
       "    <tr>\n",
       "      <th>south africa</th>\n",
       "      <td>1003</td>\n",
       "    </tr>\n",
       "    <tr>\n",
       "      <th>transfer money</th>\n",
       "      <td>933</td>\n",
       "    </tr>\n",
       "    <tr>\n",
       "      <th>paypal account</th>\n",
       "      <td>876</td>\n",
       "    </tr>\n",
       "    <tr>\n",
       "      <th>foreign account</th>\n",
       "      <td>866</td>\n",
       "    </tr>\n",
       "    <tr>\n",
       "      <th>pleas repli</th>\n",
       "      <td>816</td>\n",
       "    </tr>\n",
       "    <tr>\n",
       "      <th>look forward</th>\n",
       "      <td>807</td>\n",
       "    </tr>\n",
       "    <tr>\n",
       "      <th>five hundr</th>\n",
       "      <td>794</td>\n",
       "    </tr>\n",
       "    <tr>\n",
       "      <th>million unit</th>\n",
       "      <td>789</td>\n",
       "    </tr>\n",
       "    <tr>\n",
       "      <th>transfer fund</th>\n",
       "      <td>766</td>\n",
       "    </tr>\n",
       "    <tr>\n",
       "      <th>would like</th>\n",
       "      <td>763</td>\n",
       "    </tr>\n",
       "    <tr>\n",
       "      <th>telephon fax</th>\n",
       "      <td>730</td>\n",
       "    </tr>\n",
       "    <tr>\n",
       "      <th>custom servic</th>\n",
       "      <td>727</td>\n",
       "    </tr>\n",
       "    <tr>\n",
       "      <th>account access</th>\n",
       "      <td>723</td>\n",
       "    </tr>\n",
       "    <tr>\n",
       "      <th>million five</th>\n",
       "      <td>722</td>\n",
       "    </tr>\n",
       "    <tr>\n",
       "      <th>million unit state</th>\n",
       "      <td>711</td>\n",
       "    </tr>\n",
       "    <tr>\n",
       "      <th>plane crash</th>\n",
       "      <td>695</td>\n",
       "    </tr>\n",
       "    <tr>\n",
       "      <th>us dollar</th>\n",
       "      <td>691</td>\n",
       "    </tr>\n",
       "    <tr>\n",
       "      <th>five hundr thousand</th>\n",
       "      <td>688</td>\n",
       "    </tr>\n",
       "    <tr>\n",
       "      <th>kin relat</th>\n",
       "      <td>662</td>\n",
       "    </tr>\n",
       "  </tbody>\n",
       "</table>\n",
       "</div>"
      ],
      "text/plain": [
       "                     counts\n",
       "x x                   53760\n",
       "x x x                 49243\n",
       "next kin               3365\n",
       "unit state             1895\n",
       "bank account           1772\n",
       "email address          1704\n",
       "secur compani          1441\n",
       "state dollar           1256\n",
       "unit state dollar      1183\n",
       "hundr thousand         1174\n",
       "fax number             1065\n",
       "south africa           1003\n",
       "transfer money          933\n",
       "paypal account          876\n",
       "foreign account         866\n",
       "pleas repli             816\n",
       "look forward            807\n",
       "five hundr              794\n",
       "million unit            789\n",
       "transfer fund           766\n",
       "would like              763\n",
       "telephon fax            730\n",
       "custom servic           727\n",
       "account access          723\n",
       "million five            722\n",
       "million unit state      711\n",
       "plane crash             695\n",
       "us dollar               691\n",
       "five hundr thousand     688\n",
       "kin relat               662"
      ]
     },
     "execution_count": 101,
     "metadata": {},
     "output_type": "execute_result"
    }
   ],
   "source": [
    "phishing_ngram_df.head(30)"
   ]
  },
  {
   "cell_type": "markdown",
   "id": "59645fc9",
   "metadata": {},
   "source": [
    "### Analyzing Ham NGrams"
   ]
  },
  {
   "cell_type": "code",
   "execution_count": 102,
   "id": "9799bbc4",
   "metadata": {
    "scrolled": true
   },
   "outputs": [
    {
     "name": "stderr",
     "output_type": "stream",
     "text": [
      "/Applications/anaconda3/envs/capstone/lib/python3.10/site-packages/sklearn/feature_extraction/text.py:528: UserWarning: The parameter 'token_pattern' will not be used since 'tokenizer' is not None'\n",
      "  warnings.warn(\n"
     ]
    }
   ],
   "source": [
    "ham_ngram_vectorizer = CountVectorizer(\n",
    "    tokenizer=custom_tokenizer,\n",
    "    min_df=10,\n",
    "    ngram_range=(2, 3),\n",
    ")\n",
    "ham_ngram_vectorizer.fit(ham_df['content'])\n",
    "ham_ngram_vectorized = ham_ngram_vectorizer.transform(ham_df['content'])"
   ]
  },
  {
   "cell_type": "code",
   "execution_count": 103,
   "id": "339d87e6",
   "metadata": {},
   "outputs": [],
   "source": [
    "ham_ngram_df = pd.DataFrame(\n",
    "    {\"counts\": ham_ngram_vectorized.toarray().sum(axis=0)},\n",
    "    index=ham_ngram_vectorizer.get_feature_names_out(),\n",
    ").sort_values(\"counts\", ascending=False)"
   ]
  },
  {
   "cell_type": "code",
   "execution_count": 104,
   "id": "3094ff2e",
   "metadata": {},
   "outputs": [
    {
     "data": {
      "text/html": [
       "<div>\n",
       "<style scoped>\n",
       "    .dataframe tbody tr th:only-of-type {\n",
       "        vertical-align: middle;\n",
       "    }\n",
       "\n",
       "    .dataframe tbody tr th {\n",
       "        vertical-align: top;\n",
       "    }\n",
       "\n",
       "    .dataframe thead th {\n",
       "        text-align: right;\n",
       "    }\n",
       "</style>\n",
       "<table border=\"1\" class=\"dataframe\">\n",
       "  <thead>\n",
       "    <tr style=\"text-align: right;\">\n",
       "      <th></th>\n",
       "      <th>counts</th>\n",
       "    </tr>\n",
       "  </thead>\n",
       "  <tbody>\n",
       "    <tr>\n",
       "      <th>mail list</th>\n",
       "      <td>1845</td>\n",
       "    </tr>\n",
       "    <tr>\n",
       "      <th>linux user</th>\n",
       "      <td>1109</td>\n",
       "    </tr>\n",
       "    <tr>\n",
       "      <th>user group</th>\n",
       "      <td>1092</td>\n",
       "    </tr>\n",
       "    <tr>\n",
       "      <th>linux user group</th>\n",
       "      <td>1076</td>\n",
       "    </tr>\n",
       "    <tr>\n",
       "      <th>irish linux</th>\n",
       "      <td>1071</td>\n",
       "    </tr>\n",
       "    <tr>\n",
       "      <th>irish linux user</th>\n",
       "      <td>1071</td>\n",
       "    </tr>\n",
       "    <tr>\n",
       "      <th>inform list maintain</th>\n",
       "      <td>1068</td>\n",
       "    </tr>\n",
       "    <tr>\n",
       "      <th>inform list</th>\n",
       "      <td>1068</td>\n",
       "    </tr>\n",
       "    <tr>\n",
       "      <th>unsubscript inform list</th>\n",
       "      <td>1068</td>\n",
       "    </tr>\n",
       "    <tr>\n",
       "      <th>unsubscript inform</th>\n",
       "      <td>1068</td>\n",
       "    </tr>\n",
       "    <tr>\n",
       "      <th>list maintain</th>\n",
       "      <td>1068</td>\n",
       "    </tr>\n",
       "    <tr>\n",
       "      <th>list maintain listmasterlinuxi</th>\n",
       "      <td>1065</td>\n",
       "    </tr>\n",
       "    <tr>\n",
       "      <th>maintain listmasterlinuxi</th>\n",
       "      <td>1065</td>\n",
       "    </tr>\n",
       "    <tr>\n",
       "      <th>httpwwwlinuxiemailmanlistinfoilug unsubscript inform</th>\n",
       "      <td>1004</td>\n",
       "    </tr>\n",
       "    <tr>\n",
       "      <th>group iluglinuxi</th>\n",
       "      <td>1004</td>\n",
       "    </tr>\n",
       "    <tr>\n",
       "      <th>user group iluglinuxi</th>\n",
       "      <td>1004</td>\n",
       "    </tr>\n",
       "    <tr>\n",
       "      <th>group iluglinuxi httpwwwlinuxiemailmanlistinfoilug</th>\n",
       "      <td>1004</td>\n",
       "    </tr>\n",
       "    <tr>\n",
       "      <th>httpwwwlinuxiemailmanlistinfoilug unsubscript</th>\n",
       "      <td>1004</td>\n",
       "    </tr>\n",
       "    <tr>\n",
       "      <th>iluglinuxi httpwwwlinuxiemailmanlistinfoilug</th>\n",
       "      <td>1004</td>\n",
       "    </tr>\n",
       "    <tr>\n",
       "      <th>iluglinuxi httpwwwlinuxiemailmanlistinfoilug unsubscript</th>\n",
       "      <td>1004</td>\n",
       "    </tr>\n",
       "    <tr>\n",
       "      <th>sfnet email</th>\n",
       "      <td>694</td>\n",
       "    </tr>\n",
       "    <tr>\n",
       "      <th>email sponsor</th>\n",
       "      <td>694</td>\n",
       "    </tr>\n",
       "    <tr>\n",
       "      <th>sfnet email sponsor</th>\n",
       "      <td>694</td>\n",
       "    </tr>\n",
       "    <tr>\n",
       "      <th>unit state</th>\n",
       "      <td>680</td>\n",
       "    </tr>\n",
       "    <tr>\n",
       "      <th>email address</th>\n",
       "      <td>560</td>\n",
       "    </tr>\n",
       "    <tr>\n",
       "      <th>rpmlist mail list</th>\n",
       "      <td>557</td>\n",
       "    </tr>\n",
       "    <tr>\n",
       "      <th>rpmlist mail</th>\n",
       "      <td>557</td>\n",
       "    </tr>\n",
       "    <tr>\n",
       "      <th>list httplistsfreshrpmsnetmailmanlistinforpmlist</th>\n",
       "      <td>551</td>\n",
       "    </tr>\n",
       "    <tr>\n",
       "      <th>mail list httplistsfreshrpmsnetmailmanlistinforpmlist</th>\n",
       "      <td>551</td>\n",
       "    </tr>\n",
       "    <tr>\n",
       "      <th>secretari offic</th>\n",
       "      <td>421</td>\n",
       "    </tr>\n",
       "  </tbody>\n",
       "</table>\n",
       "</div>"
      ],
      "text/plain": [
       "                                                    counts\n",
       "mail list                                             1845\n",
       "linux user                                            1109\n",
       "user group                                            1092\n",
       "linux user group                                      1076\n",
       "irish linux                                           1071\n",
       "irish linux user                                      1071\n",
       "inform list maintain                                  1068\n",
       "inform list                                           1068\n",
       "unsubscript inform list                               1068\n",
       "unsubscript inform                                    1068\n",
       "list maintain                                         1068\n",
       "list maintain listmasterlinuxi                        1065\n",
       "maintain listmasterlinuxi                             1065\n",
       "httpwwwlinuxiemailmanlistinfoilug unsubscript i...    1004\n",
       "group iluglinuxi                                      1004\n",
       "user group iluglinuxi                                 1004\n",
       "group iluglinuxi httpwwwlinuxiemailmanlistinfoilug    1004\n",
       "httpwwwlinuxiemailmanlistinfoilug unsubscript         1004\n",
       "iluglinuxi httpwwwlinuxiemailmanlistinfoilug          1004\n",
       "iluglinuxi httpwwwlinuxiemailmanlistinfoilug un...    1004\n",
       "sfnet email                                            694\n",
       "email sponsor                                          694\n",
       "sfnet email sponsor                                    694\n",
       "unit state                                             680\n",
       "email address                                          560\n",
       "rpmlist mail list                                      557\n",
       "rpmlist mail                                           557\n",
       "list httplistsfreshrpmsnetmailmanlistinforpmlist       551\n",
       "mail list httplistsfreshrpmsnetmailmanlistinfor...     551\n",
       "secretari offic                                        421"
      ]
     },
     "execution_count": 104,
     "metadata": {},
     "output_type": "execute_result"
    }
   ],
   "source": [
    "ham_ngram_df.head(30)"
   ]
  },
  {
   "cell_type": "code",
   "execution_count": 105,
   "id": "fa227d7b",
   "metadata": {},
   "outputs": [
    {
     "ename": "NameError",
     "evalue": "name 'ham_word_df' is not defined",
     "output_type": "error",
     "traceback": [
      "\u001b[0;31m---------------------------------------------------------------------------\u001b[0m",
      "\u001b[0;31mNameError\u001b[0m                                 Traceback (most recent call last)",
      "Cell \u001b[0;32mIn[105], line 1\u001b[0m\n\u001b[0;32m----> 1\u001b[0m combined_word_df \u001b[38;5;241m=\u001b[39m pd\u001b[38;5;241m.\u001b[39mmerge(left\u001b[38;5;241m=\u001b[39mphishing_word_df, right\u001b[38;5;241m=\u001b[39m\u001b[43mham_word_df\u001b[49m, how\u001b[38;5;241m=\u001b[39m\u001b[38;5;124m'\u001b[39m\u001b[38;5;124mouter\u001b[39m\u001b[38;5;124m'\u001b[39m, on\u001b[38;5;241m=\u001b[39m\u001b[38;5;124m'\u001b[39m\u001b[38;5;124mword\u001b[39m\u001b[38;5;124m'\u001b[39m)\n\u001b[1;32m      2\u001b[0m combined_word_df\u001b[38;5;241m.\u001b[39mfillna(\u001b[38;5;241m0\u001b[39m)\n",
      "\u001b[0;31mNameError\u001b[0m: name 'ham_word_df' is not defined"
     ]
    }
   ],
   "source": [
    "combined_word_df = pd.merge(left=phishing_word_df, right=ham_word_df, how='outer', on='word')\n",
    "combined_word_df.fillna(0)"
   ]
  },
  {
   "cell_type": "code",
   "execution_count": null,
   "id": "24fb8acb",
   "metadata": {},
   "outputs": [],
   "source": [
    "combined_word_df.sample(10)"
   ]
  },
  {
   "cell_type": "markdown",
   "id": "44378e39",
   "metadata": {},
   "source": [
    "## Vectorize All Emails"
   ]
  },
  {
   "cell_type": "code",
   "execution_count": null,
   "id": "ec70ea08",
   "metadata": {},
   "outputs": [],
   "source": [
    "email_word_vectorizer = CountVectorizer(\n",
    "    tokenizer=custom_tokenizer,\n",
    ")\n",
    "email_word_vectorizer.fit(email_df['content'])\n",
    "email_word_vectorized = email_word_vectorizer.transform(email_df['content'])"
   ]
  },
  {
   "cell_type": "code",
   "execution_count": null,
   "id": "8c50c160",
   "metadata": {
    "scrolled": true
   },
   "outputs": [],
   "source": [
    "email_word_df = pd.DataFrame(\n",
    "    data=email_word_vectorized.toarray(),\n",
    "    columns=email_word_vectorizer.get_feature_names_out(),\n",
    ")\n",
    "email_word_df.head(10)"
   ]
  },
  {
   "cell_type": "markdown",
   "id": "85f8b6d3",
   "metadata": {},
   "source": [
    "### Build DF to Build Models On"
   ]
  },
  {
   "cell_type": "code",
   "execution_count": null,
   "id": "7915cb70",
   "metadata": {},
   "outputs": [],
   "source": [
    "combined_top_words_df = list(set(ham_word_sum_df.index.to_list() + phishing_word_sum_df.index.to_list()))\n",
    "combined_top_words_df"
   ]
  },
  {
   "cell_type": "code",
   "execution_count": null,
   "id": "a3349db9",
   "metadata": {},
   "outputs": [],
   "source": [
    "working_df = email_word_df.loc[:, combined_top_words_df]"
   ]
  },
  {
   "cell_type": "code",
   "execution_count": null,
   "id": "65a731bb",
   "metadata": {
    "scrolled": true
   },
   "outputs": [],
   "source": [
    "working_df['is_phishing'] = np.where(email_df['phishing'], 1, 0)\n",
    "working_df"
   ]
  },
  {
   "cell_type": "markdown",
   "id": "022bb38c",
   "metadata": {},
   "source": [
    "## Building Initial Models"
   ]
  },
  {
   "cell_type": "code",
   "execution_count": 106,
   "id": "11ce8641",
   "metadata": {},
   "outputs": [],
   "source": [
    "from sklearn.linear_model import LogisticRegression\n",
    "from sklearn.neighbors import KNeighborsClassifier\n",
    "from sklearn.tree import DecisionTreeClassifier\n",
    "from sklearn.preprocessing import MinMaxScaler"
   ]
  },
  {
   "cell_type": "code",
   "execution_count": 107,
   "id": "043650e4",
   "metadata": {},
   "outputs": [],
   "source": [
    "x = working_df.iloc[:, :-1]\n",
    "y = working_df['is_phishing']"
   ]
  },
  {
   "cell_type": "code",
   "execution_count": 108,
   "id": "bb72d137",
   "metadata": {},
   "outputs": [
    {
     "name": "stderr",
     "output_type": "stream",
     "text": [
      "/Applications/anaconda3/envs/capstone/lib/python3.10/site-packages/sklearn/linear_model/_logistic.py:458: ConvergenceWarning: lbfgs failed to converge (status=1):\n",
      "STOP: TOTAL NO. of ITERATIONS REACHED LIMIT.\n",
      "\n",
      "Increase the number of iterations (max_iter) or scale the data as shown in:\n",
      "    https://scikit-learn.org/stable/modules/preprocessing.html\n",
      "Please also refer to the documentation for alternative solver options:\n",
      "    https://scikit-learn.org/stable/modules/linear_model.html#logistic-regression\n",
      "  n_iter_i = _check_optimize_result(\n"
     ]
    },
    {
     "data": {
      "text/plain": [
       "0.9195360373504523"
      ]
     },
     "execution_count": 108,
     "metadata": {},
     "output_type": "execute_result"
    }
   ],
   "source": [
    "log_reg_model = LogisticRegression()\n",
    "log_reg_model.fit(x, y)\n",
    "log_reg_model.score(x, y)"
   ]
  },
  {
   "cell_type": "code",
   "execution_count": 112,
   "id": "5109d4fa",
   "metadata": {},
   "outputs": [
    {
     "data": {
      "text/plain": [
       "0.9269769477677269"
      ]
     },
     "execution_count": 112,
     "metadata": {},
     "output_type": "execute_result"
    }
   ],
   "source": [
    "minMaxScaler = MinMaxScaler()\n",
    "minMaxScaler.fit(x)\n",
    "x_mm_scaled = minMaxScaler.transform(x)\n",
    "knn_model = KNeighborsClassifier(n_neighbors=5)\n",
    "knn_model.fit(x_mm_scaled, y)\n",
    "knn_model.score(x_mm_scaled, y)"
   ]
  },
  {
   "cell_type": "code",
   "execution_count": 113,
   "id": "cb9c8ba2",
   "metadata": {},
   "outputs": [
    {
     "data": {
      "text/plain": [
       "0.9657134519988329"
      ]
     },
     "execution_count": 113,
     "metadata": {},
     "output_type": "execute_result"
    }
   ],
   "source": [
    "dec_tree_model = DecisionTreeClassifier()\n",
    "dec_tree_model.fit(x, y)\n",
    "dec_tree_model.score(x, y)"
   ]
  }
 ],
 "metadata": {
  "kernelspec": {
   "display_name": "Python [conda env:capstone]",
   "language": "python",
   "name": "conda-env-capstone-py"
  },
  "language_info": {
   "codemirror_mode": {
    "name": "ipython",
    "version": 3
   },
   "file_extension": ".py",
   "mimetype": "text/x-python",
   "name": "python",
   "nbconvert_exporter": "python",
   "pygments_lexer": "ipython3",
   "version": "3.10.9"
  },
  "toc": {
   "base_numbering": 1,
   "nav_menu": {},
   "number_sections": true,
   "sideBar": true,
   "skip_h1_title": false,
   "title_cell": "Table of Contents",
   "title_sidebar": "Contents",
   "toc_cell": false,
   "toc_position": {},
   "toc_section_display": true,
   "toc_window_display": false
  }
 },
 "nbformat": 4,
 "nbformat_minor": 5
}
