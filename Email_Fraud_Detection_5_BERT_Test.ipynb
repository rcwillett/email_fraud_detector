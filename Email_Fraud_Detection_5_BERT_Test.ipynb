{
 "cells": [
  {
   "cell_type": "markdown",
   "id": "69071f0d",
   "metadata": {},
   "source": [
    "# Email Fraud Detection: BERT Model Testing\n",
    "\n",
    "#### Ross Willett"
   ]
  },
  {
   "cell_type": "markdown",
   "id": "44c7e891",
   "metadata": {
    "toc": true
   },
   "source": [
    "<h1>Table of Contents<span class=\"tocSkip\"></span></h1>\n",
    "<div class=\"toc\"><ul class=\"toc-item\"><li><span><a href=\"#Email-Fraud-Detection:-BERT-Model-Testing\" data-toc-modified-id=\"Email-Fraud-Detection:-BERT-Model-Testing-1\">Email Fraud Detection: BERT Model Testing</a></span><ul class=\"toc-item\"><li><ul class=\"toc-item\"><li><ul class=\"toc-item\"><li><span><a href=\"#Ross-Willett\" data-toc-modified-id=\"Ross-Willett-1.0.0.1\">Ross Willett</a></span></li></ul></li></ul></li><li><span><a href=\"#Notebook-Introduction\" data-toc-modified-id=\"Notebook-Introduction-1.1\">Notebook Introduction</a></span></li><li><span><a href=\"#Preparing-the-Data-Set\" data-toc-modified-id=\"Preparing-the-Data-Set-1.2\">Preparing the Data Set</a></span></li><li><span><a href=\"#Loading-and-Testing-the-Model\" data-toc-modified-id=\"Loading-and-Testing-the-Model-1.3\">Loading and Testing the Model</a></span></li><li><span><a href=\"#Conclusion\" data-toc-modified-id=\"Conclusion-1.4\">Conclusion</a></span></li></ul></li></ul></div>"
   ]
  },
  {
   "cell_type": "markdown",
   "id": "e139dd4b",
   "metadata": {},
   "source": [
    "## Notebook Introduction"
   ]
  },
  {
   "cell_type": "markdown",
   "id": "a9bf5b80",
   "metadata": {},
   "source": [
    "In this notebook, the trained fraud email identifier built on the BERT transformer will be loaded and evaluated in terms of performance."
   ]
  },
  {
   "cell_type": "markdown",
   "id": "34dfd846",
   "metadata": {},
   "source": [
    "## Preparing the Data Set"
   ]
  },
  {
   "cell_type": "markdown",
   "id": "d1bc292e",
   "metadata": {},
   "source": [
    "In order to test the model, the data set will have to be appropriately separated."
   ]
  },
  {
   "cell_type": "code",
   "execution_count": 134,
   "id": "4dba949e",
   "metadata": {},
   "outputs": [],
   "source": [
    "import pandas as pd\n",
    "import numpy as np\n",
    "\n",
    "# Import plotting libraries\n",
    "import matplotlib.pyplot as plt\n",
    "\n",
    "# Model selection libraries\n",
    "from sklearn.model_selection import train_test_split\n",
    "\n",
    "# Model Evaluation Libraries\n",
    "from sklearn.metrics import accuracy_score, confusion_matrix, ConfusionMatrixDisplay\n",
    "\n",
    "# Import Tensor Flow and keras\n",
    "import tensorflow as tf\n",
    "from tensorflow import keras\n",
    "\n",
    "# Import Tensor Flow Hub and Tensor Flow Text (Required libraries for the pre-trained BERT Model)\n",
    "import tensorflow_hub as hub\n",
    "import tensorflow_text"
   ]
  },
  {
   "cell_type": "code",
   "execution_count": 135,
   "id": "dc54b1d8",
   "metadata": {},
   "outputs": [],
   "source": [
    "# Configure Pandas to show all columns / rows\n",
    "pd.options.display.max_columns = 2000\n",
    "pd.options.display.max_rows = 2000\n",
    "# Set column max width larger\n",
    "pd.set_option('display.max_colwidth', 1000)"
   ]
  },
  {
   "cell_type": "code",
   "execution_count": 136,
   "id": "a93da372",
   "metadata": {},
   "outputs": [],
   "source": [
    "# Load data from phishing email csv\n",
    "email_df = pd.read_csv('./data/fraud_all_data_clean_4.csv')"
   ]
  },
  {
   "cell_type": "code",
   "execution_count": 137,
   "id": "19e74de9",
   "metadata": {},
   "outputs": [],
   "source": [
    "# Separate the features into a separate data frame\n",
    "X = email_df.drop(columns=['fraud'])\n",
    "# Separate the target into a separate data frame\n",
    "y = email_df.loc[:, ['fraud']]"
   ]
  },
  {
   "cell_type": "code",
   "execution_count": 138,
   "id": "f4f69cf0",
   "metadata": {},
   "outputs": [],
   "source": [
    "# Split the data set into a remainder and test set\n",
    "X_remainder, X_test, y_remainder, y_test = train_test_split(\n",
    "    X,\n",
    "    y,\n",
    "    stratify=y,\n",
    "    random_state=1337,\n",
    "    test_size=0.2,\n",
    ")\n",
    "# Reset the indices of the data frames so index counts have the same start\n",
    "X_remainder.reset_index(drop=True, inplace=True)\n",
    "X_test.reset_index(drop=True, inplace=True)\n",
    "y_remainder.reset_index(drop=True, inplace=True)\n",
    "y_test.reset_index(drop=True, inplace=True)"
   ]
  },
  {
   "cell_type": "markdown",
   "id": "c9dbcc51",
   "metadata": {},
   "source": [
    "## Loading and Testing the Model"
   ]
  },
  {
   "cell_type": "markdown",
   "id": "f59031bd",
   "metadata": {},
   "source": [
    "Now that the data has been appropriately separated, the model can now be loaded and used to predict the classification of the test data."
   ]
  },
  {
   "cell_type": "code",
   "execution_count": 139,
   "id": "a22aa43e",
   "metadata": {},
   "outputs": [],
   "source": [
    "# Load the saved model into Keras\n",
    "loaded_model = keras.models.load_model(\n",
    "    './models/bert_model_20_relu_sig.h5',\n",
    "    custom_objects={'KerasLayer':hub.KerasLayer},\n",
    "    compile=False,\n",
    ")"
   ]
  },
  {
   "cell_type": "code",
   "execution_count": 140,
   "id": "ea62db39",
   "metadata": {},
   "outputs": [],
   "source": [
    "# Add the compilation parameters for the model (Note this must be done since compile has been set to False)\n",
    "loaded_model.compile(\n",
    "    # Optimizer\n",
    "    optimizer=keras.optimizers.Adam(),\n",
    "    # Loss function to minimize\n",
    "    loss=keras.losses.BinaryCrossentropy(),\n",
    "    # Metric used to evaluate model\n",
    "    metrics=[keras.metrics.BinaryAccuracy(), keras.metrics.Recall()]\n",
    ")"
   ]
  },
  {
   "cell_type": "code",
   "execution_count": 109,
   "id": "806ab925",
   "metadata": {
    "scrolled": false
   },
   "outputs": [
    {
     "name": "stdout",
     "output_type": "stream",
     "text": [
      "78/78 [==============================] - 333s 4s/step\n"
     ]
    }
   ],
   "source": [
    "# Get the model prediction probabilities for the test content\n",
    "y_test_pred = loaded_model.predict(X_test['content'])"
   ]
  },
  {
   "cell_type": "code",
   "execution_count": 112,
   "id": "9c14a44b",
   "metadata": {},
   "outputs": [],
   "source": [
    "# Binarize the predictions at a threshold of 50% positive\n",
    "y_test_bin_pred = np.where(y_test_pred >= 0.4, 1, 0)"
   ]
  },
  {
   "cell_type": "code",
   "execution_count": 113,
   "id": "041b3eae",
   "metadata": {
    "scrolled": false
   },
   "outputs": [
    {
     "data": {
      "text/plain": [
       "0.9673518742442564"
      ]
     },
     "execution_count": 113,
     "metadata": {},
     "output_type": "execute_result"
    }
   ],
   "source": [
    "# Check the accuracy score of the model\n",
    "accuracy_score(y_test['fraud'].values, y_test_bin_pred.flatten())"
   ]
  },
  {
   "cell_type": "markdown",
   "id": "3fb56024",
   "metadata": {},
   "source": [
    "Using a threshold of 40% to indicate if an email is fraudulent or not results in a test accuracy of 96.7% for the BERT model. This is slightly lower than the test accuracy of the best tuned logistic regression model which is 97.3%. Despite the slightly lower accuracy I expect that the BERT model would be better for fraudulent email identification due to the fact it is not as reliant upon specific words and can better identify the context of words. The performance of the BERT model will be further examined by looking at its confusion matrix and the types of emails it incorrectly identifies."
   ]
  },
  {
   "cell_type": "code",
   "execution_count": 114,
   "id": "42443c7f",
   "metadata": {
    "scrolled": true
   },
   "outputs": [
    {
     "data": {
      "image/png": "[encoded data removed]",
      "text/plain": [
       "<Figure size 640x480 with 2 Axes>"
      ]
     },
     "metadata": {},
     "output_type": "display_data"
    }
   ],
   "source": [
    "# Initialize the confusion matrix for the model's results\n",
    "conf_matrix = confusion_matrix(y_test, y_test_bin_pred)\n",
    "# Initialize the display of the confusion matrix for the model results\n",
    "conf_disp = ConfusionMatrixDisplay(conf_matrix)\n",
    "# Plot the confusion matrix\n",
    "conf_disp.plot()\n",
    "plt.show()"
   ]
  },
  {
   "cell_type": "code",
   "execution_count": 115,
   "id": "8a1f83a4",
   "metadata": {
    "scrolled": true
   },
   "outputs": [
    {
     "name": "stdout",
     "output_type": "stream",
     "text": [
      "Recall: 95.6713780918728%\n",
      "Precision: 97.13004484304932%\n"
     ]
    }
   ],
   "source": [
    "# Calculate the recall of the model\n",
    "recall = conf_matrix[1][1] / (conf_matrix[1][0] + conf_matrix[1][1]) * 100\n",
    "# Calculate the precision of the model\n",
    "precision = conf_matrix[1][1] / (conf_matrix[0][1] + conf_matrix[1][1]) * 100\n",
    "# Print the precision and recall of the model\n",
    "print(f'Recall: {recall}%')\n",
    "print(f'Precision: {precision}%')"
   ]
  },
  {
   "cell_type": "markdown",
   "id": "03f4edbc",
   "metadata": {},
   "source": [
    "As demonstrated by the confusion matrix above, the recall of the model is 96% and precision is 97%. Without rounding, these numbers are slightly lower than the result of the best logistic regression model. Next, the incorrect categorizations of the model will be examined."
   ]
  },
  {
   "cell_type": "code",
   "execution_count": 125,
   "id": "527b5def",
   "metadata": {},
   "outputs": [],
   "source": [
    "# Get the X values where the predicted value does not equal the test value\n",
    "wrong_pred = X_test[y_test_bin_pred.flatten() != y_test['fraud']]"
   ]
  },
  {
   "cell_type": "code",
   "execution_count": 126,
   "id": "440ba7e4",
   "metadata": {},
   "outputs": [],
   "source": [
    "# Get the Y values where the predicted value does not equal the test value\n",
    "wrong_pred_y = y_test[y_test_bin_pred.flatten() != y_test['fraud']]"
   ]
  },
  {
   "cell_type": "code",
   "execution_count": 127,
   "id": "88b1f88e",
   "metadata": {},
   "outputs": [],
   "source": [
    "# Concatinate the data frames with wrong X and Y predictions\n",
    "wrong_pred = pd.concat([wrong_pred, wrong_pred_y], axis=1)"
   ]
  },
  {
   "cell_type": "code",
   "execution_count": 152,
   "id": "725d05b4",
   "metadata": {},
   "outputs": [
    {
     "data": {
      "text/html": [
       "<div>\n",
       "<style scoped>\n",
       "    .dataframe tbody tr th:only-of-type {\n",
       "        vertical-align: middle;\n",
       "    }\n",
       "\n",
       "    .dataframe tbody tr th {\n",
       "        vertical-align: top;\n",
       "    }\n",
       "\n",
       "    .dataframe thead th {\n",
       "        text-align: right;\n",
       "    }\n",
       "</style>\n",
       "<table border=\"1\" class=\"dataframe\">\n",
       "  <thead>\n",
       "    <tr style=\"text-align: right;\">\n",
       "      <th></th>\n",
       "      <th>content</th>\n",
       "      <th>unsecure_link_count</th>\n",
       "      <th>secure_link_count</th>\n",
       "      <th>numbers_count</th>\n",
       "      <th>word_count</th>\n",
       "      <th>fraud</th>\n",
       "    </tr>\n",
       "  </thead>\n",
       "  <tbody>\n",
       "    <tr>\n",
       "      <th>1377</th>\n",
       "      <td>you must be aware now that my country The Republic of South won the bid to host the world cup by prior to this bid my committee was to lobby the of board of Federation International Association on selection of the country to host the world the bid intensive but at the end we got the hosting right was the sum of million to lobby the of the ruling bo sure that we win the hosting right considering the gain that comes the hosting right like South economy will receive a massive dire boost from hosting the World Cup financial impact report for South World Cup bid committee that the World Cup will pump billion into South my and an new With the help the living of our time year old Peace Prize winner Nelson who made an emotive case for The Republic of South we got the bid without spending all the money I and my committee saw this as a God sent opportunity to secure our future and that of our family therefore wa by other committee to look for a way to move the money to a safe place with the ...</td>\n",
       "      <td>0</td>\n",
       "      <td>0</td>\n",
       "      <td>40</td>\n",
       "      <td>310</td>\n",
       "      <td>1</td>\n",
       "    </tr>\n",
       "    <tr>\n",
       "      <th>671</th>\n",
       "      <td>NELSON SMITH KINDLY REPLY ME ON MY PRIVATE ADDRESS yahoo</td>\n",
       "      <td>0</td>\n",
       "      <td>0</td>\n",
       "      <td>1</td>\n",
       "      <td>10</td>\n",
       "      <td>1</td>\n",
       "    </tr>\n",
       "    <tr>\n",
       "      <th>2365</th>\n",
       "      <td>if you are interested please write back and I will Keep this confidential as you reach me on yahoo Finally please note that this must be next week I look forward to it Barrister and</td>\n",
       "      <td>0</td>\n",
       "      <td>0</td>\n",
       "      <td>1</td>\n",
       "      <td>35</td>\n",
       "      <td>1</td>\n",
       "    </tr>\n",
       "    <tr>\n",
       "      <th>1721</th>\n",
       "      <td>me to the best pharmacy</td>\n",
       "      <td>1</td>\n",
       "      <td>0</td>\n",
       "      <td>2</td>\n",
       "      <td>5</td>\n",
       "      <td>1</td>\n",
       "    </tr>\n",
       "    <tr>\n",
       "      <th>1289</th>\n",
       "      <td>Agricultural Research Institute of Northern</td>\n",
       "      <td>0</td>\n",
       "      <td>0</td>\n",
       "      <td>2</td>\n",
       "      <td>5</td>\n",
       "      <td>1</td>\n",
       "    </tr>\n",
       "    <tr>\n",
       "      <th>1252</th>\n",
       "      <td>Dear Sir I got your contact from the World Trade of the US Canada Union and I am to interrupt your peace since you are not receive any mail from me However I was obliged to do so due to the importance of the message I crave your indulgence and want you that I mean well and that it is only for good So please do not be embarrassed My name is Mike Hammer I am a social worker with Governmental Voluntary organization based I am the Project Director in the Middle East regional representation through local and other and with the United High Commission works and and social in some third world assistance and re settlement of natural disaster civil and oppressed and minority people around I am just back from where in the cause of we found a huge amount of cash in an I an agreement with the of my are UN and we agreed to keep this money and then the box out of to with their immunity as UN they are not or Now I am in need of a trustworthy person or company overseas whom I work with since my wor...</td>\n",
       "      <td>0</td>\n",
       "      <td>0</td>\n",
       "      <td>2</td>\n",
       "      <td>438</td>\n",
       "      <td>1</td>\n",
       "    </tr>\n",
       "    <tr>\n",
       "      <th>851</th>\n",
       "      <td>Your contact information will be for easy communication Warm a a ca</td>\n",
       "      <td>0</td>\n",
       "      <td>0</td>\n",
       "      <td>11</td>\n",
       "      <td>12</td>\n",
       "      <td>1</td>\n",
       "    </tr>\n",
       "    <tr>\n",
       "      <th>2161</th>\n",
       "      <td>We Welcome You To Your Offer</td>\n",
       "      <td>0</td>\n",
       "      <td>0</td>\n",
       "      <td>0</td>\n",
       "      <td>6</td>\n",
       "      <td>1</td>\n",
       "    </tr>\n",
       "    <tr>\n",
       "      <th>2373</th>\n",
       "      <td>am you believing you are a honest and trustworthy person believe you will not betray the confidence I am willing to repose in you for me to have you even though we not met before name is only son of late who was the chairman Alimentary and ex owner of Polyclinic LA of the Republic of Cote can find the story on this A th of a group of so took over the city of to over throw the Government of the President of Cote On the th day morning at about A am some of the same group of break into our house and our security guard and pass through the gate entrance to the main building and took my father away to an un known destination about four later we found him my father at the road side by then he had been totally beaten and was bleeding to death lying in the pool of his own blood From there we rushed him to a near by hospital and later he sent for my mother So he told her that he can not make it from the diagnosis he also told her that it was because he my father was not from the northern pa...</td>\n",
       "      <td>0</td>\n",
       "      <td>0</td>\n",
       "      <td>79</td>\n",
       "      <td>402</td>\n",
       "      <td>1</td>\n",
       "    </tr>\n",
       "    <tr>\n",
       "      <th>941</th>\n",
       "      <td>hurst net enterprise Once you sent a payment to the address at the top of the list along with your note this is VERY important the next thing to do is copy the contents of this page as you be sending it out as an message to at least people although with the legitimate and the different ways of advertising on the the amount of of your mail could well exceed into the or even millions if you wish The more people who join in the more profitable for everyone on the list If you are going to use a list please make sure it is from a reputable source and people who have In These contain of people who have no to these of The mail that you will send out will contain a copy of this document in your new message You can edit and format the message text in any way you want However it best to just leave the text as it is because you want your to be read by everyone who it Delete the mail address at No in the list and move the up one place becomes becomes No in the list will be empty so put YOUR ad...</td>\n",
       "      <td>0</td>\n",
       "      <td>0</td>\n",
       "      <td>103</td>\n",
       "      <td>634</td>\n",
       "      <td>1</td>\n",
       "    </tr>\n",
       "  </tbody>\n",
       "</table>\n",
       "</div>"
      ],
      "text/plain": [
       "                                                                                                                                                                                                                                                                                                                                                                                                                                                                                                                                                                                                                                                                                                                                                                                                                                                                                                                                                                                                                                      content  \\\n",
       "1377  you must be aware now that my country The Republic of South won the bid to host the world cup by prior to this bid my committee was to lobby the of board of Federation International Association on selection of the country to host the world the bid intensive but at the end we got the hosting right was the sum of million to lobby the of the ruling bo sure that we win the hosting right considering the gain that comes the hosting right like South economy will receive a massive dire boost from hosting the World Cup financial impact report for South World Cup bid committee that the World Cup will pump billion into South my and an new With the help the living of our time year old Peace Prize winner Nelson who made an emotive case for The Republic of South we got the bid without spending all the money I and my committee saw this as a God sent opportunity to secure our future and that of our family therefore wa by other committee to look for a way to move the money to a safe place with the ...   \n",
       "671                                                                                                                                                                                                                                                                                                                                                                                                                                                                                                                                                                                                                                                                                                                                                                                                                                                                                                                                                                                  NELSON SMITH KINDLY REPLY ME ON MY PRIVATE ADDRESS yahoo   \n",
       "2365                                                                                                                                                                                                                                                                                                                                                                                                                                                                                                                                                                                                                                                                                                                                                                                                                                                    if you are interested please write back and I will Keep this confidential as you reach me on yahoo Finally please note that this must be next week I look forward to it Barrister and   \n",
       "1721                                                                                                                                                                                                                                                                                                                                                                                                                                                                                                                                                                                                                                                                                                                                                                                                                                                                                                                                                                                                                  me to the best pharmacy   \n",
       "1289                                                                                                                                                                                                                                                                                                                                                                                                                                                                                                                                                                                                                                                                                                                                                                                                                                                                                                                                                                                              Agricultural Research Institute of Northern   \n",
       "1252  Dear Sir I got your contact from the World Trade of the US Canada Union and I am to interrupt your peace since you are not receive any mail from me However I was obliged to do so due to the importance of the message I crave your indulgence and want you that I mean well and that it is only for good So please do not be embarrassed My name is Mike Hammer I am a social worker with Governmental Voluntary organization based I am the Project Director in the Middle East regional representation through local and other and with the United High Commission works and and social in some third world assistance and re settlement of natural disaster civil and oppressed and minority people around I am just back from where in the cause of we found a huge amount of cash in an I an agreement with the of my are UN and we agreed to keep this money and then the box out of to with their immunity as UN they are not or Now I am in need of a trustworthy person or company overseas whom I work with since my wor...   \n",
       "851                                                                                                                                                                                                                                                                                                                                                                                                                                                                                                                                                                                                                                                                                                                                                                                                                                                                                                                                                                       Your contact information will be for easy communication Warm a a ca   \n",
       "2161                                                                                                                                                                                                                                                                                                                                                                                                                                                                                                                                                                                                                                                                                                                                                                                                                                                                                                                                                                                                             We Welcome You To Your Offer   \n",
       "2373  am you believing you are a honest and trustworthy person believe you will not betray the confidence I am willing to repose in you for me to have you even though we not met before name is only son of late who was the chairman Alimentary and ex owner of Polyclinic LA of the Republic of Cote can find the story on this A th of a group of so took over the city of to over throw the Government of the President of Cote On the th day morning at about A am some of the same group of break into our house and our security guard and pass through the gate entrance to the main building and took my father away to an un known destination about four later we found him my father at the road side by then he had been totally beaten and was bleeding to death lying in the pool of his own blood From there we rushed him to a near by hospital and later he sent for my mother So he told her that he can not make it from the diagnosis he also told her that it was because he my father was not from the northern pa...   \n",
       "941   hurst net enterprise Once you sent a payment to the address at the top of the list along with your note this is VERY important the next thing to do is copy the contents of this page as you be sending it out as an message to at least people although with the legitimate and the different ways of advertising on the the amount of of your mail could well exceed into the or even millions if you wish The more people who join in the more profitable for everyone on the list If you are going to use a list please make sure it is from a reputable source and people who have In These contain of people who have no to these of The mail that you will send out will contain a copy of this document in your new message You can edit and format the message text in any way you want However it best to just leave the text as it is because you want your to be read by everyone who it Delete the mail address at No in the list and move the up one place becomes becomes No in the list will be empty so put YOUR ad...   \n",
       "\n",
       "      unsecure_link_count  secure_link_count  numbers_count  word_count  fraud  \n",
       "1377                    0                  0             40         310      1  \n",
       "671                     0                  0              1          10      1  \n",
       "2365                    0                  0              1          35      1  \n",
       "1721                    1                  0              2           5      1  \n",
       "1289                    0                  0              2           5      1  \n",
       "1252                    0                  0              2         438      1  \n",
       "851                     0                  0             11          12      1  \n",
       "2161                    0                  0              0           6      1  \n",
       "2373                    0                  0             79         402      1  \n",
       "941                     0                  0            103         634      1  "
      ]
     },
     "execution_count": 152,
     "metadata": {},
     "output_type": "execute_result"
    }
   ],
   "source": [
    "# Check the false negative predictions\n",
    "wrong_pred[wrong_pred['fraud'] == 1].sample(10)"
   ]
  },
  {
   "cell_type": "markdown",
   "id": "b18e9d8e",
   "metadata": {},
   "source": [
    "Looking at the messages the model identified as false negatives, there appears to be two prominent patterns. The first pattern is that the model does not properly flag fraud emails which tend to be lengthy where the sender pretends to be from an obscure organization or government institution. The other type of fraud emails incorrectly identified are those that tend to be short with no strong indicating words and a link for the user to follow. It is possible the length emails could be properly identified by a larger BERT model with more training, but it is unlikely the short emails could be identified without additional code built to feed this information along with the BERT model into a new model."
   ]
  },
  {
   "cell_type": "code",
   "execution_count": 151,
   "id": "1c505ac8",
   "metadata": {},
   "outputs": [
    {
     "data": {
      "text/html": [
       "<div>\n",
       "<style scoped>\n",
       "    .dataframe tbody tr th:only-of-type {\n",
       "        vertical-align: middle;\n",
       "    }\n",
       "\n",
       "    .dataframe tbody tr th {\n",
       "        vertical-align: top;\n",
       "    }\n",
       "\n",
       "    .dataframe thead th {\n",
       "        text-align: right;\n",
       "    }\n",
       "</style>\n",
       "<table border=\"1\" class=\"dataframe\">\n",
       "  <thead>\n",
       "    <tr style=\"text-align: right;\">\n",
       "      <th></th>\n",
       "      <th>content</th>\n",
       "      <th>unsecure_link_count</th>\n",
       "      <th>secure_link_count</th>\n",
       "      <th>numbers_count</th>\n",
       "      <th>word_count</th>\n",
       "      <th>fraud</th>\n",
       "    </tr>\n",
       "  </thead>\n",
       "  <tbody>\n",
       "    <tr>\n",
       "      <th>1887</th>\n",
       "      <td>Does this work for you Statement by the in the men and of the Department of State are mourning the murder of three people connected to Consulate General in One consulate employee was along with and the husband of a employee was also I offer my to the family and of these The safety and security of our personnel and their in and at the world is always our highest priority I have spoken with our Ambassador in and we are working Government of to do everything necessary to protect our people and to ensure that the horrendous are brought to justice These appalling on of our own State Department family are sadly part of a growing tragedy in They underscore the imperative of our continued commitment to work closely with of President to cripple the influence of at work in This is we must shoulder together particularly in border where strong of history common interest bind the and the people closely together</td>\n",
       "      <td>0</td>\n",
       "      <td>0</td>\n",
       "      <td>0</td>\n",
       "      <td>163</td>\n",
       "      <td>0</td>\n",
       "    </tr>\n",
       "    <tr>\n",
       "      <th>1818</th>\n",
       "      <td>For your situational awareness</td>\n",
       "      <td>0</td>\n",
       "      <td>0</td>\n",
       "      <td>0</td>\n",
       "      <td>4</td>\n",
       "      <td>0</td>\n",
       "    </tr>\n",
       "    <tr>\n",
       "      <th>756</th>\n",
       "      <td>When will you be back so we can catch up Also who is your right hand on all of these I can work your office for a time</td>\n",
       "      <td>0</td>\n",
       "      <td>0</td>\n",
       "      <td>0</td>\n",
       "      <td>28</td>\n",
       "      <td>0</td>\n",
       "    </tr>\n",
       "    <tr>\n",
       "      <th>1186</th>\n",
       "      <td>me know if I can be of any help to your department and will happy to do and please on behalf of me and supporting Thank</td>\n",
       "      <td>0</td>\n",
       "      <td>0</td>\n",
       "      <td>14</td>\n",
       "      <td>26</td>\n",
       "      <td>0</td>\n",
       "    </tr>\n",
       "    <tr>\n",
       "      <th>724</th>\n",
       "      <td>state with this condolence cable for president He brother after a long illness Dear President Sincerely yours</td>\n",
       "      <td>0</td>\n",
       "      <td>0</td>\n",
       "      <td>4</td>\n",
       "      <td>17</td>\n",
       "      <td>0</td>\n",
       "    </tr>\n",
       "    <tr>\n",
       "      <th>618</th>\n",
       "      <td>be careful when this one Also that really cute thing that do of leaving their panties on one leg while making love Dare I ask what a girl is Yahoo Sponsor Free Join Now us click yahoo To from this group send an to Your use of Yahoo is subject to yahoo</td>\n",
       "      <td>2</td>\n",
       "      <td>0</td>\n",
       "      <td>4</td>\n",
       "      <td>52</td>\n",
       "      <td>0</td>\n",
       "    </tr>\n",
       "    <tr>\n",
       "      <th>1051</th>\n",
       "      <td>am ARRIVE State Department am PRESIDENTIAL DAILY BRIEFING am Secretary Office am DAILY SMALL STAFF MEETING am Secretary Office am DAILY SENIOR STAFF MEETING am Secretary Conference Room am OFFICE TIME am Secretary Office am PRIVATE MEETING am Secretary Office am BRIEFING ON GLOBAL HEALTH INITIATIVE am Secretary Outer Office am WEEKLY DEVELOPMENT TEAM MEETING Secretary Outer Office OFFICE TIME Secretary Office DEPART State route National Airport ARRIVE National Airport DEPART National Airport via US Shuttle En route New York ARRIVE New York New York Airport DEPART New York route Private Residence ARRIVE Private Residence</td>\n",
       "      <td>0</td>\n",
       "      <td>0</td>\n",
       "      <td>48</td>\n",
       "      <td>95</td>\n",
       "      <td>0</td>\n",
       "    </tr>\n",
       "    <tr>\n",
       "      <th>2201</th>\n",
       "      <td>am DEPART Private Residence En mute Hotel am ARRIVE Hotel am MEETING FOREIGN MINISTER Suite am PERSONAL STAFF TIME am Private Suite am MEETING FOREIGN MINISTER am Suite am PERSONAL STAFF TIME am Suite MEETING FOREIGN MINISTER Suite STAFF Suite pin MEETING DEPUTY PRIME MINISTER FOREIGN MINISTER Suite STAFF Suite pin DEPART Hotel En route Airport ARRIVE Airport pin DEPART Airport via US En route Nat Airport ARRIVE National Airport DEPART National Airport En route State Department pin ARRIVE State Department OFFICE TIME Secretary Office PRIVATE MEETING BOB Secretary Office DINNER FOR INCOMING SECRETARY GENERAL pin Room th Floor DEPART State Department En route Private Residence ARRIVE Private Residence</td>\n",
       "      <td>0</td>\n",
       "      <td>0</td>\n",
       "      <td>69</td>\n",
       "      <td>109</td>\n",
       "      <td>0</td>\n",
       "    </tr>\n",
       "    <tr>\n",
       "      <th>927</th>\n",
       "      <td>from The Register To from this daily news update see the at the end of this message ADVERTISEMENT WIN to a FORMULA ONE GRAND Group business continuity expert driver of the team Click here to find out more and win For every new customer that between the Grand season Group will grant to a Grand hospitality event with us next season Mandrake go live at Will the public love them content Confirmed to ship up security in Surely not a reason to upgrade from Win You amaze us content Enterprise to pink slip per cent Decimation st century style content Personal Hardware plummet in No Mercy content Mobile spat price underdog content conference in pub Well drink to that content Net Security Security hacker Somebody had to say it content Vuln exposed by Outlook plug In Pretty Poor Privacy content Business part of content Daily Telegraph for libel Very short story content war From mug to smug content lined up for as take over Chelys content Another year of turmoil if from content business busine...</td>\n",
       "      <td>18</td>\n",
       "      <td>0</td>\n",
       "      <td>61</td>\n",
       "      <td>293</td>\n",
       "      <td>0</td>\n",
       "    </tr>\n",
       "    <tr>\n",
       "      <th>1489</th>\n",
       "      <td>Hi Thanks for the help why do I have the feeling that will answer this one sorry if I disappointed you no not at all Faithful Red Hat user since Registered User counter li Get your free from Powered by Outblaze List list net mailman list</td>\n",
       "      <td>2</td>\n",
       "      <td>0</td>\n",
       "      <td>2</td>\n",
       "      <td>46</td>\n",
       "      <td>0</td>\n",
       "    </tr>\n",
       "  </tbody>\n",
       "</table>\n",
       "</div>"
      ],
      "text/plain": [
       "                                                                                                                                                                                                                                                                                                                                                                                                                                                                                                                                                                                                                                                                                                                                                                                                                                                                                                                                                                                                                                      content  \\\n",
       "1887                                                                                          Does this work for you Statement by the in the men and of the Department of State are mourning the murder of three people connected to Consulate General in One consulate employee was along with and the husband of a employee was also I offer my to the family and of these The safety and security of our personnel and their in and at the world is always our highest priority I have spoken with our Ambassador in and we are working Government of to do everything necessary to protect our people and to ensure that the horrendous are brought to justice These appalling on of our own State Department family are sadly part of a growing tragedy in They underscore the imperative of our continued commitment to work closely with of President to cripple the influence of at work in This is we must shoulder together particularly in border where strong of history common interest bind the and the people closely together   \n",
       "1818                                                                                                                                                                                                                                                                                                                                                                                                                                                                                                                                                                                                                                                                                                                                                                                                                                                                                                                                                                                                           For your situational awareness   \n",
       "756                                                                                                                                                                                                                                                                                                                                                                                                                                                                                                                                                                                                                                                                                                                                                                                                                                                                                                                    When will you be back so we can catch up Also who is your right hand on all of these I can work your office for a time   \n",
       "1186                                                                                                                                                                                                                                                                                                                                                                                                                                                                                                                                                                                                                                                                                                                                                                                                                                                                                                                  me know if I can be of any help to your department and will happy to do and please on behalf of me and supporting Thank   \n",
       "724                                                                                                                                                                                                                                                                                                                                                                                                                                                                                                                                                                                                                                                                                                                                                                                                                                                                                                                             state with this condolence cable for president He brother after a long illness Dear President Sincerely yours   \n",
       "618                                                                                                                                                                                                                                                                                                                                                                                                                                                                                                                                                                                                                                                                                                                                                                               be careful when this one Also that really cute thing that do of leaving their panties on one leg while making love Dare I ask what a girl is Yahoo Sponsor Free Join Now us click yahoo To from this group send an to Your use of Yahoo is subject to yahoo   \n",
       "1051                                                                                                                                                                                                                                                                                                                                                                                      am ARRIVE State Department am PRESIDENTIAL DAILY BRIEFING am Secretary Office am DAILY SMALL STAFF MEETING am Secretary Office am DAILY SENIOR STAFF MEETING am Secretary Conference Room am OFFICE TIME am Secretary Office am PRIVATE MEETING am Secretary Office am BRIEFING ON GLOBAL HEALTH INITIATIVE am Secretary Outer Office am WEEKLY DEVELOPMENT TEAM MEETING Secretary Outer Office OFFICE TIME Secretary Office DEPART State route National Airport ARRIVE National Airport DEPART National Airport via US Shuttle En route New York ARRIVE New York New York Airport DEPART New York route Private Residence ARRIVE Private Residence   \n",
       "2201                                                                                                                                                                                                                                                                                                     am DEPART Private Residence En mute Hotel am ARRIVE Hotel am MEETING FOREIGN MINISTER Suite am PERSONAL STAFF TIME am Private Suite am MEETING FOREIGN MINISTER am Suite am PERSONAL STAFF TIME am Suite MEETING FOREIGN MINISTER Suite STAFF Suite pin MEETING DEPUTY PRIME MINISTER FOREIGN MINISTER Suite STAFF Suite pin DEPART Hotel En route Airport ARRIVE Airport pin DEPART Airport via US En route Nat Airport ARRIVE National Airport DEPART National Airport En route State Department pin ARRIVE State Department OFFICE TIME Secretary Office PRIVATE MEETING BOB Secretary Office DINNER FOR INCOMING SECRETARY GENERAL pin Room th Floor DEPART State Department En route Private Residence ARRIVE Private Residence   \n",
       "927   from The Register To from this daily news update see the at the end of this message ADVERTISEMENT WIN to a FORMULA ONE GRAND Group business continuity expert driver of the team Click here to find out more and win For every new customer that between the Grand season Group will grant to a Grand hospitality event with us next season Mandrake go live at Will the public love them content Confirmed to ship up security in Surely not a reason to upgrade from Win You amaze us content Enterprise to pink slip per cent Decimation st century style content Personal Hardware plummet in No Mercy content Mobile spat price underdog content conference in pub Well drink to that content Net Security Security hacker Somebody had to say it content Vuln exposed by Outlook plug In Pretty Poor Privacy content Business part of content Daily Telegraph for libel Very short story content war From mug to smug content lined up for as take over Chelys content Another year of turmoil if from content business busine...   \n",
       "1489                                                                                                                                                                                                                                                                                                                                                                                                                                                                                                                                                                                                                                                                                                                                                                                            Hi Thanks for the help why do I have the feeling that will answer this one sorry if I disappointed you no not at all Faithful Red Hat user since Registered User counter li Get your free from Powered by Outblaze List list net mailman list   \n",
       "\n",
       "      unsecure_link_count  secure_link_count  numbers_count  word_count  fraud  \n",
       "1887                    0                  0              0         163      0  \n",
       "1818                    0                  0              0           4      0  \n",
       "756                     0                  0              0          28      0  \n",
       "1186                    0                  0             14          26      0  \n",
       "724                     0                  0              4          17      0  \n",
       "618                     2                  0              4          52      0  \n",
       "1051                    0                  0             48          95      0  \n",
       "2201                    0                  0             69         109      0  \n",
       "927                    18                  0             61         293      0  \n",
       "1489                    2                  0              2          46      0  "
      ]
     },
     "execution_count": 151,
     "metadata": {},
     "output_type": "execute_result"
    }
   ],
   "source": [
    "# Check the false positive predictions\n",
    "wrong_pred[wrong_pred['fraud'] == 0].sample(10)"
   ]
  },
  {
   "cell_type": "markdown",
   "id": "3131b926",
   "metadata": {},
   "source": [
    "Examining the messages the model falsely identified as fraud reveals several commonalities. The first of these is that many of the messages falsely flagged typical relate to governments or finances. This makes sense since many fraud emails relate to these subjects. In addition to this, some messages which relate to downloading files or opening links have also been falsely flagged. This also makes sense since fraud emails tend to encourage this type of activity to trick victims into providing sensitive information or download viruses. It may be difficult to train a model to differentiate these types of emails from truly fraudulent ones without incorporating information about the sender, but it is possible with more data and training that this could be improved."
   ]
  },
  {
   "cell_type": "code",
   "execution_count": 150,
   "id": "132097d3",
   "metadata": {
    "scrolled": false
   },
   "outputs": [
    {
     "name": "stdout",
     "output_type": "stream",
     "text": [
      "1/1 [==============================] - 0s 257ms/step\n"
     ]
    },
    {
     "data": {
      "text/plain": [
       "array([[0.8960545]], dtype=float32)"
      ]
     },
     "execution_count": 150,
     "metadata": {},
     "output_type": "execute_result"
    }
   ],
   "source": [
    "loaded_model.predict([\n",
    "    '''\n",
    "After the last annual calculation of your fiscal activity we have determined that you are eligible to receive a charge refund of $386.00 CAD.\n",
    "Please submit the charge refund form and allow us 3-5 business days in order to process it.\n",
    "A refund can be delayed for a variety of reasons. For example submitting invalid records or applying after the deadline.\n",
    "To complete your tax return form, please click here>> [LINK to fraudulent website has been disabled.]\n",
    "\n",
    "NOTE!\n",
    "For security reasons, we will record your ip-address and date.\n",
    "\n",
    "Thank you,\n",
    "Canada Revenue Agency\n",
    "\n",
    "    '''\n",
    "])"
   ]
  },
  {
   "cell_type": "markdown",
   "id": "bfef73d0",
   "metadata": {},
   "source": [
    "## Conclusion"
   ]
  },
  {
   "cell_type": "markdown",
   "id": "5d7af618",
   "metadata": {},
   "source": [
    "Despite the fact that the BERT model has slightly worse performance than the best tuned linear regression model, the BERT model is still the model that is recommended for use as a fraud email identifier. This is largely due to the fact that it is much more generally applicable due to its use of word embeddings. This is especially important since criminals who use these fraud schemes constantly change their strategies and if they become aware of specific words causing their emails to be flagged as fraud, they will simply stop using those words. The other advantage the BERT model has is the ability for it to distinguish the context of a word, thus just because a certain word appears, the model will not automatically identify the email as fraud. Thus, this BERT model represents a good start for a model that could be used for classifying an email as fraud or not, solely based on its text content."
   ]
  }
 ],
 "metadata": {
  "kernelspec": {
   "display_name": "Python [conda env:capstone]",
   "language": "python",
   "name": "conda-env-capstone-py"
  },
  "language_info": {
   "codemirror_mode": {
    "name": "ipython",
    "version": 3
   },
   "file_extension": ".py",
   "mimetype": "text/x-python",
   "name": "python",
   "nbconvert_exporter": "python",
   "pygments_lexer": "ipython3",
   "version": "3.10.10"
  },
  "toc": {
   "base_numbering": 1,
   "nav_menu": {},
   "number_sections": false,
   "sideBar": true,
   "skip_h1_title": false,
   "title_cell": "Table of Contents",
   "title_sidebar": "Contents",
   "toc_cell": true,
   "toc_position": {
    "height": "calc(100% - 180px)",
    "left": "10px",
    "top": "150px",
    "width": "288.797px"
   },
   "toc_section_display": true,
   "toc_window_display": true
  }
 },
 "nbformat": 4,
 "nbformat_minor": 5
}
