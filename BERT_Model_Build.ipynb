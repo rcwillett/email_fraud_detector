{
 "cells": [
  {
   "cell_type": "code",
   "execution_count": 10,
   "id": "768889ec-9115-4425-b597-48b937c1b9ef",
   "metadata": {},
   "outputs": [],
   "source": [
    "import pandas as pd\n",
    "import numpy as np\n",
    "\n",
    "# Model selection libraries\n",
    "from sklearn.model_selection import train_test_split\n",
    "\n",
    "# Model Evaluation Libraries\n",
    "from sklearn.metrics import accuracy_score\n",
    "\n",
    "# Import Tensor Flow and keras\n",
    "import tensorflow as tf\n",
    "from tensorflow import keras\n",
    "from tensorflow.keras import layers\n",
    "import tensorflow_hub as hub\n",
    "import tensorflow_text"
   ]
  },
  {
   "cell_type": "code",
   "execution_count": 11,
   "id": "5b43b1f2-e02c-4997-b455-4d25c47bbfbf",
   "metadata": {},
   "outputs": [],
   "source": [
    "# Import warnings and supress them\n",
    "import warnings\n",
    "warnings.filterwarnings('ignore')"
   ]
  },
  {
   "cell_type": "code",
   "execution_count": 12,
   "id": "d9059fde-f475-410c-8ddf-ccca9e618482",
   "metadata": {},
   "outputs": [],
   "source": [
    "# Configure Pandas to show all columns / rows\n",
    "pd.options.display.max_columns = 2000\n",
    "pd.options.display.max_rows = 2000\n",
    "# Set column max width larger\n",
    "pd.set_option('display.max_colwidth', 200)"
   ]
  },
  {
   "cell_type": "code",
   "execution_count": 14,
   "id": "09d34907",
   "metadata": {},
   "outputs": [],
   "source": [
    "# Load data from phishing email csv\n",
    "email_df = pd.read_csv('./data/phishing_all_data_clean_4.csv')"
   ]
  },
  {
   "cell_type": "code",
   "execution_count": 15,
   "id": "61da5a66",
   "metadata": {},
   "outputs": [],
   "source": [
    "X = email_df.drop(columns=['phishing'])\n",
    "y = email_df.loc[:, ['phishing']]"
   ]
  },
  {
   "cell_type": "code",
   "execution_count": 16,
   "id": "6ca42268",
   "metadata": {},
   "outputs": [],
   "source": [
    "X_remainder, X_test, y_remainder, y_test = train_test_split(\n",
    "    X,\n",
    "    y,\n",
    "    stratify=y,\n",
    "    random_state=1337,\n",
    "    test_size=0.2,\n",
    ")\n",
    "X_remainder.reset_index(drop=True, inplace=True)\n",
    "X_test.reset_index(drop=True, inplace=True)\n",
    "y_remainder.reset_index(drop=True, inplace=True)\n",
    "y_test.reset_index(drop=True, inplace=True)"
   ]
  },
  {
   "cell_type": "code",
   "execution_count": 17,
   "id": "a4261a4e",
   "metadata": {},
   "outputs": [],
   "source": [
    "X_train, X_validation, y_train, y_validation = train_test_split(\n",
    "    X_remainder,\n",
    "    y_remainder,\n",
    "    stratify=y_remainder,\n",
    "    random_state=1337,\n",
    "    test_size=0.2,\n",
    ")\n",
    "X_train.reset_index(drop=True, inplace=True)\n",
    "X_validation.reset_index(drop=True, inplace=True)\n",
    "y_train.reset_index(drop=True, inplace=True)\n",
    "y_validation.reset_index(drop=True, inplace=True)"
   ]
  },
  {
   "cell_type": "code",
   "execution_count": 18,
   "id": "b085d065",
   "metadata": {},
   "outputs": [
    {
     "name": "stdout",
     "output_type": "stream",
     "text": [
      "WARNING:tensorflow:Please fix your imports. Module tensorflow.python.training.tracking.data_structures has been moved to tensorflow.python.trackable.data_structures. The old module will be deleted in version 2.11.\n"
     ]
    }
   ],
   "source": [
    "preprocessor = hub.KerasLayer(\n",
    "    \"https://tfhub.dev/tensorflow/bert_en_uncased_preprocess/3\")\n",
    "encoder = hub.KerasLayer(\n",
    "    \"https://tfhub.dev/tensorflow/bert_en_uncased_L-12_H-768_A-12/4\",\n",
    "    trainable=False)\n",
    "# encoder_inputs = preprocessor(text_input)\n",
    "# outputs = encoder(encoder_inputs)\n",
    "# pooled_output = outputs[\"pooled_output\"]      # [batch_size, 768]."
   ]
  },
  {
   "cell_type": "code",
   "execution_count": 19,
   "id": "a22a97eb",
   "metadata": {},
   "outputs": [],
   "source": [
    "text_input = layers.Input(shape=(), dtype=tf.string)\n",
    "encoder_inputs = preprocessor(text_input)\n",
    "outputs = encoder(encoder_inputs)\n",
    "\n",
    "pooled_output = outputs[\"pooled_output\"]      # [batch_size, 768].\n",
    "sequence_output = outputs[\"sequence_output\"]  # [batch_size, seq_length, 768].\n",
    "relu_layer = layers.Dense(128, activation='relu')(pooled_output)\n",
    "output = layers.Dense(1, activation='sigmoid')(relu_layer)"
   ]
  },
  {
   "cell_type": "code",
   "execution_count": 16,
   "id": "ced736a8",
   "metadata": {},
   "outputs": [],
   "source": [
    "bert_model = tf.keras.Model(inputs=text_input, outputs=output)"
   ]
  },
  {
   "cell_type": "code",
   "execution_count": 17,
   "id": "93380af7",
   "metadata": {},
   "outputs": [],
   "source": [
    "bert_model.compile(\n",
    "    # Optimizer\n",
    "    optimizer=keras.optimizers.Adam(),\n",
    "    # Loss function to minimize\n",
    "    loss=keras.losses.BinaryCrossentropy(),\n",
    "    # Metric used to evaluate model\n",
    "    metrics=[keras.metrics.BinaryAccuracy()]\n",
    ")"
   ]
  },
  {
   "cell_type": "code",
   "execution_count": 20,
   "id": "772d40c1",
   "metadata": {
    "scrolled": true
   },
   "outputs": [
    {
     "name": "stdout",
     "output_type": "stream",
     "text": [
      "Epoch 1/5\n",
      "248/248 [==============================] - 2133s 9s/step - loss: 0.1412 - binary_accuracy: 0.9509\n",
      "Epoch 2/5\n",
      "248/248 [==============================] - 1053s 4s/step - loss: 0.1318 - binary_accuracy: 0.9521\n",
      "Epoch 3/5\n",
      "248/248 [==============================] - 11396s 46s/step - loss: 0.1254 - binary_accuracy: 0.9549\n",
      "Epoch 4/5\n",
      "248/248 [==============================] - 3075s 12s/step - loss: 0.1383 - binary_accuracy: 0.9514\n",
      "Epoch 5/5\n",
      "248/248 [==============================] - 9907s 40s/step - loss: 0.1153 - binary_accuracy: 0.9582\n"
     ]
    }
   ],
   "source": [
    "history = bert_model.fit(X_train['content'], y_train, epochs=5, verbose=1)"
   ]
  },
  {
   "cell_type": "code",
   "execution_count": 23,
   "id": "ee33a7cc",
   "metadata": {
    "scrolled": false
   },
   "outputs": [
    {
     "name": "stdout",
     "output_type": "stream",
     "text": [
      "62/62 [==============================] - 270s 4s/step\n"
     ]
    }
   ],
   "source": [
    "y_val_pred = bert_model.predict(X_validation['content'])"
   ]
  },
  {
   "cell_type": "code",
   "execution_count": 26,
   "id": "28e19c82",
   "metadata": {},
   "outputs": [],
   "source": [
    "y_val_bin_pred = np.where(y_val_pred >= 0.5, 1, 0)"
   ]
  },
  {
   "cell_type": "code",
   "execution_count": 27,
   "id": "9b2dee66",
   "metadata": {},
   "outputs": [
    {
     "data": {
      "text/plain": [
       "0.9647177419354839"
      ]
     },
     "execution_count": 27,
     "metadata": {},
     "output_type": "execute_result"
    }
   ],
   "source": [
    "accuracy_score(y_validation, y_val_bin_pred)"
   ]
  },
  {
   "cell_type": "code",
   "execution_count": 9,
   "id": "96332c01",
   "metadata": {},
   "outputs": [
    {
     "ename": "NameError",
     "evalue": "name 'bert_model' is not defined",
     "output_type": "error",
     "traceback": [
      "\u001b[0;31m---------------------------------------------------------------------------\u001b[0m",
      "\u001b[0;31mNameError\u001b[0m                                 Traceback (most recent call last)",
      "Cell \u001b[0;32mIn[9], line 1\u001b[0m\n\u001b[0;32m----> 1\u001b[0m \u001b[43mbert_model\u001b[49m\u001b[38;5;241m.\u001b[39mpredict([\u001b[38;5;124m\"\"\"\u001b[39m\n\u001b[1;32m      2\u001b[0m \u001b[38;5;124mbank\u001b[39m\n\u001b[1;32m      3\u001b[0m \u001b[38;5;124m\"\"\"\u001b[39m])\n",
      "\u001b[0;31mNameError\u001b[0m: name 'bert_model' is not defined"
     ]
    }
   ],
   "source": [
    "bert_model.predict([\"\"\"\n",
    "bank\n",
    "\"\"\"])"
   ]
  },
  {
   "cell_type": "code",
   "execution_count": null,
   "id": "abc16207",
   "metadata": {},
   "outputs": [],
   "source": []
  }
 ],
 "metadata": {
  "kernelspec": {
   "display_name": "Python [conda env:capstone]",
   "language": "python",
   "name": "conda-env-capstone-py"
  },
  "language_info": {
   "codemirror_mode": {
    "name": "ipython",
    "version": 3
   },
   "file_extension": ".py",
   "mimetype": "text/x-python",
   "name": "python",
   "nbconvert_exporter": "python",
   "pygments_lexer": "ipython3",
   "version": "3.10.10"
  },
  "toc": {
   "base_numbering": 1,
   "nav_menu": {},
   "number_sections": true,
   "sideBar": true,
   "skip_h1_title": false,
   "title_cell": "Table of Contents",
   "title_sidebar": "Contents",
   "toc_cell": false,
   "toc_position": {},
   "toc_section_display": true,
   "toc_window_display": false
  }
 },
 "nbformat": 4,
 "nbformat_minor": 5
}
