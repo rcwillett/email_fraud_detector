{
 "cells": [
  {
   "cell_type": "code",
   "execution_count": 6,
   "id": "d3e32d8e",
   "metadata": {},
   "outputs": [],
   "source": [
    "import pandas as pd\n",
    "import numpy as np\n",
    "import re"
   ]
  },
  {
   "cell_type": "code",
   "execution_count": 7,
   "id": "0e0eced5",
   "metadata": {},
   "outputs": [],
   "source": [
    "email_df = pd.read_csv('./data/phishing_all_data.csv')"
   ]
  },
  {
   "cell_type": "code",
   "execution_count": 8,
   "id": "1d36b444",
   "metadata": {},
   "outputs": [
    {
     "data": {
      "text/plain": [
       "(27419, 2)"
      ]
     },
     "execution_count": 8,
     "metadata": {},
     "output_type": "execute_result"
    }
   ],
   "source": [
    "email_df.shape"
   ]
  },
  {
   "cell_type": "code",
   "execution_count": 9,
   "id": "8e5bf19b",
   "metadata": {},
   "outputs": [
    {
     "data": {
      "text/plain": [
       "False    17787\n",
       "True      9632\n",
       "Name: phishing, dtype: int64"
      ]
     },
     "execution_count": 9,
     "metadata": {},
     "output_type": "execute_result"
    }
   ],
   "source": [
    "email_df['phishing'].value_counts()"
   ]
  },
  {
   "cell_type": "code",
   "execution_count": 23,
   "id": "0d425da1",
   "metadata": {},
   "outputs": [],
   "source": [
    "phishing_df = email_df[email_df['phishing']]\n",
    "ham_df = email_df[~email_df['phishing']]"
   ]
  },
  {
   "cell_type": "code",
   "execution_count": 25,
   "id": "cf9c19c6",
   "metadata": {},
   "outputs": [
    {
     "name": "stdout",
     "output_type": "stream",
     "text": [
      "Matches with 32.17400332225914% phishing emails and 25.33873053353573% ham emails\n"
     ]
    }
   ],
   "source": [
    "search_string = 'http:'\n",
    "phish_match = phishing_df[phishing_df['content'].str.find(search_string) > -1]\n",
    "ham_match = ham_df[ham_df['content'].str.find(search_string) > -1]\n",
    "phish_match_percent = phish_match.shape[0] / phishing_df.shape[0] * 100\n",
    "ham_match_percent = ham_match.shape[0] / ham_df.shape[0] * 100\n",
    "print(f'Matches with {phish_match_percent}% phishing emails and {ham_match_percent}% ham emails')"
   ]
  },
  {
   "cell_type": "code",
   "execution_count": null,
   "id": "52d4dda3",
   "metadata": {},
   "outputs": [],
   "source": []
  }
 ],
 "metadata": {
  "kernelspec": {
   "display_name": "myenv",
   "language": "python",
   "name": "myenv"
  },
  "language_info": {
   "codemirror_mode": {
    "name": "ipython",
    "version": 3
   },
   "file_extension": ".py",
   "mimetype": "text/x-python",
   "name": "python",
   "nbconvert_exporter": "python",
   "pygments_lexer": "ipython3",
   "version": "3.10.9"
  },
  "toc": {
   "base_numbering": 1,
   "nav_menu": {},
   "number_sections": true,
   "sideBar": true,
   "skip_h1_title": false,
   "title_cell": "Table of Contents",
   "title_sidebar": "Contents",
   "toc_cell": false,
   "toc_position": {},
   "toc_section_display": true,
   "toc_window_display": false
  }
 },
 "nbformat": 4,
 "nbformat_minor": 5
}
